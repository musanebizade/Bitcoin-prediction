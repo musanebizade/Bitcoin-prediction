{
  "nbformat": 4,
  "nbformat_minor": 0,
  "metadata": {
    "colab": {
      "provenance": [],
      "gpuType": "T4"
    },
    "kernelspec": {
      "name": "python3",
      "display_name": "Python 3"
    },
    "language_info": {
      "name": "python"
    },
    "accelerator": "GPU"
  },
  "cells": [
    {
      "cell_type": "code",
      "execution_count": null,
      "metadata": {
        "colab": {
          "base_uri": "https://localhost:8080/"
        },
        "id": "AFUP56OebK3P",
        "outputId": "ea2cb021-00dc-487a-d886-ae714e67fcdb"
      },
      "outputs": [
        {
          "output_type": "stream",
          "name": "stdout",
          "text": [
            "GPU 0: Tesla T4 (UUID: GPU-33b373d5-6eb0-78c5-5ea3-903098adeab0)\n"
          ]
        }
      ],
      "source": [
        "!nvidia-smi -L"
      ]
    },
    {
      "cell_type": "code",
      "source": [
        "# Import with pandas\n",
        "import pandas as pd\n",
        "# Parse dates and set date column to index\n",
        "df = pd.read_csv(\"/content/BTC_USD_2013-10-01_2021-05-18-CoinDesk.csv\",\n",
        "                 parse_dates=[\"Date\"],\n",
        "                 index_col=[\"Date\"]) # parse the date column (tell pandas column 1 is a datetime)\n",
        "df.head()"
      ],
      "metadata": {
        "colab": {
          "base_uri": "https://localhost:8080/",
          "height": 237
        },
        "id": "nxH0ZiJKb9YH",
        "outputId": "beed3526-60cb-4c1f-dd34-e22307361cac"
      },
      "execution_count": null,
      "outputs": [
        {
          "output_type": "execute_result",
          "data": {
            "text/plain": [
              "           Currency  Closing Price (USD)  24h Open (USD)  24h High (USD)  \\\n",
              "Date                                                                       \n",
              "2013-10-01      BTC            123.65499       124.30466       124.75166   \n",
              "2013-10-02      BTC            125.45500       123.65499       125.75850   \n",
              "2013-10-03      BTC            108.58483       125.45500       125.66566   \n",
              "2013-10-04      BTC            118.67466       108.58483       118.67500   \n",
              "2013-10-05      BTC            121.33866       118.67466       121.93633   \n",
              "\n",
              "            24h Low (USD)  \n",
              "Date                       \n",
              "2013-10-01      122.56349  \n",
              "2013-10-02      123.63383  \n",
              "2013-10-03       83.32833  \n",
              "2013-10-04      107.05816  \n",
              "2013-10-05      118.00566  "
            ],
            "text/html": [
              "\n",
              "  <div id=\"df-56d9d9d4-1721-4a6c-838f-38261d984a69\" class=\"colab-df-container\">\n",
              "    <div>\n",
              "<style scoped>\n",
              "    .dataframe tbody tr th:only-of-type {\n",
              "        vertical-align: middle;\n",
              "    }\n",
              "\n",
              "    .dataframe tbody tr th {\n",
              "        vertical-align: top;\n",
              "    }\n",
              "\n",
              "    .dataframe thead th {\n",
              "        text-align: right;\n",
              "    }\n",
              "</style>\n",
              "<table border=\"1\" class=\"dataframe\">\n",
              "  <thead>\n",
              "    <tr style=\"text-align: right;\">\n",
              "      <th></th>\n",
              "      <th>Currency</th>\n",
              "      <th>Closing Price (USD)</th>\n",
              "      <th>24h Open (USD)</th>\n",
              "      <th>24h High (USD)</th>\n",
              "      <th>24h Low (USD)</th>\n",
              "    </tr>\n",
              "    <tr>\n",
              "      <th>Date</th>\n",
              "      <th></th>\n",
              "      <th></th>\n",
              "      <th></th>\n",
              "      <th></th>\n",
              "      <th></th>\n",
              "    </tr>\n",
              "  </thead>\n",
              "  <tbody>\n",
              "    <tr>\n",
              "      <th>2013-10-01</th>\n",
              "      <td>BTC</td>\n",
              "      <td>123.65499</td>\n",
              "      <td>124.30466</td>\n",
              "      <td>124.75166</td>\n",
              "      <td>122.56349</td>\n",
              "    </tr>\n",
              "    <tr>\n",
              "      <th>2013-10-02</th>\n",
              "      <td>BTC</td>\n",
              "      <td>125.45500</td>\n",
              "      <td>123.65499</td>\n",
              "      <td>125.75850</td>\n",
              "      <td>123.63383</td>\n",
              "    </tr>\n",
              "    <tr>\n",
              "      <th>2013-10-03</th>\n",
              "      <td>BTC</td>\n",
              "      <td>108.58483</td>\n",
              "      <td>125.45500</td>\n",
              "      <td>125.66566</td>\n",
              "      <td>83.32833</td>\n",
              "    </tr>\n",
              "    <tr>\n",
              "      <th>2013-10-04</th>\n",
              "      <td>BTC</td>\n",
              "      <td>118.67466</td>\n",
              "      <td>108.58483</td>\n",
              "      <td>118.67500</td>\n",
              "      <td>107.05816</td>\n",
              "    </tr>\n",
              "    <tr>\n",
              "      <th>2013-10-05</th>\n",
              "      <td>BTC</td>\n",
              "      <td>121.33866</td>\n",
              "      <td>118.67466</td>\n",
              "      <td>121.93633</td>\n",
              "      <td>118.00566</td>\n",
              "    </tr>\n",
              "  </tbody>\n",
              "</table>\n",
              "</div>\n",
              "    <div class=\"colab-df-buttons\">\n",
              "\n",
              "  <div class=\"colab-df-container\">\n",
              "    <button class=\"colab-df-convert\" onclick=\"convertToInteractive('df-56d9d9d4-1721-4a6c-838f-38261d984a69')\"\n",
              "            title=\"Convert this dataframe to an interactive table.\"\n",
              "            style=\"display:none;\">\n",
              "\n",
              "  <svg xmlns=\"http://www.w3.org/2000/svg\" height=\"24px\" viewBox=\"0 -960 960 960\">\n",
              "    <path d=\"M120-120v-720h720v720H120Zm60-500h600v-160H180v160Zm220 220h160v-160H400v160Zm0 220h160v-160H400v160ZM180-400h160v-160H180v160Zm440 0h160v-160H620v160ZM180-180h160v-160H180v160Zm440 0h160v-160H620v160Z\"/>\n",
              "  </svg>\n",
              "    </button>\n",
              "\n",
              "  <style>\n",
              "    .colab-df-container {\n",
              "      display:flex;\n",
              "      gap: 12px;\n",
              "    }\n",
              "\n",
              "    .colab-df-convert {\n",
              "      background-color: #E8F0FE;\n",
              "      border: none;\n",
              "      border-radius: 50%;\n",
              "      cursor: pointer;\n",
              "      display: none;\n",
              "      fill: #1967D2;\n",
              "      height: 32px;\n",
              "      padding: 0 0 0 0;\n",
              "      width: 32px;\n",
              "    }\n",
              "\n",
              "    .colab-df-convert:hover {\n",
              "      background-color: #E2EBFA;\n",
              "      box-shadow: 0px 1px 2px rgba(60, 64, 67, 0.3), 0px 1px 3px 1px rgba(60, 64, 67, 0.15);\n",
              "      fill: #174EA6;\n",
              "    }\n",
              "\n",
              "    .colab-df-buttons div {\n",
              "      margin-bottom: 4px;\n",
              "    }\n",
              "\n",
              "    [theme=dark] .colab-df-convert {\n",
              "      background-color: #3B4455;\n",
              "      fill: #D2E3FC;\n",
              "    }\n",
              "\n",
              "    [theme=dark] .colab-df-convert:hover {\n",
              "      background-color: #434B5C;\n",
              "      box-shadow: 0px 1px 3px 1px rgba(0, 0, 0, 0.15);\n",
              "      filter: drop-shadow(0px 1px 2px rgba(0, 0, 0, 0.3));\n",
              "      fill: #FFFFFF;\n",
              "    }\n",
              "  </style>\n",
              "\n",
              "    <script>\n",
              "      const buttonEl =\n",
              "        document.querySelector('#df-56d9d9d4-1721-4a6c-838f-38261d984a69 button.colab-df-convert');\n",
              "      buttonEl.style.display =\n",
              "        google.colab.kernel.accessAllowed ? 'block' : 'none';\n",
              "\n",
              "      async function convertToInteractive(key) {\n",
              "        const element = document.querySelector('#df-56d9d9d4-1721-4a6c-838f-38261d984a69');\n",
              "        const dataTable =\n",
              "          await google.colab.kernel.invokeFunction('convertToInteractive',\n",
              "                                                    [key], {});\n",
              "        if (!dataTable) return;\n",
              "\n",
              "        const docLinkHtml = 'Like what you see? Visit the ' +\n",
              "          '<a target=\"_blank\" href=https://colab.research.google.com/notebooks/data_table.ipynb>data table notebook</a>'\n",
              "          + ' to learn more about interactive tables.';\n",
              "        element.innerHTML = '';\n",
              "        dataTable['output_type'] = 'display_data';\n",
              "        await google.colab.output.renderOutput(dataTable, element);\n",
              "        const docLink = document.createElement('div');\n",
              "        docLink.innerHTML = docLinkHtml;\n",
              "        element.appendChild(docLink);\n",
              "      }\n",
              "    </script>\n",
              "  </div>\n",
              "\n",
              "\n",
              "<div id=\"df-936ffe59-2b70-409e-b29b-3221651e9b71\">\n",
              "  <button class=\"colab-df-quickchart\" onclick=\"quickchart('df-936ffe59-2b70-409e-b29b-3221651e9b71')\"\n",
              "            title=\"Suggest charts\"\n",
              "            style=\"display:none;\">\n",
              "\n",
              "<svg xmlns=\"http://www.w3.org/2000/svg\" height=\"24px\"viewBox=\"0 0 24 24\"\n",
              "     width=\"24px\">\n",
              "    <g>\n",
              "        <path d=\"M19 3H5c-1.1 0-2 .9-2 2v14c0 1.1.9 2 2 2h14c1.1 0 2-.9 2-2V5c0-1.1-.9-2-2-2zM9 17H7v-7h2v7zm4 0h-2V7h2v10zm4 0h-2v-4h2v4z\"/>\n",
              "    </g>\n",
              "</svg>\n",
              "  </button>\n",
              "\n",
              "<style>\n",
              "  .colab-df-quickchart {\n",
              "      --bg-color: #E8F0FE;\n",
              "      --fill-color: #1967D2;\n",
              "      --hover-bg-color: #E2EBFA;\n",
              "      --hover-fill-color: #174EA6;\n",
              "      --disabled-fill-color: #AAA;\n",
              "      --disabled-bg-color: #DDD;\n",
              "  }\n",
              "\n",
              "  [theme=dark] .colab-df-quickchart {\n",
              "      --bg-color: #3B4455;\n",
              "      --fill-color: #D2E3FC;\n",
              "      --hover-bg-color: #434B5C;\n",
              "      --hover-fill-color: #FFFFFF;\n",
              "      --disabled-bg-color: #3B4455;\n",
              "      --disabled-fill-color: #666;\n",
              "  }\n",
              "\n",
              "  .colab-df-quickchart {\n",
              "    background-color: var(--bg-color);\n",
              "    border: none;\n",
              "    border-radius: 50%;\n",
              "    cursor: pointer;\n",
              "    display: none;\n",
              "    fill: var(--fill-color);\n",
              "    height: 32px;\n",
              "    padding: 0;\n",
              "    width: 32px;\n",
              "  }\n",
              "\n",
              "  .colab-df-quickchart:hover {\n",
              "    background-color: var(--hover-bg-color);\n",
              "    box-shadow: 0 1px 2px rgba(60, 64, 67, 0.3), 0 1px 3px 1px rgba(60, 64, 67, 0.15);\n",
              "    fill: var(--button-hover-fill-color);\n",
              "  }\n",
              "\n",
              "  .colab-df-quickchart-complete:disabled,\n",
              "  .colab-df-quickchart-complete:disabled:hover {\n",
              "    background-color: var(--disabled-bg-color);\n",
              "    fill: var(--disabled-fill-color);\n",
              "    box-shadow: none;\n",
              "  }\n",
              "\n",
              "  .colab-df-spinner {\n",
              "    border: 2px solid var(--fill-color);\n",
              "    border-color: transparent;\n",
              "    border-bottom-color: var(--fill-color);\n",
              "    animation:\n",
              "      spin 1s steps(1) infinite;\n",
              "  }\n",
              "\n",
              "  @keyframes spin {\n",
              "    0% {\n",
              "      border-color: transparent;\n",
              "      border-bottom-color: var(--fill-color);\n",
              "      border-left-color: var(--fill-color);\n",
              "    }\n",
              "    20% {\n",
              "      border-color: transparent;\n",
              "      border-left-color: var(--fill-color);\n",
              "      border-top-color: var(--fill-color);\n",
              "    }\n",
              "    30% {\n",
              "      border-color: transparent;\n",
              "      border-left-color: var(--fill-color);\n",
              "      border-top-color: var(--fill-color);\n",
              "      border-right-color: var(--fill-color);\n",
              "    }\n",
              "    40% {\n",
              "      border-color: transparent;\n",
              "      border-right-color: var(--fill-color);\n",
              "      border-top-color: var(--fill-color);\n",
              "    }\n",
              "    60% {\n",
              "      border-color: transparent;\n",
              "      border-right-color: var(--fill-color);\n",
              "    }\n",
              "    80% {\n",
              "      border-color: transparent;\n",
              "      border-right-color: var(--fill-color);\n",
              "      border-bottom-color: var(--fill-color);\n",
              "    }\n",
              "    90% {\n",
              "      border-color: transparent;\n",
              "      border-bottom-color: var(--fill-color);\n",
              "    }\n",
              "  }\n",
              "</style>\n",
              "\n",
              "  <script>\n",
              "    async function quickchart(key) {\n",
              "      const quickchartButtonEl =\n",
              "        document.querySelector('#' + key + ' button');\n",
              "      quickchartButtonEl.disabled = true;  // To prevent multiple clicks.\n",
              "      quickchartButtonEl.classList.add('colab-df-spinner');\n",
              "      try {\n",
              "        const charts = await google.colab.kernel.invokeFunction(\n",
              "            'suggestCharts', [key], {});\n",
              "      } catch (error) {\n",
              "        console.error('Error during call to suggestCharts:', error);\n",
              "      }\n",
              "      quickchartButtonEl.classList.remove('colab-df-spinner');\n",
              "      quickchartButtonEl.classList.add('colab-df-quickchart-complete');\n",
              "    }\n",
              "    (() => {\n",
              "      let quickchartButtonEl =\n",
              "        document.querySelector('#df-936ffe59-2b70-409e-b29b-3221651e9b71 button');\n",
              "      quickchartButtonEl.style.display =\n",
              "        google.colab.kernel.accessAllowed ? 'block' : 'none';\n",
              "    })();\n",
              "  </script>\n",
              "</div>\n",
              "\n",
              "    </div>\n",
              "  </div>\n"
            ]
          },
          "metadata": {},
          "execution_count": 2
        }
      ]
    },
    {
      "cell_type": "code",
      "source": [
        "df.info()"
      ],
      "metadata": {
        "colab": {
          "base_uri": "https://localhost:8080/"
        },
        "id": "ye1whqW5cIlT",
        "outputId": "847531ed-59a4-46de-d49f-09cda24e76ba"
      },
      "execution_count": null,
      "outputs": [
        {
          "output_type": "stream",
          "name": "stdout",
          "text": [
            "<class 'pandas.core.frame.DataFrame'>\n",
            "DatetimeIndex: 2787 entries, 2013-10-01 to 2021-05-18\n",
            "Data columns (total 5 columns):\n",
            " #   Column               Non-Null Count  Dtype  \n",
            "---  ------               --------------  -----  \n",
            " 0   Currency             2787 non-null   object \n",
            " 1   Closing Price (USD)  2787 non-null   float64\n",
            " 2   24h Open (USD)       2787 non-null   float64\n",
            " 3   24h High (USD)       2787 non-null   float64\n",
            " 4   24h Low (USD)        2787 non-null   float64\n",
            "dtypes: float64(4), object(1)\n",
            "memory usage: 130.6+ KB\n"
          ]
        }
      ]
    },
    {
      "cell_type": "code",
      "source": [
        "len(df)"
      ],
      "metadata": {
        "colab": {
          "base_uri": "https://localhost:8080/"
        },
        "id": "nEpIx7rxcK0J",
        "outputId": "551222ff-9b92-435c-8722-28c529157a9a"
      },
      "execution_count": null,
      "outputs": [
        {
          "output_type": "execute_result",
          "data": {
            "text/plain": [
              "2787"
            ]
          },
          "metadata": {},
          "execution_count": 4
        }
      ]
    },
    {
      "cell_type": "code",
      "source": [
        "bitcoin_prices = pd.DataFrame(df[\"Closing Price (USD)\"]).rename(columns={\"Closing Price (USD)\": \"Price\"})\n",
        "bitcoin_prices.head()"
      ],
      "metadata": {
        "colab": {
          "base_uri": "https://localhost:8080/",
          "height": 237
        },
        "id": "DHfukxcfdpOE",
        "outputId": "e8000336-448e-4930-d344-84964acc3930"
      },
      "execution_count": null,
      "outputs": [
        {
          "output_type": "execute_result",
          "data": {
            "text/plain": [
              "                Price\n",
              "Date                 \n",
              "2013-10-01  123.65499\n",
              "2013-10-02  125.45500\n",
              "2013-10-03  108.58483\n",
              "2013-10-04  118.67466\n",
              "2013-10-05  121.33866"
            ],
            "text/html": [
              "\n",
              "  <div id=\"df-ddfeec21-94ca-464a-b7c8-38879f5d28c1\" class=\"colab-df-container\">\n",
              "    <div>\n",
              "<style scoped>\n",
              "    .dataframe tbody tr th:only-of-type {\n",
              "        vertical-align: middle;\n",
              "    }\n",
              "\n",
              "    .dataframe tbody tr th {\n",
              "        vertical-align: top;\n",
              "    }\n",
              "\n",
              "    .dataframe thead th {\n",
              "        text-align: right;\n",
              "    }\n",
              "</style>\n",
              "<table border=\"1\" class=\"dataframe\">\n",
              "  <thead>\n",
              "    <tr style=\"text-align: right;\">\n",
              "      <th></th>\n",
              "      <th>Price</th>\n",
              "    </tr>\n",
              "    <tr>\n",
              "      <th>Date</th>\n",
              "      <th></th>\n",
              "    </tr>\n",
              "  </thead>\n",
              "  <tbody>\n",
              "    <tr>\n",
              "      <th>2013-10-01</th>\n",
              "      <td>123.65499</td>\n",
              "    </tr>\n",
              "    <tr>\n",
              "      <th>2013-10-02</th>\n",
              "      <td>125.45500</td>\n",
              "    </tr>\n",
              "    <tr>\n",
              "      <th>2013-10-03</th>\n",
              "      <td>108.58483</td>\n",
              "    </tr>\n",
              "    <tr>\n",
              "      <th>2013-10-04</th>\n",
              "      <td>118.67466</td>\n",
              "    </tr>\n",
              "    <tr>\n",
              "      <th>2013-10-05</th>\n",
              "      <td>121.33866</td>\n",
              "    </tr>\n",
              "  </tbody>\n",
              "</table>\n",
              "</div>\n",
              "    <div class=\"colab-df-buttons\">\n",
              "\n",
              "  <div class=\"colab-df-container\">\n",
              "    <button class=\"colab-df-convert\" onclick=\"convertToInteractive('df-ddfeec21-94ca-464a-b7c8-38879f5d28c1')\"\n",
              "            title=\"Convert this dataframe to an interactive table.\"\n",
              "            style=\"display:none;\">\n",
              "\n",
              "  <svg xmlns=\"http://www.w3.org/2000/svg\" height=\"24px\" viewBox=\"0 -960 960 960\">\n",
              "    <path d=\"M120-120v-720h720v720H120Zm60-500h600v-160H180v160Zm220 220h160v-160H400v160Zm0 220h160v-160H400v160ZM180-400h160v-160H180v160Zm440 0h160v-160H620v160ZM180-180h160v-160H180v160Zm440 0h160v-160H620v160Z\"/>\n",
              "  </svg>\n",
              "    </button>\n",
              "\n",
              "  <style>\n",
              "    .colab-df-container {\n",
              "      display:flex;\n",
              "      gap: 12px;\n",
              "    }\n",
              "\n",
              "    .colab-df-convert {\n",
              "      background-color: #E8F0FE;\n",
              "      border: none;\n",
              "      border-radius: 50%;\n",
              "      cursor: pointer;\n",
              "      display: none;\n",
              "      fill: #1967D2;\n",
              "      height: 32px;\n",
              "      padding: 0 0 0 0;\n",
              "      width: 32px;\n",
              "    }\n",
              "\n",
              "    .colab-df-convert:hover {\n",
              "      background-color: #E2EBFA;\n",
              "      box-shadow: 0px 1px 2px rgba(60, 64, 67, 0.3), 0px 1px 3px 1px rgba(60, 64, 67, 0.15);\n",
              "      fill: #174EA6;\n",
              "    }\n",
              "\n",
              "    .colab-df-buttons div {\n",
              "      margin-bottom: 4px;\n",
              "    }\n",
              "\n",
              "    [theme=dark] .colab-df-convert {\n",
              "      background-color: #3B4455;\n",
              "      fill: #D2E3FC;\n",
              "    }\n",
              "\n",
              "    [theme=dark] .colab-df-convert:hover {\n",
              "      background-color: #434B5C;\n",
              "      box-shadow: 0px 1px 3px 1px rgba(0, 0, 0, 0.15);\n",
              "      filter: drop-shadow(0px 1px 2px rgba(0, 0, 0, 0.3));\n",
              "      fill: #FFFFFF;\n",
              "    }\n",
              "  </style>\n",
              "\n",
              "    <script>\n",
              "      const buttonEl =\n",
              "        document.querySelector('#df-ddfeec21-94ca-464a-b7c8-38879f5d28c1 button.colab-df-convert');\n",
              "      buttonEl.style.display =\n",
              "        google.colab.kernel.accessAllowed ? 'block' : 'none';\n",
              "\n",
              "      async function convertToInteractive(key) {\n",
              "        const element = document.querySelector('#df-ddfeec21-94ca-464a-b7c8-38879f5d28c1');\n",
              "        const dataTable =\n",
              "          await google.colab.kernel.invokeFunction('convertToInteractive',\n",
              "                                                    [key], {});\n",
              "        if (!dataTable) return;\n",
              "\n",
              "        const docLinkHtml = 'Like what you see? Visit the ' +\n",
              "          '<a target=\"_blank\" href=https://colab.research.google.com/notebooks/data_table.ipynb>data table notebook</a>'\n",
              "          + ' to learn more about interactive tables.';\n",
              "        element.innerHTML = '';\n",
              "        dataTable['output_type'] = 'display_data';\n",
              "        await google.colab.output.renderOutput(dataTable, element);\n",
              "        const docLink = document.createElement('div');\n",
              "        docLink.innerHTML = docLinkHtml;\n",
              "        element.appendChild(docLink);\n",
              "      }\n",
              "    </script>\n",
              "  </div>\n",
              "\n",
              "\n",
              "<div id=\"df-6a6e1797-3d65-4436-831b-40a26fa3b79c\">\n",
              "  <button class=\"colab-df-quickchart\" onclick=\"quickchart('df-6a6e1797-3d65-4436-831b-40a26fa3b79c')\"\n",
              "            title=\"Suggest charts\"\n",
              "            style=\"display:none;\">\n",
              "\n",
              "<svg xmlns=\"http://www.w3.org/2000/svg\" height=\"24px\"viewBox=\"0 0 24 24\"\n",
              "     width=\"24px\">\n",
              "    <g>\n",
              "        <path d=\"M19 3H5c-1.1 0-2 .9-2 2v14c0 1.1.9 2 2 2h14c1.1 0 2-.9 2-2V5c0-1.1-.9-2-2-2zM9 17H7v-7h2v7zm4 0h-2V7h2v10zm4 0h-2v-4h2v4z\"/>\n",
              "    </g>\n",
              "</svg>\n",
              "  </button>\n",
              "\n",
              "<style>\n",
              "  .colab-df-quickchart {\n",
              "      --bg-color: #E8F0FE;\n",
              "      --fill-color: #1967D2;\n",
              "      --hover-bg-color: #E2EBFA;\n",
              "      --hover-fill-color: #174EA6;\n",
              "      --disabled-fill-color: #AAA;\n",
              "      --disabled-bg-color: #DDD;\n",
              "  }\n",
              "\n",
              "  [theme=dark] .colab-df-quickchart {\n",
              "      --bg-color: #3B4455;\n",
              "      --fill-color: #D2E3FC;\n",
              "      --hover-bg-color: #434B5C;\n",
              "      --hover-fill-color: #FFFFFF;\n",
              "      --disabled-bg-color: #3B4455;\n",
              "      --disabled-fill-color: #666;\n",
              "  }\n",
              "\n",
              "  .colab-df-quickchart {\n",
              "    background-color: var(--bg-color);\n",
              "    border: none;\n",
              "    border-radius: 50%;\n",
              "    cursor: pointer;\n",
              "    display: none;\n",
              "    fill: var(--fill-color);\n",
              "    height: 32px;\n",
              "    padding: 0;\n",
              "    width: 32px;\n",
              "  }\n",
              "\n",
              "  .colab-df-quickchart:hover {\n",
              "    background-color: var(--hover-bg-color);\n",
              "    box-shadow: 0 1px 2px rgba(60, 64, 67, 0.3), 0 1px 3px 1px rgba(60, 64, 67, 0.15);\n",
              "    fill: var(--button-hover-fill-color);\n",
              "  }\n",
              "\n",
              "  .colab-df-quickchart-complete:disabled,\n",
              "  .colab-df-quickchart-complete:disabled:hover {\n",
              "    background-color: var(--disabled-bg-color);\n",
              "    fill: var(--disabled-fill-color);\n",
              "    box-shadow: none;\n",
              "  }\n",
              "\n",
              "  .colab-df-spinner {\n",
              "    border: 2px solid var(--fill-color);\n",
              "    border-color: transparent;\n",
              "    border-bottom-color: var(--fill-color);\n",
              "    animation:\n",
              "      spin 1s steps(1) infinite;\n",
              "  }\n",
              "\n",
              "  @keyframes spin {\n",
              "    0% {\n",
              "      border-color: transparent;\n",
              "      border-bottom-color: var(--fill-color);\n",
              "      border-left-color: var(--fill-color);\n",
              "    }\n",
              "    20% {\n",
              "      border-color: transparent;\n",
              "      border-left-color: var(--fill-color);\n",
              "      border-top-color: var(--fill-color);\n",
              "    }\n",
              "    30% {\n",
              "      border-color: transparent;\n",
              "      border-left-color: var(--fill-color);\n",
              "      border-top-color: var(--fill-color);\n",
              "      border-right-color: var(--fill-color);\n",
              "    }\n",
              "    40% {\n",
              "      border-color: transparent;\n",
              "      border-right-color: var(--fill-color);\n",
              "      border-top-color: var(--fill-color);\n",
              "    }\n",
              "    60% {\n",
              "      border-color: transparent;\n",
              "      border-right-color: var(--fill-color);\n",
              "    }\n",
              "    80% {\n",
              "      border-color: transparent;\n",
              "      border-right-color: var(--fill-color);\n",
              "      border-bottom-color: var(--fill-color);\n",
              "    }\n",
              "    90% {\n",
              "      border-color: transparent;\n",
              "      border-bottom-color: var(--fill-color);\n",
              "    }\n",
              "  }\n",
              "</style>\n",
              "\n",
              "  <script>\n",
              "    async function quickchart(key) {\n",
              "      const quickchartButtonEl =\n",
              "        document.querySelector('#' + key + ' button');\n",
              "      quickchartButtonEl.disabled = true;  // To prevent multiple clicks.\n",
              "      quickchartButtonEl.classList.add('colab-df-spinner');\n",
              "      try {\n",
              "        const charts = await google.colab.kernel.invokeFunction(\n",
              "            'suggestCharts', [key], {});\n",
              "      } catch (error) {\n",
              "        console.error('Error during call to suggestCharts:', error);\n",
              "      }\n",
              "      quickchartButtonEl.classList.remove('colab-df-spinner');\n",
              "      quickchartButtonEl.classList.add('colab-df-quickchart-complete');\n",
              "    }\n",
              "    (() => {\n",
              "      let quickchartButtonEl =\n",
              "        document.querySelector('#df-6a6e1797-3d65-4436-831b-40a26fa3b79c button');\n",
              "      quickchartButtonEl.style.display =\n",
              "        google.colab.kernel.accessAllowed ? 'block' : 'none';\n",
              "    })();\n",
              "  </script>\n",
              "</div>\n",
              "\n",
              "    </div>\n",
              "  </div>\n"
            ]
          },
          "metadata": {},
          "execution_count": 5
        }
      ]
    },
    {
      "cell_type": "code",
      "source": [
        "import matplotlib.pyplot as plt\n",
        "bitcoin_prices.plot(figsize=(10, 7))\n",
        "plt.ylabel(\"BTC Price\")\n",
        "plt.title(\"Price of Bitcoin from 1 Oct 2013 to 18 May 2021\", fontsize=16)\n",
        "plt.legend(fontsize=14)\n",
        "plt.show()"
      ],
      "metadata": {
        "colab": {
          "base_uri": "https://localhost:8080/",
          "height": 643
        },
        "id": "1KCEXAdVeaoC",
        "outputId": "4bc16acf-15c6-45d5-c20d-032473359895"
      },
      "execution_count": null,
      "outputs": [
        {
          "output_type": "display_data",
          "data": {
            "text/plain": [
              "<Figure size 1000x700 with 1 Axes>"
            ],
            "image/png": "[encoded data removed]"
          },
          "metadata": {}
        }
      ]
    },
    {
      "cell_type": "markdown",
      "source": [
        "# Create train and test sets for time series (the wrong way)"
      ],
      "metadata": {
        "id": "X0lqtAUoee32"
      }
    },
    {
      "cell_type": "code",
      "source": [
        "timesteps = bitcoin_prices.index.to_numpy()\n",
        "prices = bitcoin_prices[\"Price\"].to_numpy()\n",
        "\n",
        "timesteps[:10], prices[:10]"
      ],
      "metadata": {
        "colab": {
          "base_uri": "https://localhost:8080/"
        },
        "id": "-nSwOAu8fVfU",
        "outputId": "75398a70-be60-4f88-d613-ce861c875f4a"
      },
      "execution_count": null,
      "outputs": [
        {
          "output_type": "execute_result",
          "data": {
            "text/plain": [
              "(array(['2013-10-01T00:00:00.000000000', '2013-10-02T00:00:00.000000000',\n",
              "        '2013-10-03T00:00:00.000000000', '2013-10-04T00:00:00.000000000',\n",
              "        '2013-10-05T00:00:00.000000000', '2013-10-06T00:00:00.000000000',\n",
              "        '2013-10-07T00:00:00.000000000', '2013-10-08T00:00:00.000000000',\n",
              "        '2013-10-09T00:00:00.000000000', '2013-10-10T00:00:00.000000000'],\n",
              "       dtype='datetime64[ns]'),\n",
              " array([123.65499, 125.455  , 108.58483, 118.67466, 121.33866, 120.65533,\n",
              "        121.795  , 123.033  , 124.049  , 125.96116]))"
            ]
          },
          "metadata": {},
          "execution_count": 7
        }
      ]
    },
    {
      "cell_type": "code",
      "source": [
        "# Wrong way to make train/test sets for time series\n",
        "from sklearn.model_selection import train_test_split\n",
        "\n",
        "X_train, X_test, y_train, y_test = train_test_split(timesteps, # dates\n",
        "                                                    prices, # prices\n",
        "                                                    test_size=0.2,\n",
        "                                                    random_state=42)\n",
        "X_train.shape, X_test.shape, y_train.shape, y_test.shape"
      ],
      "metadata": {
        "colab": {
          "base_uri": "https://localhost:8080/"
        },
        "id": "XzJR6_O5fZLu",
        "outputId": "68596c77-dc13-4e4a-c69b-ff686d38b29b"
      },
      "execution_count": null,
      "outputs": [
        {
          "output_type": "execute_result",
          "data": {
            "text/plain": [
              "((2229,), (558,), (2229,), (558,))"
            ]
          },
          "metadata": {},
          "execution_count": 8
        }
      ]
    },
    {
      "cell_type": "code",
      "source": [
        "plt.figure(figsize=(10, 7))\n",
        "plt.scatter(X_train, y_train, s=5, label=\"Train data\")\n",
        "plt.scatter(X_test, y_test, s=5, label=\"Test data\")\n",
        "plt.xlabel(\"Date\")\n",
        "plt.ylabel(\"BTC Price\")\n",
        "plt.legend(fontsize=14)\n",
        "plt.show()"
      ],
      "metadata": {
        "colab": {
          "base_uri": "https://localhost:8080/",
          "height": 619
        },
        "id": "Uby3rho-f0-r",
        "outputId": "c5325d1a-7aae-47a2-f2ab-ae32fa61beaf"
      },
      "execution_count": null,
      "outputs": [
        {
          "output_type": "display_data",
          "data": {
            "text/plain": [
              "<Figure size 1000x700 with 1 Axes>"
            ],
            "image/png": "[encoded data removed]"
          },
          "metadata": {}
        }
      ]
    },
    {
      "cell_type": "code",
      "source": [
        "split_size = int(0.8 * len(prices)) # 80% train, 20% test\n",
        "\n",
        "X_train, y_train = timesteps[:split_size], prices[:split_size]\n",
        "\n",
        "X_test, y_test = timesteps[split_size:], prices[split_size:]\n",
        "\n",
        "len(X_train), len(X_test), len(y_train), len(y_test)"
      ],
      "metadata": {
        "colab": {
          "base_uri": "https://localhost:8080/"
        },
        "id": "2GUmchTEf8N5",
        "outputId": "b562124f-f74b-497f-a547-28267f4416bf"
      },
      "execution_count": null,
      "outputs": [
        {
          "output_type": "execute_result",
          "data": {
            "text/plain": [
              "(2229, 558, 2229, 558)"
            ]
          },
          "metadata": {},
          "execution_count": 10
        }
      ]
    },
    {
      "cell_type": "code",
      "source": [
        "plt.figure(figsize=(10, 7))\n",
        "plt.scatter(X_train, y_train, s=5, label=\"Train data\")\n",
        "plt.scatter(X_test, y_test, s=5, label=\"Test data\")\n",
        "plt.xlabel(\"Date\")\n",
        "plt.ylabel(\"BTC Price\")\n",
        "plt.legend(fontsize=14)\n",
        "plt.show()"
      ],
      "metadata": {
        "colab": {
          "base_uri": "https://localhost:8080/",
          "height": 619
        },
        "id": "qeEsmZ3ClC5S",
        "outputId": "769e478d-600f-44f4-e4bf-74b85b7fa477"
      },
      "execution_count": null,
      "outputs": [
        {
          "output_type": "display_data",
          "data": {
            "text/plain": [
              "<Figure size 1000x700 with 1 Axes>"
            ],
            "image/png": "[encoded data removed]"
          },
          "metadata": {}
        }
      ]
    },
    {
      "cell_type": "code",
      "source": [
        "def plot_time_series(timesteps, values, format='.', start=0, end=None, label=None):\n",
        "  plt.plot(timesteps[start:end], values[start:end], format, label=label)\n",
        "  plt.xlabel(\"Time\")\n",
        "  plt.ylabel(\"BTC Price\")\n",
        "  if label:\n",
        "    plt.legend(fontsize=14) # make label bigger\n",
        "  plt.grid(True)"
      ],
      "metadata": {
        "id": "oaoJ76uYlHmQ"
      },
      "execution_count": null,
      "outputs": []
    },
    {
      "cell_type": "code",
      "source": [
        "plt.figure(figsize=(10, 7))\n",
        "plot_time_series(timesteps=X_train, values=y_train, label=\"Train data\")\n",
        "plot_time_series(timesteps=X_test, values=y_test, label=\"Test data\")"
      ],
      "metadata": {
        "colab": {
          "base_uri": "https://localhost:8080/",
          "height": 619
        },
        "id": "fbZJ01W8lmUI",
        "outputId": "a12b6b01-de41-4aeb-9db8-23aeee828cd4"
      },
      "execution_count": null,
      "outputs": [
        {
          "output_type": "display_data",
          "data": {
            "text/plain": [
              "<Figure size 1000x700 with 1 Axes>"
            ],
            "image/png": "[encoded data removed]"
          },
          "metadata": {}
        }
      ]
    },
    {
      "cell_type": "markdown",
      "source": [
        "# Model 0: Naive forecast (baseline)\n",
        "\n",
        "Formula: $$\\hat{y}_{t} = y_{t-1}$$"
      ],
      "metadata": {
        "id": "2e-wzyZVlnYA"
      }
    },
    {
      "cell_type": "code",
      "source": [
        "naive_forecast = y_test[:-1]\n",
        "naive_forecast[:10], naive_forecast[-10:]"
      ],
      "metadata": {
        "colab": {
          "base_uri": "https://localhost:8080/"
        },
        "id": "2mcjIwHlmnbP",
        "outputId": "9f4f18d8-13ce-4515-be44-acbffede769c"
      },
      "execution_count": null,
      "outputs": [
        {
          "output_type": "execute_result",
          "data": {
            "text/plain": [
              "(array([9226.48582088, 8794.35864452, 8798.04205463, 9081.18687849,\n",
              "        8711.53433917, 8760.89271814, 8749.52059102, 8656.97092235,\n",
              "        8500.64355816, 8469.2608989 ]),\n",
              " array([57107.12067189, 58788.20967893, 58102.19142623, 55715.54665129,\n",
              "        56573.5554719 , 52147.82118698, 49764.1320816 , 50032.69313676,\n",
              "        47885.62525472, 45604.61575361]))"
            ]
          },
          "metadata": {},
          "execution_count": 14
        }
      ]
    },
    {
      "cell_type": "code",
      "source": [
        "plt.figure(figsize=(10, 7))\n",
        "plot_time_series(timesteps=X_train, values=y_train, label=\"Train data\")\n",
        "plot_time_series(timesteps=X_test, values=y_test, label=\"Test data\")\n",
        "plot_time_series(timesteps=X_test[1:], values=naive_forecast, format=\"-\", label=\"Naive forecast\");"
      ],
      "metadata": {
        "colab": {
          "base_uri": "https://localhost:8080/",
          "height": 619
        },
        "id": "Y8SqiyTtnAoY",
        "outputId": "05ed0257-a2e2-4801-d814-68d1555b9442"
      },
      "execution_count": null,
      "outputs": [
        {
          "output_type": "display_data",
          "data": {
            "text/plain": [
              "<Figure size 1000x700 with 1 Axes>"
            ],
            "image/png": "[encoded data removed]"
          },
          "metadata": {}
        }
      ]
    },
    {
      "cell_type": "code",
      "source": [
        "plt.figure(figsize=(10, 7))\n",
        "offset = 300 # offset the values by 300 timesteps\n",
        "plot_time_series(timesteps=X_test, values=y_test, start=offset, label=\"Test data\")\n",
        "plot_time_series(timesteps=X_test[1:], values=naive_forecast, format=\"-\", start=offset, label=\"Naive forecast\");"
      ],
      "metadata": {
        "colab": {
          "base_uri": "https://localhost:8080/",
          "height": 619
        },
        "id": "NoTyiUNQnNjn",
        "outputId": "1515b981-6328-4e84-ae06-7b86cd4265aa"
      },
      "execution_count": null,
      "outputs": [
        {
          "output_type": "display_data",
          "data": {
            "text/plain": [
              "<Figure size 1000x700 with 1 Axes>"
            ],
            "image/png": "[encoded data removed]"
          },
          "metadata": {}
        }
      ]
    },
    {
      "cell_type": "code",
      "source": [
        "import tensorflow as tf"
      ],
      "metadata": {
        "id": "aoTIoGIWn2Rs"
      },
      "execution_count": null,
      "outputs": []
    },
    {
      "cell_type": "code",
      "source": [
        "# MASE implemented courtesy of sktime - https://github.com/alan-turing-institute/sktime/blob/ee7a06843a44f4aaec7582d847e36073a9ab0566/sktime/performance_metrics/forecasting/_functions.py#L16\n",
        "def mean_absolute_scaled_error(y_true, y_pred):\n",
        "  \"\"\"\n",
        "  Implement MASE (assuming no seasonality of data).\n",
        "  \"\"\"\n",
        "  mae = tf.reduce_mean(tf.abs(y_true - y_pred))\n",
        "\n",
        "  # Find MAE of naive forecast (no seasonality)\n",
        "  mae_naive_no_season = tf.reduce_mean(tf.abs(y_true[1:] - y_true[:-1])) # our seasonality is 1 day (hence the shifting of 1 day)\n",
        "\n",
        "  return mae / mae_naive_no_season"
      ],
      "metadata": {
        "id": "HQPaIAKBndEG"
      },
      "execution_count": null,
      "outputs": []
    },
    {
      "cell_type": "code",
      "source": [
        "def evaluate_preds(y_true, y_pred):\n",
        "  # Make sure float32 (for metric calculations)\n",
        "  y_true = tf.cast(y_true, dtype=tf.float32)\n",
        "  y_pred = tf.cast(y_pred, dtype=tf.float32)\n",
        "\n",
        "  # Calculate various metrics\n",
        "  mae = tf.keras.metrics.mean_absolute_error(y_true, y_pred)\n",
        "  mse = tf.keras.metrics.mean_squared_error(y_true, y_pred) # puts and emphasis on outliers (all errors get squared)\n",
        "  rmse = tf.sqrt(mse)\n",
        "  mape = tf.keras.metrics.mean_absolute_percentage_error(y_true, y_pred)\n",
        "  mase = mean_absolute_scaled_error(y_true, y_pred)\n",
        "\n",
        "  return {\"mae\": mae.numpy(),\n",
        "          \"mse\": mse.numpy(),\n",
        "          \"rmse\": rmse.numpy(),\n",
        "          \"mape\": mape.numpy(),\n",
        "          \"mase\": mase.numpy()}"
      ],
      "metadata": {
        "id": "gDJpqSdJn27e"
      },
      "execution_count": null,
      "outputs": []
    },
    {
      "cell_type": "code",
      "source": [
        "naive_results = evaluate_preds(y_true=y_test[1:],\n",
        "                               y_pred=naive_forecast)\n",
        "naive_results"
      ],
      "metadata": {
        "colab": {
          "base_uri": "https://localhost:8080/"
        },
        "id": "t7cRDwh7n9YL",
        "outputId": "70d8622c-2f57-4a52-dc05-a1adecb99de9"
      },
      "execution_count": null,
      "outputs": [
        {
          "output_type": "execute_result",
          "data": {
            "text/plain": [
              "{'mae': 567.9802,\n",
              " 'mse': 1147547.0,\n",
              " 'rmse': 1071.2362,\n",
              " 'mape': 2.516525,\n",
              " 'mase': 0.99957}"
            ]
          },
          "metadata": {},
          "execution_count": 20
        }
      ]
    },
    {
      "cell_type": "code",
      "source": [
        "tf.reduce_mean(y_test).numpy()"
      ],
      "metadata": {
        "colab": {
          "base_uri": "https://localhost:8080/"
        },
        "id": "62P_Egqen-PI",
        "outputId": "fe544d8b-26b0-4896-c475-4dfd8929fb8e"
      },
      "execution_count": null,
      "outputs": [
        {
          "output_type": "execute_result",
          "data": {
            "text/plain": [
              "20056.632963737222"
            ]
          },
          "metadata": {},
          "execution_count": 21
        }
      ]
    },
    {
      "cell_type": "markdown",
      "source": [
        "# Windowing dataset:\n",
        "```\n",
        "[0, 1, 2, 3, 4, 5, 6] -> [7]\n",
        "[1, 2, 3, 4, 5, 6, 7] -> [8]\n",
        "[2, 3, 4, 5, 6, 7, 8] -> [9]\n",
        "```"
      ],
      "metadata": {
        "id": "9NAwhL42o9lE"
      }
    },
    {
      "cell_type": "code",
      "source": [
        "HORIZON = 1\n",
        "WINDOW_SIZE = 7"
      ],
      "metadata": {
        "id": "vaVHdF5Mqty1"
      },
      "execution_count": null,
      "outputs": []
    },
    {
      "cell_type": "code",
      "source": [
        "def get_labelled_windows(x, horizon=1):\n",
        "  return x[:, :-horizon], x[:, -horizon:]"
      ],
      "metadata": {
        "id": "kDWj-dZcrHVL"
      },
      "execution_count": null,
      "outputs": []
    },
    {
      "cell_type": "code",
      "source": [
        "test_window, test_label = get_labelled_windows(tf.expand_dims(tf.range(8)+1, axis=0), horizon=HORIZON)\n",
        "print(f\"Window: {tf.squeeze(test_window).numpy()} -> Label: {tf.squeeze(test_label).numpy()}\")"
      ],
      "metadata": {
        "colab": {
          "base_uri": "https://localhost:8080/"
        },
        "id": "pmpViC-TrK80",
        "outputId": "24ae8892-ebe6-4726-a954-ea5b44b2dd6d"
      },
      "execution_count": null,
      "outputs": [
        {
          "output_type": "stream",
          "name": "stdout",
          "text": [
            "Window: [1 2 3 4 5 6 7] -> Label: 8\n"
          ]
        }
      ]
    },
    {
      "cell_type": "code",
      "source": [
        "import numpy as np"
      ],
      "metadata": {
        "id": "uXvRnv_Frq6f"
      },
      "execution_count": null,
      "outputs": []
    },
    {
      "cell_type": "code",
      "source": [
        "def make_windows(x, window_size=7, horizon=1):\n",
        "  window_step = np.expand_dims(np.arange(window_size+horizon), axis=0)\n",
        "  window_indexes = window_step + np.expand_dims(np.arange(len(x)-(window_size+horizon-1)), axis=0).T\n",
        "  windowed_array = x[window_indexes]\n",
        "  windows, labels = get_labelled_windows(windowed_array, horizon=horizon)\n",
        "  return windows, labels"
      ],
      "metadata": {
        "id": "1WgXr8VPrNca"
      },
      "execution_count": null,
      "outputs": []
    },
    {
      "cell_type": "code",
      "source": [
        "full_windows, full_labels = make_windows(prices, window_size=WINDOW_SIZE, horizon=HORIZON)\n",
        "len(full_windows), len(full_labels)"
      ],
      "metadata": {
        "colab": {
          "base_uri": "https://localhost:8080/"
        },
        "id": "CCoANtK3rtyK",
        "outputId": "7631bde9-df9d-4ebe-a84f-faa74d6a6d43"
      },
      "execution_count": null,
      "outputs": [
        {
          "output_type": "execute_result",
          "data": {
            "text/plain": [
              "(2780, 2780)"
            ]
          },
          "metadata": {},
          "execution_count": 27
        }
      ]
    },
    {
      "cell_type": "code",
      "source": [
        "for i in range(3):\n",
        "  print(f\"Window: {full_windows[i]} -> Label: {full_labels[i]}\")"
      ],
      "metadata": {
        "colab": {
          "base_uri": "https://localhost:8080/"
        },
        "id": "ZJIeIJwvrzmE",
        "outputId": "2c6602db-ba82-46de-e3e3-e5cbd18a1f78"
      },
      "execution_count": null,
      "outputs": [
        {
          "output_type": "stream",
          "name": "stdout",
          "text": [
            "Window: [123.65499 125.455   108.58483 118.67466 121.33866 120.65533 121.795  ] -> Label: [123.033]\n",
            "Window: [125.455   108.58483 118.67466 121.33866 120.65533 121.795   123.033  ] -> Label: [124.049]\n",
            "Window: [108.58483 118.67466 121.33866 120.65533 121.795   123.033   124.049  ] -> Label: [125.96116]\n"
          ]
        }
      ]
    },
    {
      "cell_type": "code",
      "source": [
        "# tf.keras.preprocessing.timeseries_dataset_from_array()"
      ],
      "metadata": {
        "id": "CxDD6Synr2HG"
      },
      "execution_count": null,
      "outputs": []
    },
    {
      "cell_type": "code",
      "source": [
        "def make_train_test_splits(windows, labels, test_split=0.2):\n",
        "  split_size = int(len(windows) * (1-test_split)) # this will default to 80% train/20% test\n",
        "  train_windows = windows[:split_size]\n",
        "  train_labels = labels[:split_size]\n",
        "  test_windows = windows[split_size:]\n",
        "  test_labels = labels[split_size:]\n",
        "  return train_windows, test_windows, train_labels, test_labels"
      ],
      "metadata": {
        "id": "0UzUr9d4r-CD"
      },
      "execution_count": null,
      "outputs": []
    },
    {
      "cell_type": "code",
      "source": [
        "train_windows, test_windows, train_labels, test_labels = make_train_test_splits(full_windows, full_labels)\n",
        "len(train_windows), len(test_windows), len(train_labels), len(test_labels)"
      ],
      "metadata": {
        "colab": {
          "base_uri": "https://localhost:8080/"
        },
        "id": "N_OrvUj3s5uo",
        "outputId": "b37646ed-6045-4b98-8c24-bb2d93a93b2e"
      },
      "execution_count": null,
      "outputs": [
        {
          "output_type": "execute_result",
          "data": {
            "text/plain": [
              "(2224, 556, 2224, 556)"
            ]
          },
          "metadata": {},
          "execution_count": 31
        }
      ]
    },
    {
      "cell_type": "code",
      "source": [
        "train_windows[:5], train_labels[:5]"
      ],
      "metadata": {
        "colab": {
          "base_uri": "https://localhost:8080/"
        },
        "id": "pga7QHCss6M9",
        "outputId": "0a4b5ea1-e4b2-4767-e4ce-9a6f01279a39"
      },
      "execution_count": null,
      "outputs": [
        {
          "output_type": "execute_result",
          "data": {
            "text/plain": [
              "(array([[123.65499, 125.455  , 108.58483, 118.67466, 121.33866, 120.65533,\n",
              "         121.795  ],\n",
              "        [125.455  , 108.58483, 118.67466, 121.33866, 120.65533, 121.795  ,\n",
              "         123.033  ],\n",
              "        [108.58483, 118.67466, 121.33866, 120.65533, 121.795  , 123.033  ,\n",
              "         124.049  ],\n",
              "        [118.67466, 121.33866, 120.65533, 121.795  , 123.033  , 124.049  ,\n",
              "         125.96116],\n",
              "        [121.33866, 120.65533, 121.795  , 123.033  , 124.049  , 125.96116,\n",
              "         125.27966]]),\n",
              " array([[123.033  ],\n",
              "        [124.049  ],\n",
              "        [125.96116],\n",
              "        [125.27966],\n",
              "        [125.9275 ]]))"
            ]
          },
          "metadata": {},
          "execution_count": 32
        }
      ]
    },
    {
      "cell_type": "code",
      "source": [
        "np.array_equal(np.squeeze(train_labels[:-HORIZON-1]), y_train[WINDOW_SIZE:])"
      ],
      "metadata": {
        "colab": {
          "base_uri": "https://localhost:8080/"
        },
        "id": "RqGd5u4atCHt",
        "outputId": "39c65c34-ced9-443b-8770-ef2e42cada03"
      },
      "execution_count": null,
      "outputs": [
        {
          "output_type": "execute_result",
          "data": {
            "text/plain": [
              "True"
            ]
          },
          "metadata": {},
          "execution_count": 33
        }
      ]
    },
    {
      "cell_type": "code",
      "source": [
        "import os\n",
        "\n",
        "# Create a function to implement a ModelCheckpoint call back with specific filename\n",
        "\n",
        "def create_model_checkpoint(model_name, save_path = \"model_experiments\"):\n",
        "  return tf.keras.callbacks.ModelCheckpoint(filepath = os.path.join(save_path, model_name),\n",
        "                                            verbose = 0,\n",
        "                                            save_best_only = True)"
      ],
      "metadata": {
        "id": "upEs-501RxDU"
      },
      "execution_count": null,
      "outputs": []
    },
    {
      "cell_type": "markdown",
      "source": [
        "# Model 1: Dense Model (window = 7, horizon = 1)"
      ],
      "metadata": {
        "id": "66ojZ1outNlF"
      }
    },
    {
      "cell_type": "code",
      "source": [
        "import tensorflow as tf\n",
        "from tensorflow.keras import layers\n",
        "\n",
        "tf.random.set_seed(42)\n",
        "\n",
        "model_1 = tf.keras.Sequential([\n",
        "  layers.Dense(128, activation=\"relu\"),\n",
        "  layers.Dense(HORIZON, activation=\"linear\")\n",
        "], name=\"model_1_dense\")\n",
        "\n",
        "model_1.compile(loss=\"mae\",\n",
        "                optimizer=tf.keras.optimizers.Adam(),\n",
        "                metrics=[\"mae\"])\n",
        "\n",
        "model_1.fit(x=train_windows, # train windows of 7 timesteps of Bitcoin prices\n",
        "            y=train_labels, # horizon value of 1 (using the previous 7 timesteps to predict next day)\n",
        "            epochs=100,\n",
        "            verbose=1,\n",
        "            batch_size=128,\n",
        "            validation_data=(test_windows, test_labels))"
      ],
      "metadata": {
        "colab": {
          "base_uri": "https://localhost:8080/"
        },
        "id": "M1xfUKD_tuqP",
        "outputId": "5dfb4c85-a07f-4dc0-d2c2-5378bdd70938"
      },
      "execution_count": null,
      "outputs": [
        {
          "output_type": "stream",
          "name": "stdout",
          "text": [
            "Epoch 1/100\n",
            "18/18 [==============================] - 5s 14ms/step - loss: 2791.7312 - mae: 2791.7312 - val_loss: 5145.1367 - val_mae: 5145.1367\n",
            "Epoch 2/100\n",
            "18/18 [==============================] - 0s 6ms/step - loss: 472.4023 - mae: 472.4023 - val_loss: 1410.5308 - val_mae: 1410.5308\n",
            "Epoch 3/100\n",
            "18/18 [==============================] - 0s 5ms/step - loss: 273.5660 - mae: 273.5660 - val_loss: 1335.4410 - val_mae: 1335.4410\n",
            "Epoch 4/100\n",
            "18/18 [==============================] - 0s 5ms/step - loss: 239.5318 - mae: 239.5318 - val_loss: 1271.3739 - val_mae: 1271.3739\n",
            "Epoch 5/100\n",
            "18/18 [==============================] - 0s 6ms/step - loss: 223.9739 - mae: 223.9739 - val_loss: 1208.0643 - val_mae: 1208.0643\n",
            "Epoch 6/100\n",
            "18/18 [==============================] - 0s 5ms/step - loss: 219.1590 - mae: 219.1590 - val_loss: 1201.1328 - val_mae: 1201.1328\n",
            "Epoch 7/100\n",
            "18/18 [==============================] - 0s 6ms/step - loss: 213.6453 - mae: 213.6453 - val_loss: 1141.3684 - val_mae: 1141.3684\n",
            "Epoch 8/100\n",
            "18/18 [==============================] - 0s 5ms/step - loss: 198.5929 - mae: 198.5929 - val_loss: 1087.9220 - val_mae: 1087.9220\n",
            "Epoch 9/100\n",
            "18/18 [==============================] - 0s 6ms/step - loss: 189.3545 - mae: 189.3545 - val_loss: 1077.6605 - val_mae: 1077.6605\n",
            "Epoch 10/100\n",
            "18/18 [==============================] - 0s 8ms/step - loss: 184.6215 - mae: 184.6215 - val_loss: 1008.0736 - val_mae: 1008.0736\n",
            "Epoch 11/100\n",
            "18/18 [==============================] - 0s 8ms/step - loss: 176.6686 - mae: 176.6686 - val_loss: 974.1528 - val_mae: 974.1528\n",
            "Epoch 12/100\n",
            "18/18 [==============================] - 0s 7ms/step - loss: 173.0694 - mae: 173.0694 - val_loss: 1024.1744 - val_mae: 1024.1744\n",
            "Epoch 13/100\n",
            "18/18 [==============================] - 0s 8ms/step - loss: 168.0280 - mae: 168.0280 - val_loss: 960.2502 - val_mae: 960.2502\n",
            "Epoch 14/100\n",
            "18/18 [==============================] - 0s 7ms/step - loss: 161.4804 - mae: 161.4804 - val_loss: 907.8185 - val_mae: 907.8185\n",
            "Epoch 15/100\n",
            "18/18 [==============================] - 0s 7ms/step - loss: 160.0839 - mae: 160.0839 - val_loss: 987.5650 - val_mae: 987.5650\n",
            "Epoch 16/100\n",
            "18/18 [==============================] - 0s 7ms/step - loss: 155.3658 - mae: 155.3658 - val_loss: 839.9373 - val_mae: 839.9373\n",
            "Epoch 17/100\n",
            "18/18 [==============================] - 0s 8ms/step - loss: 148.8339 - mae: 148.8339 - val_loss: 842.9050 - val_mae: 842.9050\n",
            "Epoch 18/100\n",
            "18/18 [==============================] - 0s 8ms/step - loss: 144.2795 - mae: 144.2795 - val_loss: 843.5308 - val_mae: 843.5308\n",
            "Epoch 19/100\n",
            "18/18 [==============================] - 0s 7ms/step - loss: 139.5065 - mae: 139.5065 - val_loss: 817.9283 - val_mae: 817.9283\n",
            "Epoch 20/100\n",
            "18/18 [==============================] - 0s 7ms/step - loss: 140.4101 - mae: 140.4101 - val_loss: 752.2779 - val_mae: 752.2779\n",
            "Epoch 21/100\n",
            "18/18 [==============================] - 0s 6ms/step - loss: 136.6177 - mae: 136.6177 - val_loss: 735.5746 - val_mae: 735.5746\n",
            "Epoch 22/100\n",
            "18/18 [==============================] - 0s 7ms/step - loss: 132.5455 - mae: 132.5455 - val_loss: 720.1373 - val_mae: 720.1373\n",
            "Epoch 23/100\n",
            "18/18 [==============================] - 0s 7ms/step - loss: 128.7926 - mae: 128.7926 - val_loss: 713.8559 - val_mae: 713.8559\n",
            "Epoch 24/100\n",
            "18/18 [==============================] - 0s 7ms/step - loss: 128.1170 - mae: 128.1170 - val_loss: 693.9434 - val_mae: 693.9434\n",
            "Epoch 25/100\n",
            "18/18 [==============================] - 0s 9ms/step - loss: 125.8195 - mae: 125.8195 - val_loss: 685.9584 - val_mae: 685.9584\n",
            "Epoch 26/100\n",
            "18/18 [==============================] - 0s 7ms/step - loss: 125.6127 - mae: 125.6127 - val_loss: 676.4583 - val_mae: 676.4583\n",
            "Epoch 27/100\n",
            "18/18 [==============================] - 0s 8ms/step - loss: 123.3707 - mae: 123.3707 - val_loss: 663.7822 - val_mae: 663.7822\n",
            "Epoch 28/100\n",
            "18/18 [==============================] - 0s 7ms/step - loss: 120.1614 - mae: 120.1614 - val_loss: 661.7747 - val_mae: 661.7747\n",
            "Epoch 29/100\n",
            "18/18 [==============================] - 0s 7ms/step - loss: 119.0523 - mae: 119.0523 - val_loss: 670.2074 - val_mae: 670.2074\n",
            "Epoch 30/100\n",
            "18/18 [==============================] - 0s 7ms/step - loss: 125.2124 - mae: 125.2124 - val_loss: 693.7096 - val_mae: 693.7096\n",
            "Epoch 31/100\n",
            "18/18 [==============================] - 0s 7ms/step - loss: 129.7256 - mae: 129.7256 - val_loss: 838.5770 - val_mae: 838.5770\n",
            "Epoch 32/100\n",
            "18/18 [==============================] - 0s 7ms/step - loss: 127.3434 - mae: 127.3434 - val_loss: 678.6386 - val_mae: 678.6386\n",
            "Epoch 33/100\n",
            "18/18 [==============================] - 0s 8ms/step - loss: 116.8590 - mae: 116.8590 - val_loss: 681.5829 - val_mae: 681.5829\n",
            "Epoch 34/100\n",
            "18/18 [==============================] - 0s 7ms/step - loss: 118.7779 - mae: 118.7779 - val_loss: 627.8098 - val_mae: 627.8098\n",
            "Epoch 35/100\n",
            "18/18 [==============================] - 0s 7ms/step - loss: 115.6391 - mae: 115.6391 - val_loss: 623.0234 - val_mae: 623.0234\n",
            "Epoch 36/100\n",
            "18/18 [==============================] - 0s 8ms/step - loss: 119.8393 - mae: 119.8393 - val_loss: 639.1122 - val_mae: 639.1122\n",
            "Epoch 37/100\n",
            "18/18 [==============================] - 0s 7ms/step - loss: 117.9175 - mae: 117.9175 - val_loss: 635.1268 - val_mae: 635.1268\n",
            "Epoch 38/100\n",
            "18/18 [==============================] - 0s 7ms/step - loss: 116.2989 - mae: 116.2989 - val_loss: 613.1723 - val_mae: 613.1723\n",
            "Epoch 39/100\n",
            "18/18 [==============================] - 0s 7ms/step - loss: 113.7306 - mae: 113.7306 - val_loss: 610.5081 - val_mae: 610.5081\n",
            "Epoch 40/100\n",
            "18/18 [==============================] - 0s 6ms/step - loss: 113.7349 - mae: 113.7349 - val_loss: 616.7725 - val_mae: 616.7725\n",
            "Epoch 41/100\n",
            "18/18 [==============================] - 0s 5ms/step - loss: 113.4192 - mae: 113.4192 - val_loss: 627.5070 - val_mae: 627.5070\n",
            "Epoch 42/100\n",
            "18/18 [==============================] - 0s 5ms/step - loss: 117.2649 - mae: 117.2649 - val_loss: 624.8964 - val_mae: 624.8964\n",
            "Epoch 43/100\n",
            "18/18 [==============================] - 0s 6ms/step - loss: 115.8152 - mae: 115.8152 - val_loss: 643.4072 - val_mae: 643.4072\n",
            "Epoch 44/100\n",
            "18/18 [==============================] - 0s 6ms/step - loss: 117.8892 - mae: 117.8892 - val_loss: 622.0354 - val_mae: 622.0354\n",
            "Epoch 45/100\n",
            "18/18 [==============================] - 0s 6ms/step - loss: 113.4422 - mae: 113.4422 - val_loss: 616.9521 - val_mae: 616.9521\n",
            "Epoch 46/100\n",
            "18/18 [==============================] - 0s 5ms/step - loss: 115.4055 - mae: 115.4055 - val_loss: 616.6638 - val_mae: 616.6638\n",
            "Epoch 47/100\n",
            "18/18 [==============================] - 0s 5ms/step - loss: 113.9107 - mae: 113.9107 - val_loss: 700.9094 - val_mae: 700.9094\n",
            "Epoch 48/100\n",
            "18/18 [==============================] - 0s 5ms/step - loss: 112.3871 - mae: 112.3871 - val_loss: 594.7607 - val_mae: 594.7607\n",
            "Epoch 49/100\n",
            "18/18 [==============================] - 0s 5ms/step - loss: 112.4293 - mae: 112.4293 - val_loss: 646.1898 - val_mae: 646.1898\n",
            "Epoch 50/100\n",
            "18/18 [==============================] - 0s 7ms/step - loss: 119.5253 - mae: 119.5253 - val_loss: 672.6338 - val_mae: 672.6338\n",
            "Epoch 51/100\n",
            "18/18 [==============================] - 0s 6ms/step - loss: 113.3116 - mae: 113.3116 - val_loss: 604.5295 - val_mae: 604.5295\n",
            "Epoch 52/100\n",
            "18/18 [==============================] - 0s 5ms/step - loss: 112.8584 - mae: 112.8584 - val_loss: 622.6788 - val_mae: 622.6788\n",
            "Epoch 53/100\n",
            "18/18 [==============================] - 0s 5ms/step - loss: 113.7070 - mae: 113.7070 - val_loss: 614.5895 - val_mae: 614.5895\n",
            "Epoch 54/100\n",
            "18/18 [==============================] - 0s 5ms/step - loss: 114.3044 - mae: 114.3044 - val_loss: 642.5938 - val_mae: 642.5938\n",
            "Epoch 55/100\n",
            "18/18 [==============================] - 0s 5ms/step - loss: 113.1602 - mae: 113.1602 - val_loss: 591.3539 - val_mae: 591.3539\n",
            "Epoch 56/100\n",
            "18/18 [==============================] - 0s 5ms/step - loss: 108.7626 - mae: 108.7626 - val_loss: 734.3295 - val_mae: 734.3295\n",
            "Epoch 57/100\n",
            "18/18 [==============================] - 0s 5ms/step - loss: 117.0142 - mae: 117.0142 - val_loss: 615.6080 - val_mae: 615.6080\n",
            "Epoch 58/100\n",
            "18/18 [==============================] - 0s 5ms/step - loss: 115.0348 - mae: 115.0348 - val_loss: 615.7957 - val_mae: 615.7957\n",
            "Epoch 59/100\n",
            "18/18 [==============================] - 0s 6ms/step - loss: 112.1983 - mae: 112.1983 - val_loss: 589.5724 - val_mae: 589.5724\n",
            "Epoch 60/100\n",
            "18/18 [==============================] - 0s 6ms/step - loss: 108.7286 - mae: 108.7286 - val_loss: 591.8364 - val_mae: 591.8364\n",
            "Epoch 61/100\n",
            "18/18 [==============================] - 0s 5ms/step - loss: 108.6217 - mae: 108.6217 - val_loss: 583.7353 - val_mae: 583.7353\n",
            "Epoch 62/100\n",
            "18/18 [==============================] - 0s 5ms/step - loss: 108.0104 - mae: 108.0104 - val_loss: 589.7874 - val_mae: 589.7874\n",
            "Epoch 63/100\n",
            "18/18 [==============================] - 0s 5ms/step - loss: 111.1682 - mae: 111.1682 - val_loss: 630.0599 - val_mae: 630.0599\n",
            "Epoch 64/100\n",
            "18/18 [==============================] - 0s 5ms/step - loss: 110.6855 - mae: 110.6855 - val_loss: 586.5660 - val_mae: 586.5660\n",
            "Epoch 65/100\n",
            "18/18 [==============================] - 0s 6ms/step - loss: 108.9281 - mae: 108.9281 - val_loss: 579.2296 - val_mae: 579.2296\n",
            "Epoch 66/100\n",
            "18/18 [==============================] - 0s 5ms/step - loss: 109.1246 - mae: 109.1246 - val_loss: 591.7763 - val_mae: 591.7763\n",
            "Epoch 67/100\n",
            "18/18 [==============================] - 0s 5ms/step - loss: 109.2072 - mae: 109.2072 - val_loss: 656.2120 - val_mae: 656.2120\n",
            "Epoch 68/100\n",
            "18/18 [==============================] - 0s 5ms/step - loss: 111.1430 - mae: 111.1430 - val_loss: 610.1522 - val_mae: 610.1522\n",
            "Epoch 69/100\n",
            "18/18 [==============================] - 0s 6ms/step - loss: 122.3828 - mae: 122.3828 - val_loss: 582.0950 - val_mae: 582.0950\n",
            "Epoch 70/100\n",
            "18/18 [==============================] - 0s 6ms/step - loss: 125.4409 - mae: 125.4409 - val_loss: 578.7361 - val_mae: 578.7361\n",
            "Epoch 71/100\n",
            "18/18 [==============================] - 0s 5ms/step - loss: 113.3073 - mae: 113.3073 - val_loss: 595.0369 - val_mae: 595.0369\n",
            "Epoch 72/100\n",
            "18/18 [==============================] - 0s 5ms/step - loss: 108.9360 - mae: 108.9360 - val_loss: 582.7307 - val_mae: 582.7307\n",
            "Epoch 73/100\n",
            "18/18 [==============================] - 0s 5ms/step - loss: 113.4819 - mae: 113.4819 - val_loss: 639.1252 - val_mae: 639.1252\n",
            "Epoch 74/100\n",
            "18/18 [==============================] - 0s 5ms/step - loss: 108.1070 - mae: 108.1070 - val_loss: 579.1967 - val_mae: 579.1967\n",
            "Epoch 75/100\n",
            "18/18 [==============================] - 0s 5ms/step - loss: 109.4038 - mae: 109.4038 - val_loss: 576.4638 - val_mae: 576.4638\n",
            "Epoch 76/100\n",
            "18/18 [==============================] - 0s 5ms/step - loss: 109.7188 - mae: 109.7188 - val_loss: 578.6940 - val_mae: 578.6940\n",
            "Epoch 77/100\n",
            "18/18 [==============================] - 0s 4ms/step - loss: 108.4246 - mae: 108.4246 - val_loss: 576.9073 - val_mae: 576.9073\n",
            "Epoch 78/100\n",
            "18/18 [==============================] - 0s 5ms/step - loss: 110.7077 - mae: 110.7077 - val_loss: 579.8643 - val_mae: 579.8643\n",
            "Epoch 79/100\n",
            "18/18 [==============================] - 0s 5ms/step - loss: 110.3221 - mae: 110.3221 - val_loss: 621.0876 - val_mae: 621.0876\n",
            "Epoch 80/100\n",
            "18/18 [==============================] - 0s 5ms/step - loss: 109.0475 - mae: 109.0475 - val_loss: 588.7543 - val_mae: 588.7543\n",
            "Epoch 81/100\n",
            "18/18 [==============================] - 0s 6ms/step - loss: 106.8443 - mae: 106.8443 - val_loss: 575.3552 - val_mae: 575.3552\n",
            "Epoch 82/100\n",
            "18/18 [==============================] - 0s 6ms/step - loss: 115.3862 - mae: 115.3862 - val_loss: 571.7892 - val_mae: 571.7892\n",
            "Epoch 83/100\n",
            "18/18 [==============================] - 0s 5ms/step - loss: 112.5570 - mae: 112.5570 - val_loss: 691.2816 - val_mae: 691.2816\n",
            "Epoch 84/100\n",
            "18/18 [==============================] - 0s 5ms/step - loss: 114.3788 - mae: 114.3788 - val_loss: 588.8471 - val_mae: 588.8471\n",
            "Epoch 85/100\n",
            "18/18 [==============================] - 0s 6ms/step - loss: 107.4346 - mae: 107.4346 - val_loss: 582.6901 - val_mae: 582.6901\n",
            "Epoch 86/100\n",
            "18/18 [==============================] - 0s 6ms/step - loss: 109.0109 - mae: 109.0109 - val_loss: 583.2991 - val_mae: 583.2991\n",
            "Epoch 87/100\n",
            "18/18 [==============================] - 0s 5ms/step - loss: 106.3916 - mae: 106.3916 - val_loss: 601.8795 - val_mae: 601.8795\n",
            "Epoch 88/100\n",
            "18/18 [==============================] - 0s 6ms/step - loss: 108.5314 - mae: 108.5314 - val_loss: 590.1537 - val_mae: 590.1537\n",
            "Epoch 89/100\n",
            "18/18 [==============================] - 0s 5ms/step - loss: 108.0082 - mae: 108.0082 - val_loss: 571.9702 - val_mae: 571.9702\n",
            "Epoch 90/100\n",
            "18/18 [==============================] - 0s 6ms/step - loss: 106.9364 - mae: 106.9364 - val_loss: 583.8071 - val_mae: 583.8071\n",
            "Epoch 91/100\n",
            "18/18 [==============================] - 0s 6ms/step - loss: 110.4435 - mae: 110.4435 - val_loss: 577.8865 - val_mae: 577.8865\n",
            "Epoch 92/100\n",
            "18/18 [==============================] - 0s 6ms/step - loss: 114.3786 - mae: 114.3786 - val_loss: 642.1184 - val_mae: 642.1184\n",
            "Epoch 93/100\n",
            "18/18 [==============================] - 0s 6ms/step - loss: 115.4811 - mae: 115.4811 - val_loss: 587.3718 - val_mae: 587.3718\n",
            "Epoch 94/100\n",
            "18/18 [==============================] - 0s 7ms/step - loss: 106.6828 - mae: 106.6828 - val_loss: 573.7229 - val_mae: 573.7229\n",
            "Epoch 95/100\n",
            "18/18 [==============================] - 0s 5ms/step - loss: 106.3045 - mae: 106.3045 - val_loss: 571.6890 - val_mae: 571.6890\n",
            "Epoch 96/100\n",
            "18/18 [==============================] - 0s 5ms/step - loss: 114.3984 - mae: 114.3984 - val_loss: 701.0218 - val_mae: 701.0218\n",
            "Epoch 97/100\n",
            "18/18 [==============================] - 0s 5ms/step - loss: 111.6907 - mae: 111.6907 - val_loss: 573.9106 - val_mae: 573.9106\n",
            "Epoch 98/100\n",
            "18/18 [==============================] - 0s 6ms/step - loss: 107.0756 - mae: 107.0756 - val_loss: 571.9172 - val_mae: 571.9172\n",
            "Epoch 99/100\n",
            "18/18 [==============================] - 0s 6ms/step - loss: 106.9065 - mae: 106.9065 - val_loss: 570.0898 - val_mae: 570.0898\n",
            "Epoch 100/100\n",
            "18/18 [==============================] - 0s 6ms/step - loss: 111.3918 - mae: 111.3918 - val_loss: 628.7040 - val_mae: 628.7040\n"
          ]
        },
        {
          "output_type": "execute_result",
          "data": {
            "text/plain": [
              "<keras.src.callbacks.History at 0x7ff7d3f260b0>"
            ]
          },
          "metadata": {},
          "execution_count": 35
        }
      ]
    },
    {
      "cell_type": "code",
      "source": [
        "model_1.evaluate(test_windows, test_labels)"
      ],
      "metadata": {
        "colab": {
          "base_uri": "https://localhost:8080/"
        },
        "id": "zjR0Acr4t-CL",
        "outputId": "2b2dd04a-78b8-4735-8b07-f9f030fa4d7c"
      },
      "execution_count": null,
      "outputs": [
        {
          "output_type": "stream",
          "name": "stdout",
          "text": [
            "18/18 [==============================] - 0s 2ms/step - loss: 628.7042 - mae: 628.7042\n"
          ]
        },
        {
          "output_type": "execute_result",
          "data": {
            "text/plain": [
              "[628.7041625976562, 628.7041625976562]"
            ]
          },
          "metadata": {},
          "execution_count": 36
        }
      ]
    },
    {
      "cell_type": "code",
      "source": [
        "def make_preds(model, input_data):\n",
        "  forecast = model.predict(input_data)\n",
        "  return tf.squeeze(forecast)"
      ],
      "metadata": {
        "id": "Stym0VlruP1C"
      },
      "execution_count": null,
      "outputs": []
    },
    {
      "cell_type": "code",
      "source": [
        "model_1_preds = make_preds(model_1, test_windows)\n",
        "len(model_1_preds), model_1_preds[:10]"
      ],
      "metadata": {
        "colab": {
          "base_uri": "https://localhost:8080/"
        },
        "id": "in2SxVaBuqPc",
        "outputId": "ab16af7e-eb96-43db-b64a-4c0035233b17"
      },
      "execution_count": null,
      "outputs": [
        {
          "output_type": "stream",
          "name": "stdout",
          "text": [
            "18/18 [==============================] - 0s 2ms/step\n"
          ]
        },
        {
          "output_type": "execute_result",
          "data": {
            "text/plain": [
              "(556,\n",
              " <tf.Tensor: shape=(10,), dtype=float32, numpy=\n",
              " array([8749.878, 8642.196, 8908.853, 8671.986, 8603.391, 8628.229,\n",
              "        8565.083, 8399.444, 8349.701, 8404.081], dtype=float32)>)"
            ]
          },
          "metadata": {},
          "execution_count": 38
        }
      ]
    },
    {
      "cell_type": "code",
      "source": [
        "model_1_results = evaluate_preds(y_true=tf.squeeze(test_labels),\n",
        "                                 y_pred=model_1_preds)\n",
        "model_1_results"
      ],
      "metadata": {
        "colab": {
          "base_uri": "https://localhost:8080/"
        },
        "id": "YvwY5Zxwuqo9",
        "outputId": "2119fe4f-a7b5-4b7f-a59f-29f1305dbb8d"
      },
      "execution_count": null,
      "outputs": [
        {
          "output_type": "execute_result",
          "data": {
            "text/plain": [
              "{'mae': 628.70416,\n",
              " 'mse': 1285725.0,\n",
              " 'rmse': 1133.8981,\n",
              " 'mape': 2.8432212,\n",
              " 'mase': 1.104459}"
            ]
          },
          "metadata": {},
          "execution_count": 39
        }
      ]
    },
    {
      "cell_type": "code",
      "source": [
        "naive_results"
      ],
      "metadata": {
        "colab": {
          "base_uri": "https://localhost:8080/"
        },
        "id": "5pmwwwABuub1",
        "outputId": "c274b733-215d-4c85-b05b-8299e6c76d09"
      },
      "execution_count": null,
      "outputs": [
        {
          "output_type": "execute_result",
          "data": {
            "text/plain": [
              "{'mae': 567.9802,\n",
              " 'mse': 1147547.0,\n",
              " 'rmse': 1071.2362,\n",
              " 'mape': 2.516525,\n",
              " 'mase': 0.99957}"
            ]
          },
          "metadata": {},
          "execution_count": 40
        }
      ]
    },
    {
      "cell_type": "code",
      "source": [
        "offset = 300\n",
        "plt.figure(figsize=(10, 7))\n",
        "# Account for the test_window offset and index into test_labels to ensure correct plotting\n",
        "plot_time_series(timesteps=X_test[-len(test_windows):], values=test_labels[:, 0], start=offset, label=\"Test_data\")\n",
        "plot_time_series(timesteps=X_test[-len(test_windows):], values=model_1_preds, start=offset, format=\"-\", label=\"model_1_preds\")"
      ],
      "metadata": {
        "colab": {
          "base_uri": "https://localhost:8080/",
          "height": 619
        },
        "id": "9Rq3g5deuyRH",
        "outputId": "025fe806-9adb-4bf6-839e-fbb6625be802"
      },
      "execution_count": null,
      "outputs": [
        {
          "output_type": "display_data",
          "data": {
            "text/plain": [
              "<Figure size 1000x700 with 1 Axes>"
            ],
            "image/png": "[encoded data removed]"
          },
          "metadata": {}
        }
      ]
    },
    {
      "cell_type": "markdown",
      "source": [
        "#Model 2: Dense (window = 30, horizon = 1)"
      ],
      "metadata": {
        "id": "FTSA4GvEW6YC"
      }
    },
    {
      "cell_type": "code",
      "source": [
        "HORIZON = 1 # predict one step at a time\n",
        "WINDOW_SIZE = 30 # use 30 timesteps in the past"
      ],
      "metadata": {
        "id": "UF5s5HKkTo19"
      },
      "execution_count": null,
      "outputs": []
    },
    {
      "cell_type": "code",
      "source": [
        "# Make windowed data with appropriate horizon and window sizes\n",
        "full_windows, full_labels = make_windows(prices, window_size=WINDOW_SIZE, horizon=HORIZON)\n",
        "len(full_windows), len(full_labels)"
      ],
      "metadata": {
        "colab": {
          "base_uri": "https://localhost:8080/"
        },
        "id": "YPnrUzTQT0wk",
        "outputId": "e049e219-39a8-49d7-ce84-b5fd35023390"
      },
      "execution_count": null,
      "outputs": [
        {
          "output_type": "execute_result",
          "data": {
            "text/plain": [
              "(2757, 2757)"
            ]
          },
          "metadata": {},
          "execution_count": 43
        }
      ]
    },
    {
      "cell_type": "code",
      "source": [
        "# Make train and testing windows\n",
        "train_windows, test_windows, train_labels, test_labels = make_train_test_splits(windows=full_windows, labels=full_labels)\n",
        "len(train_windows), len(test_windows), len(train_labels), len(test_labels)"
      ],
      "metadata": {
        "colab": {
          "base_uri": "https://localhost:8080/"
        },
        "id": "zGTue-HAT3H9",
        "outputId": "a9c7b045-d742-4d65-b8d8-f8e03a5a5a92"
      },
      "execution_count": null,
      "outputs": [
        {
          "output_type": "execute_result",
          "data": {
            "text/plain": [
              "(2205, 552, 2205, 552)"
            ]
          },
          "metadata": {},
          "execution_count": 44
        }
      ]
    },
    {
      "cell_type": "code",
      "source": [
        "tf.random.set_seed(42)\n",
        "\n",
        "# Create model (same model as model 1 but data input will be different)\n",
        "model_2 = tf.keras.Sequential([\n",
        "  layers.Dense(128, activation=\"relu\"),\n",
        "  layers.Dense(HORIZON) # need to predict horizon number of steps into the future\n",
        "], name=\"model_2_dense\")\n",
        "\n",
        "model_2.compile(loss=\"mae\",\n",
        "                optimizer=tf.keras.optimizers.Adam())\n",
        "\n",
        "model_2.fit(train_windows,\n",
        "            train_labels,\n",
        "            epochs=100,\n",
        "            batch_size=128,\n",
        "            verbose=0,\n",
        "            validation_data=(test_windows, test_labels),\n",
        "            callbacks=[create_model_checkpoint(model_name=model_2.name)])"
      ],
      "metadata": {
        "colab": {
          "base_uri": "https://localhost:8080/"
        },
        "id": "mdoOKo-hT5k2",
        "outputId": "a406d8d9-2a20-4d84-93e8-5244ecdf4536"
      },
      "execution_count": null,
      "outputs": [
        {
          "output_type": "execute_result",
          "data": {
            "text/plain": [
              "<keras.src.callbacks.History at 0x7ff7d01dd3c0>"
            ]
          },
          "metadata": {},
          "execution_count": 45
        }
      ]
    },
    {
      "cell_type": "code",
      "source": [
        "# Evaluate model 2 preds\n",
        "model_2.evaluate(test_windows, test_labels)"
      ],
      "metadata": {
        "colab": {
          "base_uri": "https://localhost:8080/"
        },
        "id": "uahDZyCmUB7j",
        "outputId": "5a12a747-a60d-4756-c45f-fc107afaef28"
      },
      "execution_count": null,
      "outputs": [
        {
          "output_type": "stream",
          "name": "stdout",
          "text": [
            "18/18 [==============================] - 0s 4ms/step - loss: 637.7321\n"
          ]
        },
        {
          "output_type": "execute_result",
          "data": {
            "text/plain": [
              "637.7320556640625"
            ]
          },
          "metadata": {},
          "execution_count": 46
        }
      ]
    },
    {
      "cell_type": "code",
      "source": [
        "# Load in best performing model\n",
        "model_2 = tf.keras.models.load_model(\"model_experiments/model_2_dense/\")\n",
        "model_2.evaluate(test_windows, test_labels)"
      ],
      "metadata": {
        "colab": {
          "base_uri": "https://localhost:8080/"
        },
        "id": "-x10CM9MUVOr",
        "outputId": "58964e42-7b58-4317-c913-43cb60c5c8cf"
      },
      "execution_count": null,
      "outputs": [
        {
          "output_type": "stream",
          "name": "stdout",
          "text": [
            "18/18 [==============================] - 0s 4ms/step - loss: 606.2349\n"
          ]
        },
        {
          "output_type": "execute_result",
          "data": {
            "text/plain": [
              "606.2349243164062"
            ]
          },
          "metadata": {},
          "execution_count": 47
        }
      ]
    },
    {
      "cell_type": "code",
      "source": [
        "# Get forecast predictions\n",
        "model_2_preds = make_preds(model_2,\n",
        "                           input_data=test_windows)"
      ],
      "metadata": {
        "colab": {
          "base_uri": "https://localhost:8080/"
        },
        "id": "qNJMYLeWUrfl",
        "outputId": "87809dfb-1903-4412-ac9d-140de60cc75f"
      },
      "execution_count": null,
      "outputs": [
        {
          "output_type": "stream",
          "name": "stdout",
          "text": [
            "18/18 [==============================] - 0s 2ms/step\n"
          ]
        }
      ]
    },
    {
      "cell_type": "code",
      "source": [
        "# Evaluate results for model 2 predictions\n",
        "model_2_results = evaluate_preds(y_true=tf.squeeze(test_labels), # remove 1 dimension of test labels\n",
        "                                 y_pred=model_2_preds)\n",
        "model_2_results"
      ],
      "metadata": {
        "colab": {
          "base_uri": "https://localhost:8080/"
        },
        "id": "ZbCX1lfSUutP",
        "outputId": "6373a705-61cb-454f-a7af-77b22ce96ace"
      },
      "execution_count": null,
      "outputs": [
        {
          "output_type": "execute_result",
          "data": {
            "text/plain": [
              "{'mae': 606.2349,\n",
              " 'mse': 1320534.8,\n",
              " 'rmse': 1149.1453,\n",
              " 'mape': 2.7467275,\n",
              " 'mase': 1.0597047}"
            ]
          },
          "metadata": {},
          "execution_count": 49
        }
      ]
    },
    {
      "cell_type": "code",
      "source": [
        "offset = 300\n",
        "plt.figure(figsize=(10, 7))\n",
        "# Account for the test_window offset\n",
        "plot_time_series(timesteps=X_test[-len(test_windows):], values=test_labels[:, 0], start=offset, label=\"test_data\")\n",
        "plot_time_series(timesteps=X_test[-len(test_windows):], values=model_2_preds, start=offset, format=\"-\", label=\"model_2_preds\")"
      ],
      "metadata": {
        "colab": {
          "base_uri": "https://localhost:8080/",
          "height": 619
        },
        "id": "7UjRi93kUxWk",
        "outputId": "8110ef89-215c-4f18-eba3-abc2211ae326"
      },
      "execution_count": null,
      "outputs": [
        {
          "output_type": "display_data",
          "data": {
            "text/plain": [
              "<Figure size 1000x700 with 1 Axes>"
            ],
            "image/png": "[encoded data removed]"
          },
          "metadata": {}
        }
      ]
    },
    {
      "cell_type": "markdown",
      "source": [
        "#Model 3: Dense (window = 30, horizon = 7)"
      ],
      "metadata": {
        "id": "szHx2OlVWoKj"
      }
    },
    {
      "cell_type": "code",
      "source": [
        "HORIZON = 7\n",
        "WINDOW_SIZE = 30\n",
        "\n",
        "full_windows, full_labels = make_windows(prices, window_size=WINDOW_SIZE, horizon=HORIZON)\n",
        "len(full_windows), len(full_labels)"
      ],
      "metadata": {
        "id": "W9vg2sk3u4eU",
        "colab": {
          "base_uri": "https://localhost:8080/"
        },
        "outputId": "b909df53-2837-4e64-fabc-ed14df789ec2"
      },
      "execution_count": null,
      "outputs": [
        {
          "output_type": "execute_result",
          "data": {
            "text/plain": [
              "(2751, 2751)"
            ]
          },
          "metadata": {},
          "execution_count": 51
        }
      ]
    },
    {
      "cell_type": "code",
      "source": [
        "train_windows, test_windows, train_labels, test_labels = make_train_test_splits(windows=full_windows, labels=full_labels, test_split=0.2)\n",
        "len(train_windows), len(test_windows), len(train_labels), len(test_labels)"
      ],
      "metadata": {
        "colab": {
          "base_uri": "https://localhost:8080/"
        },
        "id": "zPSTxfm8RgZN",
        "outputId": "4258cd6c-93d5-47ab-9f05-60d47e0ddbcb"
      },
      "execution_count": null,
      "outputs": [
        {
          "output_type": "execute_result",
          "data": {
            "text/plain": [
              "(2200, 551, 2200, 551)"
            ]
          },
          "metadata": {},
          "execution_count": 52
        }
      ]
    },
    {
      "cell_type": "code",
      "source": [
        "tf.random.set_seed(42)\n",
        "\n",
        "# Create model (same as model_1 except with different data input size)\n",
        "model_3 = tf.keras.Sequential([\n",
        "  layers.Dense(128, activation=\"relu\"),\n",
        "  layers.Dense(HORIZON)\n",
        "], name=\"model_3_dense\")\n",
        "\n",
        "model_3.compile(loss=\"mae\",\n",
        "                optimizer=tf.keras.optimizers.Adam())\n",
        "\n",
        "model_3.fit(train_windows,\n",
        "            train_labels,\n",
        "            batch_size=128,\n",
        "            epochs=100,\n",
        "            verbose=0,\n",
        "            validation_data=(test_windows, test_labels),\n",
        "            callbacks=[create_model_checkpoint(model_name=model_3.name)])"
      ],
      "metadata": {
        "colab": {
          "base_uri": "https://localhost:8080/"
        },
        "id": "60T-rsffRh8o",
        "outputId": "8d37b406-c12d-4f1f-e575-695bb608c1de"
      },
      "execution_count": null,
      "outputs": [
        {
          "output_type": "execute_result",
          "data": {
            "text/plain": [
              "<keras.src.callbacks.History at 0x7ff75d98b880>"
            ]
          },
          "metadata": {},
          "execution_count": 53
        }
      ]
    },
    {
      "cell_type": "code",
      "source": [
        "model_3.evaluate(test_windows, test_labels)"
      ],
      "metadata": {
        "colab": {
          "base_uri": "https://localhost:8080/"
        },
        "id": "VMkkKt0BRk_I",
        "outputId": "dc521cf3-abf6-4751-d215-9749f68f38d7"
      },
      "execution_count": null,
      "outputs": [
        {
          "output_type": "stream",
          "name": "stdout",
          "text": [
            "18/18 [==============================] - 0s 2ms/step - loss: 1445.4929\n"
          ]
        },
        {
          "output_type": "execute_result",
          "data": {
            "text/plain": [
              "1445.492919921875"
            ]
          },
          "metadata": {},
          "execution_count": 54
        }
      ]
    },
    {
      "cell_type": "code",
      "source": [
        "# Load in best version of model_3 and evaluate\n",
        "model_3 = tf.keras.models.load_model(\"model_experiments/model_3_dense/\")\n",
        "model_3.evaluate(test_windows, test_labels)"
      ],
      "metadata": {
        "colab": {
          "base_uri": "https://localhost:8080/"
        },
        "id": "6oFMocdiSB4Z",
        "outputId": "eefe0086-83b0-421b-d9cf-64abf7808727"
      },
      "execution_count": null,
      "outputs": [
        {
          "output_type": "stream",
          "name": "stdout",
          "text": [
            "18/18 [==============================] - 0s 2ms/step - loss: 1245.6086\n"
          ]
        },
        {
          "output_type": "execute_result",
          "data": {
            "text/plain": [
              "1245.608642578125"
            ]
          },
          "metadata": {},
          "execution_count": 55
        }
      ]
    },
    {
      "cell_type": "code",
      "source": [
        "# The predictions are going to be 7 steps at a time (this is the HORIZON size)\n",
        "model_3_preds = make_preds(model_3,\n",
        "                           input_data=test_windows)\n",
        "model_3_preds[:5]"
      ],
      "metadata": {
        "colab": {
          "base_uri": "https://localhost:8080/"
        },
        "id": "B16SZAPqSFH8",
        "outputId": "5d296a7b-e982-4378-a9a2-a4b1b2046e2d"
      },
      "execution_count": null,
      "outputs": [
        {
          "output_type": "stream",
          "name": "stdout",
          "text": [
            "18/18 [==============================] - 0s 2ms/step\n"
          ]
        },
        {
          "output_type": "execute_result",
          "data": {
            "text/plain": [
              "<tf.Tensor: shape=(5, 7), dtype=float32, numpy=\n",
              "array([[9438.31 , 9559.239, 9231.691, 9779.632, 9589.351, 9649.895,\n",
              "        9630.53 ],\n",
              "       [9127.496, 9175.359, 8981.263, 9479.819, 9524.823, 9516.191,\n",
              "        9259.654],\n",
              "       [8801.506, 8872.886, 8932.518, 9063.285, 9336.147, 9221.468,\n",
              "        9308.221],\n",
              "       [8936.111, 9046.532, 9023.251, 9184.815, 9147.683, 9163.652,\n",
              "        9401.03 ],\n",
              "       [8786.348, 9142.55 , 8872.933, 9063.222, 8978.556, 8842.201,\n",
              "        9214.173]], dtype=float32)>"
            ]
          },
          "metadata": {},
          "execution_count": 56
        }
      ]
    },
    {
      "cell_type": "code",
      "source": [
        "# Calculate model_3 results - these are going to be multi-dimensional because\n",
        "# we're trying to predict more than one step at a time.\n",
        "model_3_results = evaluate_preds(y_true=tf.squeeze(test_labels),\n",
        "                                 y_pred=model_3_preds)\n",
        "model_3_results"
      ],
      "metadata": {
        "colab": {
          "base_uri": "https://localhost:8080/"
        },
        "id": "wpm7FF8KSKNf",
        "outputId": "13f772bf-83de-443e-cfe9-d3c3b14332ce"
      },
      "execution_count": null,
      "outputs": [
        {
          "output_type": "execute_result",
          "data": {
            "text/plain": [
              "{'mae': array([  760.8775  ,   543.68805 ,   452.19754 ,   502.41617 ,\n",
              "          431.36383 ,   531.06775 ,   675.58453 ,   640.78467 ,\n",
              "          502.40158 ,   649.0911  ,   888.5991  ,   989.34235 ,\n",
              "          974.63763 ,   849.0556  ,   552.43475 ,   307.40793 ,\n",
              "          151.71143 ,   179.00578 ,   243.5143  ,   216.77127 ,\n",
              "          194.24275 ,   217.14627 ,   403.33627 ,   406.2892  ,\n",
              "          202.87047 ,   168.78809 ,   210.25412 ,   126.670204,\n",
              "          179.19022 ,   228.07617 ,   312.3381  ,   462.51654 ,\n",
              "          377.12396 ,   370.48898 ,   324.98465 ,   283.8423  ,\n",
              "          381.35345 ,   232.03328 ,   265.21988 ,   221.60623 ,\n",
              "          326.14035 ,    85.862724,    98.13679 ,    56.12165 ,\n",
              "          195.66978 ,   146.80908 ,   100.06383 ,   169.80637 ,\n",
              "          118.008995,   107.09528 ,   181.32031 ,   150.77957 ,\n",
              "          201.04471 ,   187.08217 ,   256.70453 ,   352.4382  ,\n",
              "          528.57477 ,   504.26254 ,   458.2692  ,   441.3711  ,\n",
              "          346.0109  ,   175.53166 ,   311.56375 ,   362.5447  ,\n",
              "          303.95074 ,   422.9594  ,   512.98737 ,   507.3522  ,\n",
              "          178.37025 ,   260.0685  ,   255.54924 ,   477.18164 ,\n",
              "          567.7871  ,   462.87918 ,   382.40137 ,   369.35867 ,\n",
              "          324.61734 ,   345.06125 ,   469.5096  ,   639.40106 ,\n",
              "          675.88116 ,   506.32925 ,   265.01074 ,   120.55009 ,\n",
              "          203.11412 ,   227.43066 ,   212.58733 ,   330.99176 ,\n",
              "          301.91574 ,   557.7847  ,   440.90387 ,   397.87152 ,\n",
              "          263.29156 ,   278.7818  ,   284.10895 ,   322.95508 ,\n",
              "          406.4548  ,   555.5484  ,   642.0534  ,   868.51965 ,\n",
              "          649.0685  ,   327.99023 ,   242.02428 ,   453.07953 ,\n",
              "          393.60074 ,   462.45523 ,   570.12317 ,   635.5289  ,\n",
              "         1012.10657 ,   982.2998  ,   985.9745  ,   473.95242 ,\n",
              "          296.47656 ,   222.35783 ,   199.56487 ,   255.73291 ,\n",
              "          438.5394  ,   565.34534 ,   627.1583  ,  1124.4495  ,\n",
              "         1761.4838  ,  2293.2454  ,  2188.3157  ,  2116.2544  ,\n",
              "         2246.7976  ,  2662.3435  ,  1354.9768  ,   539.5224  ,\n",
              "          350.34674 ,   506.6653  ,   641.0171  ,   486.76227 ,\n",
              "          554.0679  ,   221.22697 ,   220.28725 ,   382.39014 ,\n",
              "          340.87277 ,   271.4721  ,   391.7184  ,   334.4255  ,\n",
              "          320.4036  ,   342.15765 ,   312.7863  ,   502.42514 ,\n",
              "          750.5704  ,   713.0959  ,   672.75684 ,   141.93938 ,\n",
              "          240.10555 ,   259.94482 ,   231.06285 ,   571.6284  ,\n",
              "          490.20905 ,   752.5913  ,   424.64398 ,   331.62555 ,\n",
              "          194.04164 ,   168.74197 ,   223.39432 ,   207.0533  ,\n",
              "          261.19656 ,   205.3026  ,   193.3699  ,   288.2908  ,\n",
              "          216.35149 ,   298.31656 ,   500.17084 ,   615.45074 ,\n",
              "          470.94434 ,   632.4144  ,   719.52277 ,   839.2443  ,\n",
              "          940.65173 ,  1078.0565  ,   543.53253 ,   271.57156 ,\n",
              "          314.0166  ,   277.9778  ,   514.91296 ,   483.09445 ,\n",
              "          487.91754 ,   604.12665 ,   643.762   ,  1003.8115  ,\n",
              "          914.5678  ,   303.18832 ,   383.45953 ,   586.7411  ,\n",
              "          330.56152 ,   188.22531 ,   276.5307  ,   302.16324 ,\n",
              "          429.74484 ,   427.10226 ,   579.19965 ,   614.20636 ,\n",
              "          374.84528 ,   204.80441 ,   357.70074 ,   446.5611  ,\n",
              "          523.142   ,   603.435   ,   575.226   ,   429.23465 ,\n",
              "          345.08817 ,   234.80008 ,   251.73145 ,   491.20523 ,\n",
              "          117.62821 ,   149.85728 ,   298.90903 ,   351.65652 ,\n",
              "          259.3577  ,   318.30023 ,   268.80246 ,   370.64536 ,\n",
              "          752.5726  ,   241.2786  ,   145.89621 ,   253.94922 ,\n",
              "          206.94182 ,   294.60602 ,   225.32004 ,   254.62639 ,\n",
              "          188.44461 ,   269.79324 ,   249.79855 ,   324.2673  ,\n",
              "          374.6984  ,   551.46204 ,   420.50613 ,   383.72125 ,\n",
              "          237.50418 ,   102.363976,   119.288086,   134.04367 ,\n",
              "          138.84682 ,   201.99442 ,   167.9407  ,   162.94225 ,\n",
              "           85.753624,   122.70801 ,   129.91992 ,   161.90569 ,\n",
              "          313.99582 ,   234.0258  ,   258.0551  ,   173.90541 ,\n",
              "          147.85379 ,   169.56557 ,   176.7959  ,   162.99246 ,\n",
              "          157.101   ,   169.34836 ,   226.72781 ,   269.92047 ,\n",
              "          505.8351  ,   595.5088  ,   721.30676 ,   862.9795  ,\n",
              "         1018.1812  ,  1262.1328  ,  1246.8441  ,   478.01367 ,\n",
              "          243.04604 ,   236.28055 ,   144.80637 ,   219.23814 ,\n",
              "          356.85184 ,   216.27469 ,   116.689316,   225.75084 ,\n",
              "          279.43652 ,   308.3411  ,   375.7048  ,   387.31363 ,\n",
              "          389.12723 ,   490.37125 ,   208.46373 ,   290.57953 ,\n",
              "          133.48828 ,   296.33328 ,   280.51437 ,   245.94461 ,\n",
              "          391.51855 ,   592.48425 ,   491.57617 ,   361.4936  ,\n",
              "          239.15639 ,   228.57869 ,   297.40012 ,   474.93695 ,\n",
              "          171.4488  ,   183.92174 ,   294.24957 ,   406.5911  ,\n",
              "          715.7614  ,   840.85223 ,  1148.42    ,  1569.2932  ,\n",
              "         1552.1144  ,   995.27374 ,   642.39594 ,   137.09863 ,\n",
              "          151.81473 ,   180.15639 ,   250.35031 ,   251.35435 ,\n",
              "          208.41252 ,   304.0516  ,   371.05887 ,   246.20787 ,\n",
              "          194.40598 ,   224.37682 ,   461.57758 ,   456.91406 ,\n",
              "          456.21582 ,   580.49945 ,   412.71442 ,   155.0759  ,\n",
              "          207.27512 ,   190.09904 ,    73.9255  ,   242.29408 ,\n",
              "          203.00977 ,   322.29492 ,   500.7073  ,   471.2934  ,\n",
              "          393.07645 ,   210.0957  ,   146.32072 ,   225.70564 ,\n",
              "          262.4636  ,   407.82242 ,   506.76382 ,   554.20984 ,\n",
              "          446.68332 ,   384.8188  ,   166.36607 ,   117.25153 ,\n",
              "          373.69043 ,   289.1473  ,   367.11246 ,   566.6674  ,\n",
              "          752.5597  ,   916.0371  ,  1053.2559  ,  1101.2971  ,\n",
              "         1184.8778  ,   332.43945 ,   217.91574 ,   178.345   ,\n",
              "          264.0964  ,   198.8881  ,   264.57867 ,   179.86426 ,\n",
              "          213.93066 ,   402.53613 ,   507.50824 ,   680.3009  ,\n",
              "          819.63116 ,   904.81305 ,  1047.2933  ,  1034.0237  ,\n",
              "          350.50153 ,   482.8199  ,   394.6321  ,   275.31808 ,\n",
              "          394.54883 ,   751.0703  ,   910.38617 ,   774.4894  ,\n",
              "         1058.4949  ,  1164.4415  ,  1777.6384  ,  1702.0393  ,\n",
              "          923.6872  ,   377.9029  ,   475.82004 ,   646.3139  ,\n",
              "          963.06976 ,  1154.094   ,  1021.7358  ,  1195.7238  ,\n",
              "          957.57117 ,   693.9425  ,  1275.2784  ,  1218.5198  ,\n",
              "         1009.4082  ,   313.95758 ,   299.18637 ,   551.2578  ,\n",
              "          953.767   ,   892.58484 ,   472.56305 ,   701.09344 ,\n",
              "          632.9389  ,   417.3351  ,   731.47766 ,  1377.2913  ,\n",
              "         2284.176   ,  2558.613   ,  2994.8596  ,  3158.0156  ,\n",
              "         3452.3516  ,  2261.965   ,   761.2486  ,   383.60574 ,\n",
              "          801.09796 ,   968.08984 ,  1297.7107  ,  1680.6964  ,\n",
              "         2335.3591  ,  3194.4028  ,  2993.048   ,  2155.7615  ,\n",
              "         2584.9863  ,  2586.9604  ,  3136.065   ,  2877.3982  ,\n",
              "         3736.127   ,  5046.5737  ,  4456.952   ,  4275.2915  ,\n",
              "         4400.2236  ,  3485.6667  ,  2482.7188  ,  1846.9749  ,\n",
              "         3922.9392  ,  5529.805   ,  4480.9966  ,  1800.3499  ,\n",
              "         1016.55023 ,  1036.2483  ,  3215.766   ,  3302.504   ,\n",
              "         3518.4866  ,  3556.5625  ,  3325.8223  ,  4380.8857  ,\n",
              "         3755.9556  ,  1308.9392  ,   992.7726  ,  1464.3337  ,\n",
              "         2009.7698  ,  1888.7537  ,  1749.3479  ,  3397.5261  ,\n",
              "         3160.0803  ,  1968.9275  ,  2779.141   ,  2251.398   ,\n",
              "         4077.701   ,  5202.822   ,  5230.699   ,  5505.82    ,\n",
              "         5845.4834  ,  5082.219   ,  7021.7305  ,  5206.4404  ,\n",
              "         1902.0938  ,  1879.8416  ,  1122.168   ,  1844.3588  ,\n",
              "         2587.4583  ,  3403.0708  ,  2063.5854  ,  3427.9023  ,\n",
              "         3336.2131  ,  3599.0842  ,  4926.1147  ,  7269.671   ,\n",
              "        10656.165   , 10001.12    ,  5368.5127  ,  2226.4832  ,\n",
              "         2266.043   ,  1424.7684  ,  2712.2122  ,  3561.7148  ,\n",
              "         2946.2456  ,  2997.0972  ,  2582.5994  ,  4043.4866  ,\n",
              "         4814.4014  ,  5863.6255  ,  6328.315   ,  5930.0557  ,\n",
              "         4317.3306  ,  1675.3639  ,  1579.6467  ,  1042.3783  ,\n",
              "         1616.4264  ,  3280.6506  ,  2302.8298  ,  2065.3855  ,\n",
              "         3410.8542  ,  3355.2573  ,  5652.025   ,  6386.347   ,\n",
              "         6311.89    ,  2505.0256  ,  1623.2567  ,  2345.1138  ,\n",
              "         3550.855   ,  3833.2935  ,  1934.4877  ,  3014.2566  ,\n",
              "         1142.2745  ,   874.45593 ,  1316.8499  ,  1441.1183  ,\n",
              "         1800.7522  ,   664.97266 ,   782.1886  ,  1470.9347  ,\n",
              "         1701.534   ,  2789.0295  ,  3081.4983  ,  2904.8582  ,\n",
              "         1808.7031  ,  2400.8042  ,  2701.2478  ,  3769.1077  ,\n",
              "         6203.9683  ,  7660.675   ,  8874.158   ,  8879.8     ,\n",
              "         7257.599   ,  5282.1284  ,  4628.165   ,  2614.3733  ,\n",
              "         1709.1345  ,  2652.4448  ,  3747.6067  ,  5862.851   ,\n",
              "         3536.3333  ,  1583.2561  ,  1305.3405  ,  1492.683   ,\n",
              "         1645.5848  ,  1653.2444  ,  1501.4498  ,  2061.8606  ,\n",
              "         1634.4475  ,  1984.0898  ,  2632.7651  ,  3312.7634  ,\n",
              "         5320.321   ,  8414.556   ,  8684.067   ], dtype=float32),\n",
              " 'mse': array([6.57487562e+05, 3.74638500e+05, 2.73840219e+05, 3.04624812e+05,\n",
              "        2.69625438e+05, 3.46488938e+05, 5.06152281e+05, 5.31346812e+05,\n",
              "        4.45127438e+05, 6.37267875e+05, 1.04145756e+06, 1.17608662e+06,\n",
              "        1.07366488e+06, 7.61380062e+05, 3.19060781e+05, 1.37295234e+05,\n",
              "        3.93791680e+04, 5.28505742e+04, 8.76411406e+04, 9.14574844e+04,\n",
              "        5.00337188e+04, 6.36248711e+04, 1.72184641e+05, 1.95698906e+05,\n",
              "        5.47787188e+04, 4.42376953e+04, 4.88468047e+04, 2.45069824e+04,\n",
              "        4.34903125e+04, 8.08963906e+04, 1.26642648e+05, 2.35885781e+05,\n",
              "        1.82000953e+05, 2.30237922e+05, 1.92158375e+05, 1.33584969e+05,\n",
              "        2.20250703e+05, 9.52726953e+04, 1.17248766e+05, 7.04985234e+04,\n",
              "        1.30883148e+05, 1.42354941e+04, 1.84344902e+04, 4.61821094e+03,\n",
              "        4.96803945e+04, 3.24583594e+04, 1.28617188e+04, 3.37402461e+04,\n",
              "        2.37143242e+04, 2.53393887e+04, 6.11124883e+04, 3.34646133e+04,\n",
              "        6.79928516e+04, 4.62541953e+04, 9.83582500e+04, 1.94256859e+05,\n",
              "        3.42921938e+05, 3.41059000e+05, 2.70141906e+05, 2.23137969e+05,\n",
              "        1.31324062e+05, 4.99011484e+04, 1.60499969e+05, 2.18244828e+05,\n",
              "        1.50364219e+05, 2.26035781e+05, 3.05099562e+05, 2.88523969e+05,\n",
              "        5.05548203e+04, 8.94215391e+04, 1.07996148e+05, 2.91733594e+05,\n",
              "        3.91468406e+05, 2.63279219e+05, 1.85416719e+05, 1.99739969e+05,\n",
              "        1.17326258e+05, 1.71925531e+05, 2.76979281e+05, 5.12582250e+05,\n",
              "        4.93429844e+05, 2.85171594e+05, 8.88907656e+04, 2.04163945e+04,\n",
              "        5.28818945e+04, 8.81168047e+04, 5.36721797e+04, 1.35714031e+05,\n",
              "        1.22426062e+05, 3.57948656e+05, 2.37691000e+05, 2.26406875e+05,\n",
              "        8.85388047e+04, 9.31902891e+04, 1.09175797e+05, 1.18790008e+05,\n",
              "        2.30325078e+05, 4.12008188e+05, 5.14963594e+05, 7.86461000e+05,\n",
              "        5.15914312e+05, 1.32995031e+05, 8.38559219e+04, 2.56513672e+05,\n",
              "        2.83415219e+05, 3.83138750e+05, 5.41706000e+05, 5.89933812e+05,\n",
              "        1.17647412e+06, 1.05732538e+06, 1.00922200e+06, 2.62711156e+05,\n",
              "        1.01471305e+05, 5.89414297e+04, 6.83203047e+04, 8.60055078e+04,\n",
              "        3.30699000e+05, 4.82384938e+05, 4.98241844e+05, 2.40805475e+06,\n",
              "        4.42788800e+06, 6.86769350e+06, 6.54585150e+06, 6.12074150e+06,\n",
              "        5.97713750e+06, 7.13351900e+06, 2.16350250e+06, 3.54239094e+05,\n",
              "        1.61106391e+05, 3.81094844e+05, 6.09261562e+05, 2.89949156e+05,\n",
              "        3.50674219e+05, 6.49987500e+04, 1.02933945e+05, 1.94508109e+05,\n",
              "        1.97651625e+05, 1.00762578e+05, 2.08295875e+05, 1.79958625e+05,\n",
              "        1.85125844e+05, 2.23171219e+05, 1.30843539e+05, 2.79695000e+05,\n",
              "        6.29699938e+05, 5.44310375e+05, 5.27064000e+05, 2.37513184e+04,\n",
              "        8.78148125e+04, 9.57376016e+04, 1.11708961e+05, 4.38026844e+05,\n",
              "        3.07014156e+05, 7.20949500e+05, 2.17889984e+05, 1.25838414e+05,\n",
              "        5.64005195e+04, 3.92626250e+04, 7.09156406e+04, 6.94974844e+04,\n",
              "        1.11925938e+05, 6.75230703e+04, 5.59608789e+04, 9.55051250e+04,\n",
              "        6.02026914e+04, 1.43280594e+05, 2.72248281e+05, 5.14523750e+05,\n",
              "        5.30061812e+05, 7.55381438e+05, 7.92512312e+05, 9.40541000e+05,\n",
              "        1.02621356e+06, 1.17094912e+06, 3.23771719e+05, 1.71866891e+05,\n",
              "        2.06980141e+05, 1.16336859e+05, 3.10550688e+05, 3.10128094e+05,\n",
              "        2.98884562e+05, 4.79678406e+05, 6.16232375e+05, 1.16320975e+06,\n",
              "        9.43368062e+05, 1.70206109e+05, 1.99949891e+05, 3.86574219e+05,\n",
              "        1.27500266e+05, 6.90765156e+04, 1.26316930e+05, 1.34763641e+05,\n",
              "        2.78248250e+05, 2.31677719e+05, 3.96522719e+05, 4.42267844e+05,\n",
              "        2.11811328e+05, 5.87042188e+04, 1.47447875e+05, 2.53066109e+05,\n",
              "        4.61796156e+05, 4.44463156e+05, 3.88149156e+05, 2.79673312e+05,\n",
              "        2.11549422e+05, 6.86501094e+04, 7.39508203e+04, 2.76215469e+05,\n",
              "        2.97015820e+04, 2.85471504e+04, 1.63789031e+05, 1.81928156e+05,\n",
              "        1.27435688e+05, 1.49574625e+05, 9.28458125e+04, 1.88199422e+05,\n",
              "        5.82614875e+05, 8.54659141e+04, 5.31857891e+04, 8.23334219e+04,\n",
              "        5.55231055e+04, 1.25414703e+05, 6.86022500e+04, 9.27646328e+04,\n",
              "        4.58444180e+04, 1.05446766e+05, 8.13496094e+04, 1.31012164e+05,\n",
              "        1.78959031e+05, 3.23320688e+05, 1.92362469e+05, 1.73669344e+05,\n",
              "        6.35121680e+04, 1.36592793e+04, 2.28048105e+04, 3.72348984e+04,\n",
              "        2.50207070e+04, 6.14590859e+04, 3.59596875e+04, 3.95143867e+04,\n",
              "        1.10730576e+04, 3.41102773e+04, 2.32460352e+04, 3.48801484e+04,\n",
              "        1.16679680e+05, 7.88364219e+04, 8.17195859e+04, 4.27485078e+04,\n",
              "        3.53083711e+04, 3.85205547e+04, 4.33243125e+04, 3.78475352e+04,\n",
              "        3.22739570e+04, 4.02128008e+04, 7.39987031e+04, 1.02472680e+05,\n",
              "        5.78502438e+05, 7.08513688e+05, 9.97235125e+05, 1.11623362e+06,\n",
              "        1.43481988e+06, 1.83893938e+06, 1.63211562e+06, 3.20568688e+05,\n",
              "        9.32236406e+04, 8.30255234e+04, 3.82907266e+04, 7.29248125e+04,\n",
              "        1.63692078e+05, 8.11200781e+04, 2.29273867e+04, 6.73147031e+04,\n",
              "        1.14606680e+05, 1.21090922e+05, 1.99035500e+05, 2.07476828e+05,\n",
              "        1.85486328e+05, 2.86667875e+05, 9.26085703e+04, 1.40132750e+05,\n",
              "        3.43607070e+04, 1.08676320e+05, 1.01154070e+05, 1.25303961e+05,\n",
              "        2.03192969e+05, 3.88214844e+05, 2.96050062e+05, 1.88698672e+05,\n",
              "        7.78963594e+04, 6.39806992e+04, 1.29805039e+05, 2.55735922e+05,\n",
              "        3.64851562e+04, 3.50061875e+04, 1.86670672e+05, 3.07062000e+05,\n",
              "        8.31179062e+05, 1.18626425e+06, 1.70700388e+06, 2.71969550e+06,\n",
              "        2.50311950e+06, 1.06355212e+06, 4.61714281e+05, 3.11011738e+04,\n",
              "        2.63792559e+04, 3.62904570e+04, 9.56693516e+04, 1.05714328e+05,\n",
              "        5.73195898e+04, 1.21791461e+05, 1.62128609e+05, 9.64915703e+04,\n",
              "        4.99292695e+04, 1.19852828e+05, 3.05416000e+05, 3.07596219e+05,\n",
              "        2.63780281e+05, 4.16795938e+05, 1.89461156e+05, 4.87981016e+04,\n",
              "        5.73334375e+04, 5.46569648e+04, 1.12721875e+04, 7.44695391e+04,\n",
              "        6.12777422e+04, 1.33357406e+05, 2.84595531e+05, 2.52965031e+05,\n",
              "        1.80812266e+05, 5.26400703e+04, 3.23983105e+04, 6.88689531e+04,\n",
              "        1.12657625e+05, 2.40392750e+05, 3.58837406e+05, 3.78647938e+05,\n",
              "        2.23013391e+05, 1.82149844e+05, 3.99561992e+04, 1.67698496e+04,\n",
              "        1.64379031e+05, 1.14211109e+05, 2.68476188e+05, 6.20478500e+05,\n",
              "        9.25010875e+05, 1.21824562e+06, 1.42419112e+06, 1.39737600e+06,\n",
              "        1.42632712e+06, 1.99700750e+05, 8.37597500e+04, 5.02038164e+04,\n",
              "        9.89838281e+04, 5.62687070e+04, 9.21941953e+04, 5.97394570e+04,\n",
              "        5.59866953e+04, 4.38027031e+05, 6.08693312e+05, 7.91355125e+05,\n",
              "        9.15593312e+05, 1.16792425e+06, 1.31429425e+06, 1.12860088e+06,\n",
              "        1.99451828e+05, 2.97068969e+05, 2.26907859e+05, 1.01076766e+05,\n",
              "        2.56285125e+05, 8.65934188e+05, 1.29479788e+06, 9.71130375e+05,\n",
              "        1.43122762e+06, 1.69208200e+06, 3.58611375e+06, 3.04674850e+06,\n",
              "        1.06187575e+06, 2.12022922e+05, 4.36059750e+05, 1.23289062e+06,\n",
              "        1.35836462e+06, 1.92309488e+06, 1.67935862e+06, 2.08576962e+06,\n",
              "        1.46598338e+06, 5.73453688e+05, 2.01831462e+06, 1.68018825e+06,\n",
              "        1.06421400e+06, 1.36764422e+05, 1.59682031e+05, 4.27042844e+05,\n",
              "        1.09825775e+06, 1.06204200e+06, 3.42552844e+05, 6.80127125e+05,\n",
              "        5.97469375e+05, 2.72276469e+05, 9.08304062e+05, 3.81056850e+06,\n",
              "        8.24844400e+06, 9.90934600e+06, 1.20859110e+07, 1.17572010e+07,\n",
              "        1.22953550e+07, 5.37064700e+06, 7.77013438e+05, 2.13773141e+05,\n",
              "        1.18844025e+06, 1.31462612e+06, 2.43771750e+06, 3.54715325e+06,\n",
              "        7.39501250e+06, 1.20784160e+07, 1.02380590e+07, 7.62458300e+06,\n",
              "        1.10757140e+07, 9.39413000e+06, 1.21535220e+07, 1.28762500e+07,\n",
              "        2.19232040e+07, 3.46157800e+07, 2.96967300e+07, 2.36236260e+07,\n",
              "        2.56657020e+07, 1.75169400e+07, 8.56599100e+06, 6.60866450e+06,\n",
              "        2.00592920e+07, 3.35259560e+07, 2.11255680e+07, 3.84510875e+06,\n",
              "        1.80202688e+06, 1.53338100e+06, 1.38975790e+07, 1.44757380e+07,\n",
              "        1.86737480e+07, 1.80917380e+07, 1.32347150e+07, 2.10567480e+07,\n",
              "        1.47837580e+07, 2.67628175e+06, 1.57557000e+06, 2.55997975e+06,\n",
              "        6.73305450e+06, 4.74364450e+06, 5.15635750e+06, 1.52124270e+07,\n",
              "        1.09757500e+07, 5.75955100e+06, 9.77432000e+06, 6.50567050e+06,\n",
              "        2.49778020e+07, 3.85408840e+07, 4.38960920e+07, 4.43654280e+07,\n",
              "        4.22311960e+07, 2.84666140e+07, 5.06917680e+07, 2.95095140e+07,\n",
              "        5.20816750e+06, 5.79597350e+06, 1.55707900e+06, 5.27468450e+06,\n",
              "        1.16673770e+07, 1.57941900e+07, 7.13417550e+06, 1.38589280e+07,\n",
              "        1.61691950e+07, 1.69718540e+07, 3.85989880e+07, 6.66729960e+07,\n",
              "        1.22380528e+08, 1.06611072e+08, 3.27976860e+07, 8.51621100e+06,\n",
              "        7.10007500e+06, 2.87960000e+06, 8.25493850e+06, 1.40886560e+07,\n",
              "        1.18311550e+07, 1.18435670e+07, 1.34558510e+07, 2.44385120e+07,\n",
              "        3.04144640e+07, 4.39773120e+07, 5.22006920e+07, 4.00394680e+07,\n",
              "        2.31070180e+07, 5.13130850e+06, 3.85354625e+06, 1.77118212e+06,\n",
              "        3.51087850e+06, 1.26288960e+07, 7.98023300e+06, 8.81712300e+06,\n",
              "        1.92075500e+07, 1.69706520e+07, 3.80906200e+07, 4.62527920e+07,\n",
              "        4.28373640e+07, 7.84683150e+06, 4.04374850e+06, 8.82726900e+06,\n",
              "        1.49160910e+07, 1.74105960e+07, 4.87396000e+06, 9.87118600e+06,\n",
              "        1.70927462e+06, 1.47681112e+06, 2.53594750e+06, 3.04390250e+06,\n",
              "        4.01363250e+06, 1.07411688e+06, 9.02808062e+05, 3.01017875e+06,\n",
              "        4.88872950e+06, 1.15586020e+07, 1.33193200e+07, 1.05924060e+07,\n",
              "        5.26968500e+06, 8.46937300e+06, 1.15593900e+07, 2.40929960e+07,\n",
              "        5.13516440e+07, 7.05100880e+07, 9.25619920e+07, 8.81535920e+07,\n",
              "        6.36263760e+07, 3.45457520e+07, 2.51518400e+07, 1.11836410e+07,\n",
              "        5.09635700e+06, 9.92710600e+06, 1.58372070e+07, 3.67356840e+07,\n",
              "        1.38229230e+07, 3.50597350e+06, 2.55647825e+06, 3.18428650e+06,\n",
              "        4.75063050e+06, 4.27751200e+06, 5.05644950e+06, 5.37325550e+06,\n",
              "        4.20639600e+06, 7.44061550e+06, 1.26010870e+07, 2.00969340e+07,\n",
              "        4.39042360e+07, 8.87266560e+07, 9.62708720e+07], dtype=float32),\n",
              " 'rmse': array([  810.8561  ,   612.0772  ,   523.2974  ,   551.9283  ,\n",
              "          519.2547  ,   588.6331  ,   711.4438  ,   728.9354  ,\n",
              "          667.1787  ,   798.2906  ,  1020.51825 ,  1084.4752  ,\n",
              "         1036.178   ,   872.5709  ,   564.8547  ,   370.53372 ,\n",
              "          198.44185 ,   229.89252 ,   296.04245 ,   302.41937 ,\n",
              "          223.68217 ,   252.2397  ,   414.95135 ,   442.3787  ,\n",
              "          234.04854 ,   210.32759 ,   221.01314 ,   156.54706 ,\n",
              "          208.5433  ,   284.4229  ,   355.86887 ,   485.68073 ,\n",
              "          426.6157  ,   479.83112 ,   438.35873 ,   365.49277 ,\n",
              "          469.30875 ,   308.66275 ,   342.41608 ,   265.5156  ,\n",
              "          361.77777 ,   119.31259 ,   135.77367 ,    67.95742 ,\n",
              "          222.89099 ,   180.16203 ,   113.409515,   183.68518 ,\n",
              "          153.99455 ,   159.1835  ,   247.2094  ,   182.93335 ,\n",
              "          260.7544  ,   215.06789 ,   313.6212  ,   440.7458  ,\n",
              "          585.5954  ,   584.00256 ,   519.7518  ,   472.37482 ,\n",
              "          362.3866  ,   223.38565 ,   400.62445 ,   467.1668  ,\n",
              "          387.76825 ,   475.4322  ,   552.35815 ,   537.1443  ,\n",
              "          224.844   ,   299.03433 ,   328.62766 ,   540.12366 ,\n",
              "          625.6744  ,   513.1074  ,   430.6004  ,   446.92276 ,\n",
              "          342.5292  ,   414.63904 ,   526.2882  ,   715.9485  ,\n",
              "          702.4456  ,   534.0146  ,   298.14554 ,   142.88596 ,\n",
              "          229.96063 ,   296.84473 ,   231.67258 ,   368.39383 ,\n",
              "          349.89435 ,   598.2881  ,   487.53564 ,   475.8223  ,\n",
              "          297.55472 ,   305.27084 ,   330.4176  ,   344.65927 ,\n",
              "          479.92194 ,   641.87866 ,   717.6096  ,   886.82635 ,\n",
              "          718.2717  ,   364.68484 ,   289.57886 ,   506.47177 ,\n",
              "          532.36755 ,   618.982   ,   736.0068  ,   768.0715  ,\n",
              "         1084.6539  ,  1028.2633  ,  1004.6004  ,   512.5535  ,\n",
              "          318.5456  ,   242.77856 ,   261.38153 ,   293.26697 ,\n",
              "          575.06433 ,   694.53937 ,   705.8625  ,  1551.7908  ,\n",
              "         2104.2546  ,  2620.6284  ,  2558.486   ,  2474.0132  ,\n",
              "         2444.8184  ,  2670.8647  ,  1470.8849  ,   595.1799  ,\n",
              "          401.3806  ,   617.3288  ,   780.55206 ,   538.4693  ,\n",
              "          592.1775  ,   254.94852 ,   320.8332  ,   441.03073 ,\n",
              "          444.58026 ,   317.4312  ,   456.39444 ,   424.2153  ,\n",
              "          430.2625  ,   472.41    ,   361.72302 ,   528.86194 ,\n",
              "          793.5364  ,   737.7739  ,   725.9917  ,   154.11462 ,\n",
              "          296.33563 ,   309.41492 ,   334.22888 ,   661.83594 ,\n",
              "          554.08856 ,   849.08746 ,   466.78687 ,   354.7371  ,\n",
              "          237.48793 ,   198.148   ,   266.2999  ,   263.62375 ,\n",
              "          334.55334 ,   259.85202 ,   236.56052 ,   309.03903 ,\n",
              "          245.36237 ,   378.52423 ,   521.7742  ,   717.3031  ,\n",
              "          728.05347 ,   869.12683 ,   890.23157 ,   969.81494 ,\n",
              "         1013.022   ,  1082.104   ,   569.0094  ,   414.56833 ,\n",
              "          454.95068 ,   341.08188 ,   557.27075 ,   556.8915  ,\n",
              "          546.70337 ,   692.5882  ,   785.0047  ,  1078.5221  ,\n",
              "          971.27136 ,   412.56042 ,   447.15756 ,   621.7509  ,\n",
              "          357.07178 ,   262.8241  ,   355.41092 ,   367.10168 ,\n",
              "          527.49243 ,   481.3291  ,   629.7005  ,   665.0322  ,\n",
              "          460.22964 ,   242.28954 ,   383.98944 ,   503.05676 ,\n",
              "          679.55585 ,   666.68066 ,   623.0162  ,   528.8415  ,\n",
              "          459.945   ,   262.01166 ,   271.939   ,   525.562   ,\n",
              "          172.34146 ,   168.95901 ,   404.7086  ,   426.53036 ,\n",
              "          356.98135 ,   386.74878 ,   304.70612 ,   433.81958 ,\n",
              "          763.2921  ,   292.34555 ,   230.62044 ,   286.93802 ,\n",
              "          235.6334  ,   354.13937 ,   261.92032 ,   304.57288 ,\n",
              "          214.1131  ,   324.72568 ,   285.21854 ,   361.95602 ,\n",
              "          423.0355  ,   568.6129  ,   438.59146 ,   416.73654 ,\n",
              "          252.0162  ,   116.87292 ,   151.01262 ,   192.96347 ,\n",
              "          158.17935 ,   247.90942 ,   189.63039 ,   198.78226 ,\n",
              "          105.2286  ,   184.68968 ,   152.4665  ,   186.76227 ,\n",
              "          341.58408 ,   280.77823 ,   285.8664  ,   206.75713 ,\n",
              "          187.90521 ,   196.26654 ,   208.14493 ,   194.54443 ,\n",
              "          179.64954 ,   200.5313  ,   272.027   ,   320.11353 ,\n",
              "          760.5935  ,   841.73254 ,   998.6166  ,  1056.5195  ,\n",
              "         1197.8396  ,  1356.075   ,  1277.5428  ,   566.1878  ,\n",
              "          305.32547 ,   288.14148 ,   195.68016 ,   270.04593 ,\n",
              "          404.58878 ,   284.81586 ,   151.41792 ,   259.45078 ,\n",
              "          338.5361  ,   347.9812  ,   446.13394 ,   455.49625 ,\n",
              "          430.68124 ,   535.41376 ,   304.31656 ,   374.34308 ,\n",
              "          185.36641 ,   329.66092 ,   318.04727 ,   353.983   ,\n",
              "          450.7693  ,   623.0689  ,   544.1048  ,   434.3946  ,\n",
              "          279.09918 ,   252.94406 ,   360.28467 ,   505.7034  ,\n",
              "          191.01088 ,   187.09941 ,   432.05402 ,   554.1318  ,\n",
              "          911.69025 ,  1089.1576  ,  1306.5236  ,  1649.1499  ,\n",
              "         1582.125   ,  1031.2866  ,   679.4956  ,   176.35524 ,\n",
              "          162.41692 ,   190.50055 ,   309.30463 ,   325.1374  ,\n",
              "          239.4151  ,   348.98633 ,   402.65198 ,   310.63092 ,\n",
              "          223.44858 ,   346.19766 ,   552.64453 ,   554.6136  ,\n",
              "          513.5954  ,   645.59735 ,   435.27136 ,   220.90292 ,\n",
              "          239.44402 ,   233.78828 ,   106.170555,   272.89108 ,\n",
              "          247.54341 ,   365.18134 ,   533.475   ,   502.95627 ,\n",
              "          425.22025 ,   229.43423 ,   179.9953  ,   262.42892 ,\n",
              "          335.64508 ,   490.29865 ,   599.0304  ,   615.34375 ,\n",
              "          472.24295 ,   426.79016 ,   199.89046 ,   129.49846 ,\n",
              "          405.43683 ,   337.95135 ,   518.14685 ,   787.7046  ,\n",
              "          961.77484 ,  1103.7416  ,  1193.3948  ,  1182.1066  ,\n",
              "         1194.2893  ,   446.87888 ,   289.41275 ,   224.06207 ,\n",
              "          314.61694 ,   237.21027 ,   303.63498 ,   244.41656 ,\n",
              "          236.61508 ,   661.8361  ,   780.188   ,   889.5814  ,\n",
              "          956.8664  ,  1080.7054  ,  1146.4266  ,  1062.3563  ,\n",
              "          446.60028 ,   545.04034 ,   476.34845 ,   317.92572 ,\n",
              "          506.2461  ,   930.55585 ,  1137.8918  ,   985.4595  ,\n",
              "         1196.3392  ,  1300.8005  ,  1893.7037  ,  1745.4938  ,\n",
              "         1030.4735  ,   460.45947 ,   660.3482  ,  1110.3561  ,\n",
              "         1165.489   ,  1386.757   ,  1295.9006  ,  1444.2194  ,\n",
              "         1210.778   ,   757.2672  ,  1420.674   ,  1296.2207  ,\n",
              "         1031.6074  ,   369.81674 ,   399.60233 ,   653.4851  ,\n",
              "         1047.9779  ,  1030.5542  ,   585.28015 ,   824.6982  ,\n",
              "          772.9614  ,   521.80115 ,   953.04987 ,  1952.0677  ,\n",
              "         2872.0105  ,  3147.9114  ,  3476.4795  ,  3428.8774  ,\n",
              "         3506.4731  ,  2317.4656  ,   881.48364 ,   462.35608 ,\n",
              "         1090.156   ,  1146.5714  ,  1561.3191  ,  1883.3888  ,\n",
              "         2719.3772  ,  3475.4014  ,  3199.6965  ,  2761.2646  ,\n",
              "         3328.0195  ,  3064.9846  ,  3486.1902  ,  3588.349   ,\n",
              "         4682.222   ,  5883.5176  ,  5449.4707  ,  4860.414   ,\n",
              "         5066.133   ,  4185.324   ,  2926.7712  ,  2570.7322  ,\n",
              "         4478.76    ,  5790.16    ,  4596.256   ,  1960.8949  ,\n",
              "         1342.396   ,  1238.2976  ,  3727.9456  ,  3804.6995  ,\n",
              "         4321.313   ,  4253.4385  ,  3637.9548  ,  4588.763   ,\n",
              "         3844.9653  ,  1635.9346  ,  1255.217   ,  1599.9937  ,\n",
              "         2594.813   ,  2177.991   ,  2270.7615  ,  3900.311   ,\n",
              "         3312.967   ,  2399.9065  ,  3126.3909  ,  2550.6216  ,\n",
              "         4997.78    ,  6208.1304  ,  6625.4126  ,  6660.738   ,\n",
              "         6498.553   ,  5335.411   ,  7119.815   ,  5432.266   ,\n",
              "         2282.1409  ,  2407.4827  ,  1247.8297  ,  2296.668   ,\n",
              "         3415.7542  ,  3974.1904  ,  2670.9878  ,  3722.758   ,\n",
              "         4021.0938  ,  4119.691   ,  6212.8086  ,  8165.3535  ,\n",
              "        11062.573   , 10325.264   ,  5726.9263  ,  2918.255   ,\n",
              "         2664.5964  ,  1696.9385  ,  2873.1409  ,  3753.4858  ,\n",
              "         3439.6445  ,  3441.4482  ,  3668.2217  ,  4943.532   ,\n",
              "         5514.931   ,  6631.539   ,  7225.0044  ,  6327.675   ,\n",
              "         4806.9756  ,  2265.239   ,  1963.0452  ,  1330.8577  ,\n",
              "         1873.7338  ,  3553.7158  ,  2824.9307  ,  2969.364   ,\n",
              "         4382.6416  ,  4119.545   ,  6171.76    ,  6800.9404  ,\n",
              "         6545.026   ,  2801.2197  ,  2010.9073  ,  2971.072   ,\n",
              "         3862.1355  ,  4172.6006  ,  2207.7046  ,  3141.8442  ,\n",
              "         1307.3922  ,  1215.2412  ,  1592.4658  ,  1744.6783  ,\n",
              "         2003.4052  ,  1036.3961  ,   950.1621  ,  1734.9867  ,\n",
              "         2211.047   ,  3399.7944  ,  3649.5645  ,  3254.5977  ,\n",
              "         2295.5793  ,  2910.2188  ,  3399.9102  ,  4908.462   ,\n",
              "         7166.0063  ,  8397.028   ,  9620.914   ,  9389.014   ,\n",
              "         7976.6143  ,  5877.5635  ,  5015.161   ,  3344.195   ,\n",
              "         2257.5112  ,  3150.731   ,  3979.5989  ,  6060.9966  ,\n",
              "         3717.9192  ,  1872.4246  ,  1598.899   ,  1784.4569  ,\n",
              "         2179.594   ,  2068.2146  ,  2248.655   ,  2318.0283  ,\n",
              "         2050.95    ,  2727.749   ,  3549.801   ,  4482.9604  ,\n",
              "         6626.0273  ,  9419.482   ,  9811.772   ], dtype=float32),\n",
              " 'mape': array([ 8.697872  ,  6.2570133 ,  5.244004  ,  5.855916  ,  5.1097293 ,\n",
              "         6.3392863 ,  8.126079  ,  7.9578466 ,  6.55245   ,  8.593883  ,\n",
              "        12.007651  , 13.492833  , 13.426606  , 11.681823  ,  7.62512   ,\n",
              "         4.2425876 ,  2.0872393 ,  2.3836422 ,  3.2337136 ,  2.859371  ,\n",
              "         2.6206152 ,  2.9551446 ,  5.472056  ,  5.5244546 ,  2.7491946 ,\n",
              "         2.295824  ,  2.8543522 ,  1.7291656 ,  2.4414644 ,  3.1442444 ,\n",
              "         4.3373194 ,  6.4422736 ,  5.323242  ,  5.4012246 ,  4.7407875 ,\n",
              "         4.129066  ,  5.543686  ,  3.3791535 ,  3.8343012 ,  3.157497  ,\n",
              "         4.490412  ,  1.1873456 ,  1.3661536 ,  0.77730703,  2.7074673 ,\n",
              "         2.0311742 ,  1.3800653 ,  2.3376    ,  1.6281132 ,  1.4925433 ,\n",
              "         2.5523825 ,  2.1007712 ,  2.8174295 ,  2.5874228 ,  3.4229088 ,\n",
              "         4.55188   ,  6.787018  ,  6.354952  ,  5.724206  ,  5.4902368 ,\n",
              "         4.2907205 ,  2.1125202 ,  3.6741633 ,  4.202139  ,  3.4642045 ,\n",
              "         4.817534  ,  5.832808  ,  5.759378  ,  2.0189006 ,  2.995567  ,\n",
              "         2.977536  ,  5.5821514 ,  6.690637  ,  5.460553  ,  4.503062  ,\n",
              "         4.3625464 ,  3.7389965 ,  3.7991323 ,  5.111716  ,  6.863971  ,\n",
              "         7.2376184 ,  5.3996    ,  2.8234859 ,  1.2738696 ,  2.1744797 ,\n",
              "         2.4302373 ,  2.2219274 ,  3.4097047 ,  3.0648148 ,  5.6019034 ,\n",
              "         4.3705106 ,  3.9029632 ,  2.5708706 ,  2.7362163 ,  2.8289485 ,\n",
              "         3.2298467 ,  4.0966864 ,  5.6422386 ,  6.567503  ,  8.891435  ,\n",
              "         6.69888   ,  3.3817601 ,  2.4706652 ,  4.7225733 ,  4.2653623 ,\n",
              "         5.1096406 ,  6.3921676 ,  7.1996913 , 11.516887  , 11.206256  ,\n",
              "        11.290196  ,  5.431416  ,  3.3876653 ,  2.5242834 ,  2.2240243 ,\n",
              "         2.9240506 ,  5.271076  ,  6.887885  ,  7.690268  , 16.421925  ,\n",
              "        26.912086  , 37.424843  , 38.096325  , 39.212826  , 41.77555   ,\n",
              "        49.43565   , 25.464695  , 10.083383  ,  6.1822085 ,  8.631086  ,\n",
              "        10.305698  ,  7.741038  ,  8.641161  ,  3.4151103 ,  3.577245  ,\n",
              "         5.9656134 ,  5.3791037 ,  4.272988  ,  6.2333765 ,  5.3543816 ,\n",
              "         5.1233354 ,  5.509437  ,  4.8322845 ,  7.486688  , 10.964935  ,\n",
              "        10.294528  ,  9.52855   ,  2.023525  ,  3.3737075 ,  3.7104692 ,\n",
              "         3.1944962 ,  8.206729  ,  7.0528054 , 10.9783    ,  6.157561  ,\n",
              "         4.7824063 ,  2.7601826 ,  2.4326763 ,  3.1444278 ,  2.896888  ,\n",
              "         3.634237  ,  2.8927338 ,  2.6665168 ,  4.015997  ,  3.002364  ,\n",
              "         3.9337356 ,  6.573697  ,  7.6947083 ,  5.5110774 ,  7.3011303 ,\n",
              "         8.225839  ,  9.5152235 , 10.626158  , 12.143107  ,  6.0373135 ,\n",
              "         2.856986  ,  3.2371986 ,  2.9134645 ,  5.437985  ,  5.1424394 ,\n",
              "         5.2646403 ,  6.6956973 ,  7.2221622 , 11.127089  , 10.146112  ,\n",
              "         3.38956   ,  4.006336  ,  6.097903  ,  3.426308  ,  2.0183396 ,\n",
              "         2.9624155 ,  3.251607  ,  4.6720247 ,  4.6658216 ,  6.4075336 ,\n",
              "         6.8102555 ,  4.173408  ,  2.262719  ,  3.9129708 ,  4.7760334 ,\n",
              "         5.361385  ,  6.228725  ,  5.912087  ,  4.3566413 ,  3.4784567 ,\n",
              "         2.408465  ,  2.562792  ,  5.078841  ,  1.211495  ,  1.5370754 ,\n",
              "         3.1311922 ,  3.6912377 ,  2.7519414 ,  3.3577251 ,  2.8453503 ,\n",
              "         3.9464395 ,  7.994228  ,  2.5534093 ,  1.563101  ,  2.7069266 ,\n",
              "         2.210442  ,  3.1520088 ,  2.3940282 ,  2.7245522 ,  2.0127141 ,\n",
              "         2.8954    ,  2.674494  ,  3.4991987 ,  4.0894337 ,  6.0209675 ,\n",
              "         4.5969834 ,  4.203659  ,  2.6067894 ,  1.1202649 ,  1.3033607 ,\n",
              "         1.4737709 ,  1.5154079 ,  2.2136319 ,  1.825839  ,  1.7556614 ,\n",
              "         0.93221396,  1.3104897 ,  1.4019    ,  1.7442653 ,  3.3976057 ,\n",
              "         2.5416424 ,  2.802515  ,  1.8910542 ,  1.6109666 ,  1.8473204 ,\n",
              "         1.9222921 ,  1.7757665 ,  1.6880846 ,  1.7898755 ,  2.3769262 ,\n",
              "         2.7887266 ,  4.8548946 ,  5.58216   ,  6.566331  ,  7.8389645 ,\n",
              "         9.11468   , 11.189493  , 11.030011  ,  4.1897    ,  2.124687  ,\n",
              "         2.065685  ,  1.2722207 ,  1.9266827 ,  3.140272  ,  1.8892225 ,\n",
              "         0.9995939 ,  1.9444715 ,  2.4159524 ,  2.6597311 ,  3.2413077 ,\n",
              "         3.332072  ,  3.3374348 ,  4.194828  ,  1.7262214 ,  2.4045873 ,\n",
              "         1.1015223 ,  2.490939  ,  2.3611212 ,  2.0584855 ,  3.345271  ,\n",
              "         5.094331  ,  4.2529182 ,  3.1541188 ,  2.0844755 ,  1.9944359 ,\n",
              "         2.602995  ,  4.1397963 ,  1.4832306 ,  1.5893664 ,  2.6085916 ,\n",
              "         3.705464  ,  6.7361116 ,  8.099404  , 11.04015   , 15.191035  ,\n",
              "        15.108617  ,  9.7288475 ,  6.295093  ,  1.3347143 ,  1.4743155 ,\n",
              "         1.7397311 ,  2.3721044 ,  2.3367605 ,  1.9346418 ,  2.8079083 ,\n",
              "         3.4079676 ,  2.2500944 ,  1.7906977 ,  2.114078  ,  4.368747  ,\n",
              "         4.328106  ,  4.316033  ,  5.5115366 ,  3.9059598 ,  1.4772241 ,\n",
              "         1.93854   ,  1.7652171 ,  0.690372  ,  2.2649739 ,  1.9075012 ,\n",
              "         3.030361  ,  4.7006345 ,  4.4357157 ,  3.7011418 ,  1.967549  ,\n",
              "         1.3667486 ,  2.056518  ,  2.3562398 ,  3.6176968 ,  4.452742  ,\n",
              "         4.8585258 ,  3.9043446 ,  3.3508189 ,  1.4471737 ,  1.0205848 ,\n",
              "         3.2695596 ,  2.5235887 ,  3.0027509 ,  4.480877  ,  5.8911767 ,\n",
              "         7.083739  ,  8.11054   ,  8.447049  ,  8.998548  ,  2.4879518 ,\n",
              "         1.6612526 ,  1.3413376 ,  1.9671977 ,  1.4637042 ,  1.9332135 ,\n",
              "         1.332782  ,  1.554147  ,  2.7274225 ,  3.3494287 ,  4.550957  ,\n",
              "         5.4172707 ,  5.903126  ,  6.8267913 ,  6.6944613 ,  2.2319994 ,\n",
              "         3.1010656 ,  2.4710789 ,  1.7404003 ,  2.4270377 ,  4.4783072 ,\n",
              "         5.307241  ,  4.441684  ,  6.002494  ,  6.4825773 ,  9.76507   ,\n",
              "         9.295468  ,  4.9610777 ,  2.0161107 ,  2.6472938 ,  3.7489626 ,\n",
              "         5.4628468 ,  6.565322  ,  5.826339  ,  6.7899003 ,  5.460497  ,\n",
              "         3.7283812 ,  6.682392  ,  6.371065  ,  5.2668524 ,  1.6380144 ,\n",
              "         1.5797017 ,  2.9282212 ,  5.1021814 ,  4.81943   ,  2.5554154 ,\n",
              "         3.7877407 ,  3.4300692 ,  2.239585  ,  3.7191637 ,  6.4861364 ,\n",
              "        10.517473  , 11.363249  , 13.078308  , 13.704369  , 14.915503  ,\n",
              "         9.681032  ,  3.2319896 ,  1.6077104 ,  3.268342  ,  3.871819  ,\n",
              "         5.054388  ,  6.4428105 ,  8.628646  , 11.601719  , 10.659438  ,\n",
              "         7.2163105 ,  8.314314  ,  8.276645  ,  9.789835  ,  8.484991  ,\n",
              "        10.417433  , 13.612387  , 11.500439  , 11.060602  , 11.258129  ,\n",
              "         8.86427   ,  6.389636  ,  5.169496  , 10.927628  , 15.377359  ,\n",
              "        12.507382  ,  4.9972167 ,  2.7222848 ,  2.8431761 ,  9.448353  ,\n",
              "         9.825098  , 10.763838  , 11.005575  , 10.285147  , 13.602456  ,\n",
              "        11.818498  ,  4.113646  ,  3.0797975 ,  4.4509206 ,  5.907173  ,\n",
              "         5.662718  ,  5.157521  ,  9.638335  ,  8.891789  ,  5.3722258 ,\n",
              "         7.4340463 ,  5.9366474 , 10.083415  , 12.298237  , 11.851244  ,\n",
              "        12.161554  , 12.734701  , 11.011575  , 14.922951  , 10.937027  ,\n",
              "         3.9443903 ,  3.7806327 ,  2.2670045 ,  3.5660245 ,  4.819341  ,\n",
              "         6.2618084 ,  3.7486856 ,  6.326189  ,  6.4610643 ,  7.0401864 ,\n",
              "        10.262168  , 15.203126  , 22.5404    , 21.27801   , 11.456478  ,\n",
              "         4.8190107 ,  4.858687  ,  3.0012023 ,  5.575436  ,  7.1910663 ,\n",
              "         5.86063   ,  5.8348713 ,  4.788334  ,  7.371571  ,  8.661406  ,\n",
              "        10.248505  , 10.819185  , 10.169712  ,  7.3743954 ,  2.8233647 ,\n",
              "         2.678903  ,  1.7559489 ,  2.803647  ,  5.706512  ,  4.074422  ,\n",
              "         3.7231963 ,  6.240213  ,  6.2432237 , 10.464757  , 11.822018  ,\n",
              "        11.684404  ,  4.638377  ,  3.0133944 ,  4.065804  ,  6.147079  ,\n",
              "         6.5748663 ,  3.317372  ,  5.1556816 ,  1.9514028 ,  1.5037268 ,\n",
              "         2.281649  ,  2.5035183 ,  3.1218567 ,  1.1614206 ,  1.35231   ,\n",
              "         2.5418696 ,  2.8281918 ,  4.544999  ,  4.965971  ,  4.6691527 ,\n",
              "         2.8885472 ,  3.941073  ,  4.5629897 ,  6.573245  , 10.955458  ,\n",
              "        13.839501  , 16.460659  , 16.776667  , 14.142068  , 10.339842  ,\n",
              "         9.04251   ,  5.1782813 ,  3.3831186 ,  4.9618015 ,  6.8319626 ,\n",
              "        10.5173435 ,  6.272365  ,  2.814198  ,  2.355656  ,  2.6597233 ,\n",
              "         2.9598782 ,  2.9641135 ,  2.7045238 ,  3.6770198 ,  2.8362951 ,\n",
              "         3.5922449 ,  4.990924  ,  6.449537  , 10.608078  , 17.146254  ,\n",
              "        18.451834  ], dtype=float32),\n",
              " 'mase': 2.2164912}"
            ]
          },
          "metadata": {},
          "execution_count": 57
        }
      ]
    },
    {
      "cell_type": "markdown",
      "source": [
        "##Make our evaluation function work for larger horizons"
      ],
      "metadata": {
        "id": "RPsF-RVhWxE8"
      }
    },
    {
      "cell_type": "code",
      "source": [
        "def evaluate_preds(y_true, y_pred):\n",
        "  # Make sure float32 (for metric calculations)\n",
        "  y_true = tf.cast(y_true, dtype=tf.float32)\n",
        "  y_pred = tf.cast(y_pred, dtype=tf.float32)\n",
        "\n",
        "  # Calculate various metrics\n",
        "  mae = tf.keras.metrics.mean_absolute_error(y_true, y_pred)\n",
        "  mse = tf.keras.metrics.mean_squared_error(y_true, y_pred)\n",
        "  rmse = tf.sqrt(mse)\n",
        "  mape = tf.keras.metrics.mean_absolute_percentage_error(y_true, y_pred)\n",
        "\n",
        "  # Account for different sized metrics (for longer horizons, reduce to single number)\n",
        "  if mae.ndim > 0: # if mae isn't already a scalar, reduce it to one by aggregating tensors to mean\n",
        "    mae = tf.reduce_mean(mae)\n",
        "    mse = tf.reduce_mean(mse)\n",
        "    rmse = tf.reduce_mean(rmse)\n",
        "    mape = tf.reduce_mean(mape)\n",
        "\n",
        "  return {\"mae\": mae.numpy(),\n",
        "          \"mse\": mse.numpy(),\n",
        "          \"rmse\": rmse.numpy(),\n",
        "          \"mape\": mape.numpy(),}"
      ],
      "metadata": {
        "id": "INkGw7DYSMP3"
      },
      "execution_count": null,
      "outputs": []
    },
    {
      "cell_type": "code",
      "source": [
        "model_3_results = evaluate_preds(y_true=tf.squeeze(test_labels),\n",
        "                                 y_pred=model_3_preds)\n",
        "model_3_results"
      ],
      "metadata": {
        "colab": {
          "base_uri": "https://localhost:8080/"
        },
        "id": "5pFovljuSZQD",
        "outputId": "1b27f4c8-5983-43d0-cd4c-7f07dcb33b66"
      },
      "execution_count": null,
      "outputs": [
        {
          "output_type": "execute_result",
          "data": {
            "text/plain": [
              "{'mae': 1245.6086, 'mse': 5511996.0, 'rmse': 1437.8165, 'mape': 5.6625934}"
            ]
          },
          "metadata": {},
          "execution_count": 59
        }
      ]
    },
    {
      "cell_type": "code",
      "source": [
        "offset = 300\n",
        "plt.figure(figsize=(10, 7))\n",
        "# Plot model_3_preds by aggregating them (note: this condenses information so the preds will look fruther ahead than the test data)\n",
        "plot_time_series(timesteps=X_test[-len(test_windows):],\n",
        "                 values=test_labels[:, 0],\n",
        "                 start=offset,\n",
        "                 label=\"Test_data\")\n",
        "plot_time_series(timesteps=X_test[-len(test_windows):],\n",
        "                 values=tf.reduce_mean(model_3_preds, axis=1),\n",
        "                 format=\"-\",\n",
        "                 start=offset,\n",
        "                 label=\"model_3_preds\")"
      ],
      "metadata": {
        "colab": {
          "base_uri": "https://localhost:8080/",
          "height": 619
        },
        "id": "zahQP6tNSe90",
        "outputId": "8e4d3025-b3d1-4eec-aeee-badb5a2942cd"
      },
      "execution_count": null,
      "outputs": [
        {
          "output_type": "display_data",
          "data": {
            "text/plain": [
              "<Figure size 1000x700 with 1 Axes>"
            ],
            "image/png": "[encoded data removed]"
          },
          "metadata": {}
        }
      ]
    },
    {
      "cell_type": "markdown",
      "source": [
        "#Comparision of models"
      ],
      "metadata": {
        "id": "_BrAi_ROWYkR"
      }
    },
    {
      "cell_type": "code",
      "source": [
        "pd.DataFrame({\"naive\": naive_results[\"mae\"],\n",
        "              \"horizon_1_window_7\": model_1_results[\"mae\"],\n",
        "              \"horizon_1_window_30\": model_2_results[\"mae\"],\n",
        "              \"horizon_7_window_30\": model_3_results[\"mae\"]}, index=[\"mae\"]).plot(figsize=(10, 7), kind=\"bar\");"
      ],
      "metadata": {
        "colab": {
          "base_uri": "https://localhost:8080/",
          "height": 616
        },
        "id": "Nx11qxMDSlOL",
        "outputId": "a72ace03-843d-4233-daff-b9fbadac150f"
      },
      "execution_count": null,
      "outputs": [
        {
          "output_type": "display_data",
          "data": {
            "text/plain": [
              "<Figure size 1000x700 with 1 Axes>"
            ],
            "image/png": "[encoded data removed]"
          },
          "metadata": {}
        }
      ]
    },
    {
      "cell_type": "markdown",
      "source": [
        "#Model 4: Conv1D"
      ],
      "metadata": {
        "id": "iKvsRDF4WVch"
      }
    },
    {
      "cell_type": "code",
      "source": [
        "HORIZON = 1 # predict next day\n",
        "WINDOW_SIZE = 7 # use previous week worth of data"
      ],
      "metadata": {
        "id": "dzyNDludSg-6"
      },
      "execution_count": null,
      "outputs": []
    },
    {
      "cell_type": "code",
      "source": [
        "# Create windowed dataset\n",
        "full_windows, full_labels = make_windows(prices, window_size=WINDOW_SIZE, horizon=HORIZON)\n",
        "len(full_windows), len(full_labels)"
      ],
      "metadata": {
        "colab": {
          "base_uri": "https://localhost:8080/"
        },
        "id": "Lz2c-zdpSkIb",
        "outputId": "e6231c8c-9e66-41d4-fb8a-2b5af792a679"
      },
      "execution_count": null,
      "outputs": [
        {
          "output_type": "execute_result",
          "data": {
            "text/plain": [
              "(2780, 2780)"
            ]
          },
          "metadata": {},
          "execution_count": 63
        }
      ]
    },
    {
      "cell_type": "code",
      "source": [
        "# Create train/test splits\n",
        "train_windows, test_windows, train_labels, test_labels = make_train_test_splits(full_windows, full_labels)\n",
        "len(train_windows), len(test_windows), len(train_labels), len(test_labels)"
      ],
      "metadata": {
        "colab": {
          "base_uri": "https://localhost:8080/"
        },
        "id": "HeHAmZg9VJ2L",
        "outputId": "945166f7-f4b8-45a8-973a-2869d64f90ea"
      },
      "execution_count": null,
      "outputs": [
        {
          "output_type": "execute_result",
          "data": {
            "text/plain": [
              "(2224, 556, 2224, 556)"
            ]
          },
          "metadata": {},
          "execution_count": 64
        }
      ]
    },
    {
      "cell_type": "code",
      "source": [
        "# Check data sample shapes\n",
        "train_windows[0].shape # returns (WINDOW_SIZE, )"
      ],
      "metadata": {
        "colab": {
          "base_uri": "https://localhost:8080/"
        },
        "id": "cyDZXQG1VL93",
        "outputId": "60b46c31-9511-4333-ee51-1317a5a7b83c"
      },
      "execution_count": null,
      "outputs": [
        {
          "output_type": "execute_result",
          "data": {
            "text/plain": [
              "(7,)"
            ]
          },
          "metadata": {},
          "execution_count": 65
        }
      ]
    },
    {
      "cell_type": "code",
      "source": [
        "# Before we pass our data to the Conv1D layer, we have to reshape it in order to make sure it works\n",
        "x = tf.constant(train_windows[0])\n",
        "expand_dims_layer = layers.Lambda(lambda x: tf.expand_dims(x, axis=1)) # add an extra dimension for timesteps\n",
        "print(f\"Original shape: {x.shape}\") # (WINDOW_SIZE)\n",
        "print(f\"Expanded shape: {expand_dims_layer(x).shape}\") # (WINDOW_SIZE, input_dim)\n",
        "print(f\"Original values with expanded shape:\\n {expand_dims_layer(x)}\")"
      ],
      "metadata": {
        "colab": {
          "base_uri": "https://localhost:8080/"
        },
        "id": "iJPFF17hVUnk",
        "outputId": "15c665d3-cf46-4145-a2e2-3ed04de93b33"
      },
      "execution_count": null,
      "outputs": [
        {
          "output_type": "stream",
          "name": "stdout",
          "text": [
            "Original shape: (7,)\n",
            "Expanded shape: (7, 1)\n",
            "Original values with expanded shape:\n",
            " [[123.65499]\n",
            " [125.455  ]\n",
            " [108.58483]\n",
            " [118.67466]\n",
            " [121.33866]\n",
            " [120.65533]\n",
            " [121.795  ]]\n"
          ]
        }
      ]
    },
    {
      "cell_type": "code",
      "source": [
        "tf.random.set_seed(42)\n",
        "\n",
        "# Create model\n",
        "model_4 = tf.keras.Sequential([\n",
        "  # Create Lambda layer to reshape inputs, without this layer, the model will error\n",
        "  layers.Lambda(lambda x: tf.expand_dims(x, axis=1)), # resize the inputs to adjust for window size / Conv1D 3D input requirements\n",
        "  layers.Conv1D(filters=128, kernel_size=5, padding=\"causal\", activation=\"relu\"),\n",
        "  layers.Dense(HORIZON)\n",
        "], name=\"model_4_conv1D\")\n",
        "\n",
        "# Compile model\n",
        "model_4.compile(loss=\"mae\",\n",
        "                optimizer=tf.keras.optimizers.Adam())\n",
        "\n",
        "# Fit model\n",
        "model_4.fit(train_windows,\n",
        "            train_labels,\n",
        "            batch_size=128,\n",
        "            epochs=100,\n",
        "            verbose=0,\n",
        "            validation_data=(test_windows, test_labels),\n",
        "            callbacks=[create_model_checkpoint(model_name=model_4.name)])"
      ],
      "metadata": {
        "colab": {
          "base_uri": "https://localhost:8080/"
        },
        "id": "1hf1USmGVhjL",
        "outputId": "43cfb6b2-a73d-4830-bf44-c8bc8c9c33bd"
      },
      "execution_count": null,
      "outputs": [
        {
          "output_type": "execute_result",
          "data": {
            "text/plain": [
              "<keras.src.callbacks.History at 0x7ff7d0195ba0>"
            ]
          },
          "metadata": {},
          "execution_count": 67
        }
      ]
    },
    {
      "cell_type": "code",
      "source": [
        "model_4.summary()"
      ],
      "metadata": {
        "colab": {
          "base_uri": "https://localhost:8080/"
        },
        "id": "6gPzAqIwVkis",
        "outputId": "eeb031b3-32e5-42ef-cad3-35d068abcf69"
      },
      "execution_count": null,
      "outputs": [
        {
          "output_type": "stream",
          "name": "stdout",
          "text": [
            "Model: \"model_4_conv1D\"\n",
            "_________________________________________________________________\n",
            " Layer (type)                Output Shape              Param #   \n",
            "=================================================================\n",
            " lambda_1 (Lambda)           (None, 1, 7)              0         \n",
            "                                                                 \n",
            " conv1d (Conv1D)             (None, 1, 128)            4608      \n",
            "                                                                 \n",
            " dense_6 (Dense)             (None, 1, 1)              129       \n",
            "                                                                 \n",
            "=================================================================\n",
            "Total params: 4737 (18.50 KB)\n",
            "Trainable params: 4737 (18.50 KB)\n",
            "Non-trainable params: 0 (0.00 Byte)\n",
            "_________________________________________________________________\n"
          ]
        }
      ]
    },
    {
      "cell_type": "code",
      "source": [
        "# Load in best performing Conv1D model and evaluate it on the test data\n",
        "model_4 = tf.keras.models.load_model(\"model_experiments/model_4_conv1D\")\n",
        "model_4.evaluate(test_windows, test_labels)"
      ],
      "metadata": {
        "colab": {
          "base_uri": "https://localhost:8080/"
        },
        "id": "bshVDosbVmaE",
        "outputId": "21d5176b-52cf-4478-86b4-e59ff6a49f26"
      },
      "execution_count": null,
      "outputs": [
        {
          "output_type": "stream",
          "name": "stdout",
          "text": [
            "18/18 [==============================] - 0s 5ms/step - loss: 574.2278\n"
          ]
        },
        {
          "output_type": "execute_result",
          "data": {
            "text/plain": [
              "574.2278442382812"
            ]
          },
          "metadata": {},
          "execution_count": 69
        }
      ]
    },
    {
      "cell_type": "code",
      "source": [
        "# Make predictions\n",
        "model_4_preds = make_preds(model_4, test_windows)\n",
        "model_4_preds[:10]"
      ],
      "metadata": {
        "colab": {
          "base_uri": "https://localhost:8080/"
        },
        "id": "2juRGxfWVoSI",
        "outputId": "4ae2901c-18c0-4bc3-9ee5-573e610fee0c"
      },
      "execution_count": null,
      "outputs": [
        {
          "output_type": "stream",
          "name": "stdout",
          "text": [
            "18/18 [==============================] - 0s 2ms/step\n"
          ]
        },
        {
          "output_type": "execute_result",
          "data": {
            "text/plain": [
              "<tf.Tensor: shape=(10,), dtype=float32, numpy=\n",
              "array([8868.056, 8756.737, 9000.145, 8763.623, 8703.289, 8746.896,\n",
              "       8664.881, 8501.845, 8452.487, 8505.557], dtype=float32)>"
            ]
          },
          "metadata": {},
          "execution_count": 70
        }
      ]
    },
    {
      "cell_type": "code",
      "source": [
        "# Evaluate predictions\n",
        "model_4_results = evaluate_preds(y_true=tf.squeeze(test_labels),\n",
        "                                 y_pred=model_4_preds)\n",
        "model_4_results"
      ],
      "metadata": {
        "colab": {
          "base_uri": "https://localhost:8080/"
        },
        "id": "yS7DWjcMV2PU",
        "outputId": "69ba2a46-e731-4b72-8dd2-f81df6f1b61f"
      },
      "execution_count": null,
      "outputs": [
        {
          "output_type": "execute_result",
          "data": {
            "text/plain": [
              "{'mae': 574.22784, 'mse': 1189496.6, 'rmse': 1090.6405, 'mape': 2.5758672}"
            ]
          },
          "metadata": {},
          "execution_count": 71
        }
      ]
    },
    {
      "cell_type": "markdown",
      "source": [
        "#Model 5: RNN (LSTM)"
      ],
      "metadata": {
        "id": "y_XUGwR1VYGn"
      }
    },
    {
      "cell_type": "code",
      "source": [
        "tf.random.set_seed(42)\n",
        "\n",
        "# Let's build an LSTM model with the Functional API\n",
        "inputs = layers.Input(shape=(WINDOW_SIZE))\n",
        "x = layers.Lambda(lambda x: tf.expand_dims(x, axis=1))(inputs) # expand input dimension to be compatible with LSTM\n",
        "# print(x.shape)\n",
        "# x = layers.LSTM(128, activation=\"relu\", return_sequences=True)(x) # this layer will error if the inputs are not the right shape\n",
        "x = layers.LSTM(128, activation=\"relu\")(x) # using the tanh loss function results in a massive error\n",
        "# print(x.shape)\n",
        "# Add another optional dense layer (you could add more of these to see if they improve model performance)\n",
        "# x = layers.Dense(32, activation=\"relu\")(x)\n",
        "output = layers.Dense(HORIZON)(x)\n",
        "model_5 = tf.keras.Model(inputs=inputs, outputs=output, name=\"model_5_lstm\")\n",
        "\n",
        "# Compile model\n",
        "model_5.compile(loss=\"mae\",\n",
        "                optimizer=tf.keras.optimizers.Adam())\n",
        "\n",
        "# Seems when saving the model several warnings are appearing: https://github.com/tensorflow/tensorflow/issues/47554\n",
        "model_5.fit(train_windows,\n",
        "            train_labels,\n",
        "            epochs=100,\n",
        "            verbose=0,\n",
        "            batch_size=128,\n",
        "            validation_data=(test_windows, test_labels),\n",
        "            callbacks=[create_model_checkpoint(model_name=model_5.name)])"
      ],
      "metadata": {
        "colab": {
          "base_uri": "https://localhost:8080/"
        },
        "id": "w6hejys0VarB",
        "outputId": "f248c10f-89e3-4a3b-add4-82fc8da36620"
      },
      "execution_count": null,
      "outputs": [
        {
          "output_type": "stream",
          "name": "stderr",
          "text": [
            "WARNING:tensorflow:Layer lstm will not use cuDNN kernels since it doesn't meet the criteria. It will use a generic GPU kernel as fallback when running on GPU.\n"
          ]
        },
        {
          "output_type": "execute_result",
          "data": {
            "text/plain": [
              "<keras.src.callbacks.History at 0x7ff83a5f0b20>"
            ]
          },
          "metadata": {},
          "execution_count": 72
        }
      ]
    },
    {
      "cell_type": "code",
      "source": [
        "# Load in best version of model 5 and evaluate on the test data\n",
        "model_5 = tf.keras.models.load_model(\"model_experiments/model_5_lstm/\")\n",
        "model_5.evaluate(test_windows, test_labels)\n"
      ],
      "metadata": {
        "colab": {
          "base_uri": "https://localhost:8080/"
        },
        "id": "rX-ePIoIVe9a",
        "outputId": "274f0e6e-fd30-4282-8f92-1e30c7454381"
      },
      "execution_count": null,
      "outputs": [
        {
          "output_type": "stream",
          "name": "stderr",
          "text": [
            "WARNING:tensorflow:Layer lstm will not use cuDNN kernels since it doesn't meet the criteria. It will use a generic GPU kernel as fallback when running on GPU.\n"
          ]
        },
        {
          "output_type": "stream",
          "name": "stdout",
          "text": [
            "18/18 [==============================] - 0s 3ms/step - loss: 581.8580\n"
          ]
        },
        {
          "output_type": "execute_result",
          "data": {
            "text/plain": [
              "581.8580322265625"
            ]
          },
          "metadata": {},
          "execution_count": 73
        }
      ]
    },
    {
      "cell_type": "code",
      "source": [
        "# Make predictions with our LSTM model\n",
        "model_5_preds = make_preds(model_5, test_windows)\n",
        "model_5_preds[:10]\n"
      ],
      "metadata": {
        "colab": {
          "base_uri": "https://localhost:8080/"
        },
        "id": "8U1Mp_6VVueg",
        "outputId": "23178927-9297-46f3-9222-6825ba540d04"
      },
      "execution_count": null,
      "outputs": [
        {
          "output_type": "stream",
          "name": "stdout",
          "text": [
            "18/18 [==============================] - 0s 2ms/step\n"
          ]
        },
        {
          "output_type": "execute_result",
          "data": {
            "text/plain": [
              "<tf.Tensor: shape=(10,), dtype=float32, numpy=\n",
              "array([8950.597, 8812.501, 9013.12 , 8839.266, 8754.027, 8772.121,\n",
              "       8717.636, 8570.268, 8489.45 , 8542.312], dtype=float32)>"
            ]
          },
          "metadata": {},
          "execution_count": 74
        }
      ]
    },
    {
      "cell_type": "code",
      "source": [
        "# Evaluate model 5 preds\n",
        "model_5_results = evaluate_preds(y_true=tf.squeeze(test_labels),\n",
        "                                 y_pred=model_5_preds)\n",
        "model_5_results"
      ],
      "metadata": {
        "colab": {
          "base_uri": "https://localhost:8080/"
        },
        "id": "cJLFQetgVzDU",
        "outputId": "65d770b4-ac32-4280-cde0-6abebb3a78a1"
      },
      "execution_count": null,
      "outputs": [
        {
          "output_type": "execute_result",
          "data": {
            "text/plain": [
              "{'mae': 581.8581, 'mse': 1224412.5, 'rmse': 1106.5317, 'mape': 2.6214898}"
            ]
          },
          "metadata": {},
          "execution_count": 75
        }
      ]
    },
    {
      "cell_type": "code",
      "source": [
        "# Make features and labels\n",
        "X = bitcoin_prices.dropna().drop(\"Price\", axis=1)\n",
        "y = bitcoin_prices.dropna()[\"Price\"]\n",
        "\n",
        "# Make train and test sets\n",
        "split_size = int(len(X) * 0.8)\n",
        "X_train, y_train = X[:split_size], y[:split_size]\n",
        "X_test, y_test = X[split_size:], y[split_size:]\n",
        "len(X_train), len(y_train), len(X_test), len(y_test)\n",
        "\n",
        "# 1. Turn train and test arrays into tensor Datasets\n",
        "train_features_dataset = tf.data.Dataset.from_tensor_slices(X_train)\n",
        "train_labels_dataset = tf.data.Dataset.from_tensor_slices(y_train)\n",
        "\n",
        "test_features_dataset = tf.data.Dataset.from_tensor_slices(X_test)\n",
        "test_labels_dataset = tf.data.Dataset.from_tensor_slices(y_test)\n",
        "\n",
        "# 2. Combine features & labels\n",
        "train_dataset = tf.data.Dataset.zip((train_features_dataset, train_labels_dataset))\n",
        "test_dataset = tf.data.Dataset.zip((test_features_dataset, test_labels_dataset))\n",
        "\n",
        "# 3. Batch and prefetch for optimal performance\n",
        "BATCH_SIZE = 1024 # taken from Appendix D in N-BEATS paper\n",
        "train_dataset = train_dataset.batch(BATCH_SIZE).prefetch(tf.data.AUTOTUNE)\n",
        "test_dataset = test_dataset.batch(BATCH_SIZE).prefetch(tf.data.AUTOTUNE)\n",
        "\n",
        "train_dataset, test_dataset"
      ],
      "metadata": {
        "colab": {
          "base_uri": "https://localhost:8080/"
        },
        "id": "Hz_rSjRbmwOf",
        "outputId": "da4fda6b-2510-490a-ceba-d6a749b832dc"
      },
      "execution_count": null,
      "outputs": [
        {
          "output_type": "execute_result",
          "data": {
            "text/plain": [
              "(<_PrefetchDataset element_spec=(TensorSpec(shape=(None, 0), dtype=tf.float64, name=None), TensorSpec(shape=(None,), dtype=tf.float64, name=None))>,\n",
              " <_PrefetchDataset element_spec=(TensorSpec(shape=(None, 0), dtype=tf.float64, name=None), TensorSpec(shape=(None,), dtype=tf.float64, name=None))>)"
            ]
          },
          "metadata": {},
          "execution_count": 76
        }
      ]
    },
    {
      "cell_type": "code",
      "source": [
        "def get_ensemble_models(horizon=HORIZON,\n",
        "                        train_data=train_dataset,\n",
        "                        test_data=test_dataset,\n",
        "                        num_iter=10,\n",
        "                        num_epochs=100,\n",
        "                        loss_fns=[\"mae\", \"mse\", \"mape\"]):\n",
        "\n",
        "\n",
        "  ensemble_models = []\n",
        "\n",
        "\n",
        "  for i in range(num_iter):\n",
        "\n",
        "    for loss_function in loss_fns:\n",
        "      print(f\"Optimizing model by reducing: {loss_function} for {num_epochs} epochs, model number: {i}\")\n",
        "\n",
        "\n",
        "      model = tf.keras.Sequential([\n",
        "        # interval estimation later: https://www.tensorflow.org/api_docs/python/tf/keras/initializers/HeNormal\n",
        "        layers.Dense(128, kernel_initializer=\"he_normal\", activation=\"relu\"),\n",
        "        layers.Dense(128, kernel_initializer=\"he_normal\", activation=\"relu\"),\n",
        "        layers.Dense(HORIZON)\n",
        "      ])\n",
        "\n",
        "      # Compile simple model with current loss function\n",
        "      model.compile(loss=loss_function,\n",
        "                    optimizer=tf.keras.optimizers.Adam(),\n",
        "                    metrics=[\"mae\", \"mse\"])\n",
        "\n",
        "      # Fit model\n",
        "      model.fit(train_data,\n",
        "                epochs=num_epochs,\n",
        "                verbose=0,\n",
        "                validation_data=test_data,\n",
        "\n",
        "                callbacks=[tf.keras.callbacks.EarlyStopping(monitor=\"val_loss\",\n",
        "                                                            patience=200,\n",
        "                                                            restore_best_weights=True),\n",
        "                           tf.keras.callbacks.ReduceLROnPlateau(monitor=\"val_loss\",\n",
        "                                                                patience=100,\n",
        "                                                                verbose=1)])\n",
        "\n",
        "\n",
        "      ensemble_models.append(model)\n",
        "\n",
        "  return ensemble_models # return list of trained models"
      ],
      "metadata": {
        "id": "qohuJCJ7V38N"
      },
      "execution_count": null,
      "outputs": []
    },
    {
      "cell_type": "code",
      "source": [
        "%%time\n",
        "# Get list of trained ensemble models\n",
        "ensemble_models = get_ensemble_models(num_iter=5,\n",
        "                                      num_epochs=1000)"
      ],
      "metadata": {
        "colab": {
          "base_uri": "https://localhost:8080/"
        },
        "id": "H1HjHLPmmW5L",
        "outputId": "5e68d144-f922-4efb-e11a-99fec504ca52"
      },
      "execution_count": null,
      "outputs": [
        {
          "output_type": "stream",
          "name": "stdout",
          "text": [
            "Optimizing model by reducing: mae for 1000 epochs, model number: 0\n",
            "Optimizing model by reducing: mse for 1000 epochs, model number: 0\n",
            "Optimizing model by reducing: mape for 1000 epochs, model number: 0\n",
            "Optimizing model by reducing: mae for 1000 epochs, model number: 1\n",
            "Optimizing model by reducing: mse for 1000 epochs, model number: 1\n",
            "Optimizing model by reducing: mape for 1000 epochs, model number: 1\n",
            "Optimizing model by reducing: mae for 1000 epochs, model number: 2\n",
            "Optimizing model by reducing: mse for 1000 epochs, model number: 2\n",
            "Optimizing model by reducing: mape for 1000 epochs, model number: 2\n",
            "Optimizing model by reducing: mae for 1000 epochs, model number: 3\n",
            "Optimizing model by reducing: mse for 1000 epochs, model number: 3\n",
            "Optimizing model by reducing: mape for 1000 epochs, model number: 3\n",
            "Optimizing model by reducing: mae for 1000 epochs, model number: 4\n",
            "Optimizing model by reducing: mse for 1000 epochs, model number: 4\n",
            "Optimizing model by reducing: mape for 1000 epochs, model number: 4\n",
            "CPU times: user 8min 46s, sys: 33.1 s, total: 9min 19s\n",
            "Wall time: 11min 9s\n"
          ]
        }
      ]
    },
    {
      "cell_type": "code",
      "source": [
        "def make_ensemble_preds(ensemble_models, data):\n",
        "  ensemble_preds = []\n",
        "  for model in ensemble_models:\n",
        "    preds = model.predict(data) # make predictions with current ensemble model\n",
        "    ensemble_preds.append(preds)\n",
        "  return tf.constant(tf.squeeze(ensemble_preds))"
      ],
      "metadata": {
        "id": "sXDpdNR-nRBA"
      },
      "execution_count": null,
      "outputs": []
    },
    {
      "cell_type": "code",
      "source": [
        "ensemble_preds = make_ensemble_preds(ensemble_models=ensemble_models,\n",
        "                                     data=test_dataset)\n",
        "ensemble_preds"
      ],
      "metadata": {
        "colab": {
          "base_uri": "https://localhost:8080/"
        },
        "id": "WYSkWFeQnT6E",
        "outputId": "061eec29-616e-40ce-f5e7-a2720a405802"
      },
      "execution_count": null,
      "outputs": [
        {
          "output_type": "stream",
          "name": "stdout",
          "text": [
            "1/1 [==============================] - 0s 76ms/step\n",
            "1/1 [==============================] - 0s 63ms/step\n",
            "1/1 [==============================] - 0s 58ms/step\n"
          ]
        },
        {
          "output_type": "stream",
          "name": "stderr",
          "text": [
            "WARNING:tensorflow:5 out of the last 22 calls to <function Model.make_predict_function.<locals>.predict_function at 0x7ff73e992b90> triggered tf.function retracing. Tracing is expensive and the excessive number of tracings could be due to (1) creating @tf.function repeatedly in a loop, (2) passing tensors with different shapes, (3) passing Python objects instead of tensors. For (1), please define your @tf.function outside of the loop. For (2), @tf.function has reduce_retracing=True option that can avoid unnecessary retracing. For (3), please refer to https://www.tensorflow.org/guide/function#controlling_retracing and https://www.tensorflow.org/api_docs/python/tf/function for  more details.\n"
          ]
        },
        {
          "output_type": "stream",
          "name": "stdout",
          "text": [
            "1/1 [==============================] - 0s 68ms/step\n"
          ]
        },
        {
          "output_type": "stream",
          "name": "stderr",
          "text": [
            "WARNING:tensorflow:6 out of the last 23 calls to <function Model.make_predict_function.<locals>.predict_function at 0x7ff73e993130> triggered tf.function retracing. Tracing is expensive and the excessive number of tracings could be due to (1) creating @tf.function repeatedly in a loop, (2) passing tensors with different shapes, (3) passing Python objects instead of tensors. For (1), please define your @tf.function outside of the loop. For (2), @tf.function has reduce_retracing=True option that can avoid unnecessary retracing. For (3), please refer to https://www.tensorflow.org/guide/function#controlling_retracing and https://www.tensorflow.org/api_docs/python/tf/function for  more details.\n"
          ]
        },
        {
          "output_type": "stream",
          "name": "stdout",
          "text": [
            "1/1 [==============================] - 0s 62ms/step\n",
            "1/1 [==============================] - 0s 63ms/step\n",
            "1/1 [==============================] - 0s 68ms/step\n",
            "1/1 [==============================] - 0s 55ms/step\n",
            "1/1 [==============================] - 0s 59ms/step\n",
            "1/1 [==============================] - 0s 62ms/step\n",
            "1/1 [==============================] - 0s 64ms/step\n",
            "1/1 [==============================] - 0s 57ms/step\n",
            "1/1 [==============================] - 0s 59ms/step\n",
            "1/1 [==============================] - 0s 62ms/step\n",
            "1/1 [==============================] - 0s 63ms/step\n"
          ]
        },
        {
          "output_type": "execute_result",
          "data": {
            "text/plain": [
              "<tf.Tensor: shape=(15, 558), dtype=float32, numpy=\n",
              "array([[2.9999623, 2.9999623, 2.9999623, ..., 2.9999623, 2.9999623,\n",
              "        2.9999623],\n",
              "       [2.389783 , 2.389783 , 2.389783 , ..., 2.389783 , 2.389783 ,\n",
              "        2.389783 ],\n",
              "       [2.0696454, 2.0696454, 2.0696454, ..., 2.0696454, 2.0696454,\n",
              "        2.0696454],\n",
              "       ...,\n",
              "       [2.9999623, 2.9999623, 2.9999623, ..., 2.9999623, 2.9999623,\n",
              "        2.9999623],\n",
              "       [2.389783 , 2.389783 , 2.389783 , ..., 2.389783 , 2.389783 ,\n",
              "        2.389783 ],\n",
              "       [2.0696456, 2.0696456, 2.0696456, ..., 2.0696456, 2.0696456,\n",
              "        2.0696456]], dtype=float32)>"
            ]
          },
          "metadata": {},
          "execution_count": 80
        }
      ]
    },
    {
      "cell_type": "code",
      "source": [
        "ensemble_results = evaluate_preds(y_true=y_test,\n",
        "                                  y_pred=np.median(ensemble_preds, axis=0)) # take the median across all ensemble predictions\n",
        "ensemble_results"
      ],
      "metadata": {
        "colab": {
          "base_uri": "https://localhost:8080/"
        },
        "id": "2uYzZ1KBnWTH",
        "outputId": "bf97f03e-8297-467d-ced1-ba36646a9978"
      },
      "execution_count": null,
      "outputs": [
        {
          "output_type": "execute_result",
          "data": {
            "text/plain": [
              "{'mae': 20054.244, 'mse': 708707460.0, 'rmse': 26621.559, 'mape': 99.979935}"
            ]
          },
          "metadata": {},
          "execution_count": 81
        }
      ]
    },
    {
      "cell_type": "markdown",
      "source": [
        "#Make a multivariate time series"
      ],
      "metadata": {
        "id": "-rHgT7In0k6r"
      }
    },
    {
      "cell_type": "code",
      "source": [
        "# Let's make a multivariate time series\n",
        "bitcoin_prices.head()"
      ],
      "metadata": {
        "id": "csEwSXbanY2n",
        "colab": {
          "base_uri": "https://localhost:8080/",
          "height": 237
        },
        "outputId": "21e6771a-5610-4bea-d0b1-1daedcae525e"
      },
      "execution_count": null,
      "outputs": [
        {
          "output_type": "execute_result",
          "data": {
            "text/plain": [
              "                Price\n",
              "Date                 \n",
              "2013-10-01  123.65499\n",
              "2013-10-02  125.45500\n",
              "2013-10-03  108.58483\n",
              "2013-10-04  118.67466\n",
              "2013-10-05  121.33866"
            ],
            "text/html": [
              "\n",
              "  <div id=\"df-8d61e1ea-6252-4e08-94ba-96f73967a806\" class=\"colab-df-container\">\n",
              "    <div>\n",
              "<style scoped>\n",
              "    .dataframe tbody tr th:only-of-type {\n",
              "        vertical-align: middle;\n",
              "    }\n",
              "\n",
              "    .dataframe tbody tr th {\n",
              "        vertical-align: top;\n",
              "    }\n",
              "\n",
              "    .dataframe thead th {\n",
              "        text-align: right;\n",
              "    }\n",
              "</style>\n",
              "<table border=\"1\" class=\"dataframe\">\n",
              "  <thead>\n",
              "    <tr style=\"text-align: right;\">\n",
              "      <th></th>\n",
              "      <th>Price</th>\n",
              "    </tr>\n",
              "    <tr>\n",
              "      <th>Date</th>\n",
              "      <th></th>\n",
              "    </tr>\n",
              "  </thead>\n",
              "  <tbody>\n",
              "    <tr>\n",
              "      <th>2013-10-01</th>\n",
              "      <td>123.65499</td>\n",
              "    </tr>\n",
              "    <tr>\n",
              "      <th>2013-10-02</th>\n",
              "      <td>125.45500</td>\n",
              "    </tr>\n",
              "    <tr>\n",
              "      <th>2013-10-03</th>\n",
              "      <td>108.58483</td>\n",
              "    </tr>\n",
              "    <tr>\n",
              "      <th>2013-10-04</th>\n",
              "      <td>118.67466</td>\n",
              "    </tr>\n",
              "    <tr>\n",
              "      <th>2013-10-05</th>\n",
              "      <td>121.33866</td>\n",
              "    </tr>\n",
              "  </tbody>\n",
              "</table>\n",
              "</div>\n",
              "    <div class=\"colab-df-buttons\">\n",
              "\n",
              "  <div class=\"colab-df-container\">\n",
              "    <button class=\"colab-df-convert\" onclick=\"convertToInteractive('df-8d61e1ea-6252-4e08-94ba-96f73967a806')\"\n",
              "            title=\"Convert this dataframe to an interactive table.\"\n",
              "            style=\"display:none;\">\n",
              "\n",
              "  <svg xmlns=\"http://www.w3.org/2000/svg\" height=\"24px\" viewBox=\"0 -960 960 960\">\n",
              "    <path d=\"M120-120v-720h720v720H120Zm60-500h600v-160H180v160Zm220 220h160v-160H400v160Zm0 220h160v-160H400v160ZM180-400h160v-160H180v160Zm440 0h160v-160H620v160ZM180-180h160v-160H180v160Zm440 0h160v-160H620v160Z\"/>\n",
              "  </svg>\n",
              "    </button>\n",
              "\n",
              "  <style>\n",
              "    .colab-df-container {\n",
              "      display:flex;\n",
              "      gap: 12px;\n",
              "    }\n",
              "\n",
              "    .colab-df-convert {\n",
              "      background-color: #E8F0FE;\n",
              "      border: none;\n",
              "      border-radius: 50%;\n",
              "      cursor: pointer;\n",
              "      display: none;\n",
              "      fill: #1967D2;\n",
              "      height: 32px;\n",
              "      padding: 0 0 0 0;\n",
              "      width: 32px;\n",
              "    }\n",
              "\n",
              "    .colab-df-convert:hover {\n",
              "      background-color: #E2EBFA;\n",
              "      box-shadow: 0px 1px 2px rgba(60, 64, 67, 0.3), 0px 1px 3px 1px rgba(60, 64, 67, 0.15);\n",
              "      fill: #174EA6;\n",
              "    }\n",
              "\n",
              "    .colab-df-buttons div {\n",
              "      margin-bottom: 4px;\n",
              "    }\n",
              "\n",
              "    [theme=dark] .colab-df-convert {\n",
              "      background-color: #3B4455;\n",
              "      fill: #D2E3FC;\n",
              "    }\n",
              "\n",
              "    [theme=dark] .colab-df-convert:hover {\n",
              "      background-color: #434B5C;\n",
              "      box-shadow: 0px 1px 3px 1px rgba(0, 0, 0, 0.15);\n",
              "      filter: drop-shadow(0px 1px 2px rgba(0, 0, 0, 0.3));\n",
              "      fill: #FFFFFF;\n",
              "    }\n",
              "  </style>\n",
              "\n",
              "    <script>\n",
              "      const buttonEl =\n",
              "        document.querySelector('#df-8d61e1ea-6252-4e08-94ba-96f73967a806 button.colab-df-convert');\n",
              "      buttonEl.style.display =\n",
              "        google.colab.kernel.accessAllowed ? 'block' : 'none';\n",
              "\n",
              "      async function convertToInteractive(key) {\n",
              "        const element = document.querySelector('#df-8d61e1ea-6252-4e08-94ba-96f73967a806');\n",
              "        const dataTable =\n",
              "          await google.colab.kernel.invokeFunction('convertToInteractive',\n",
              "                                                    [key], {});\n",
              "        if (!dataTable) return;\n",
              "\n",
              "        const docLinkHtml = 'Like what you see? Visit the ' +\n",
              "          '<a target=\"_blank\" href=https://colab.research.google.com/notebooks/data_table.ipynb>data table notebook</a>'\n",
              "          + ' to learn more about interactive tables.';\n",
              "        element.innerHTML = '';\n",
              "        dataTable['output_type'] = 'display_data';\n",
              "        await google.colab.output.renderOutput(dataTable, element);\n",
              "        const docLink = document.createElement('div');\n",
              "        docLink.innerHTML = docLinkHtml;\n",
              "        element.appendChild(docLink);\n",
              "      }\n",
              "    </script>\n",
              "  </div>\n",
              "\n",
              "\n",
              "<div id=\"df-666aa549-b592-48cf-8681-82437944556a\">\n",
              "  <button class=\"colab-df-quickchart\" onclick=\"quickchart('df-666aa549-b592-48cf-8681-82437944556a')\"\n",
              "            title=\"Suggest charts\"\n",
              "            style=\"display:none;\">\n",
              "\n",
              "<svg xmlns=\"http://www.w3.org/2000/svg\" height=\"24px\"viewBox=\"0 0 24 24\"\n",
              "     width=\"24px\">\n",
              "    <g>\n",
              "        <path d=\"M19 3H5c-1.1 0-2 .9-2 2v14c0 1.1.9 2 2 2h14c1.1 0 2-.9 2-2V5c0-1.1-.9-2-2-2zM9 17H7v-7h2v7zm4 0h-2V7h2v10zm4 0h-2v-4h2v4z\"/>\n",
              "    </g>\n",
              "</svg>\n",
              "  </button>\n",
              "\n",
              "<style>\n",
              "  .colab-df-quickchart {\n",
              "      --bg-color: #E8F0FE;\n",
              "      --fill-color: #1967D2;\n",
              "      --hover-bg-color: #E2EBFA;\n",
              "      --hover-fill-color: #174EA6;\n",
              "      --disabled-fill-color: #AAA;\n",
              "      --disabled-bg-color: #DDD;\n",
              "  }\n",
              "\n",
              "  [theme=dark] .colab-df-quickchart {\n",
              "      --bg-color: #3B4455;\n",
              "      --fill-color: #D2E3FC;\n",
              "      --hover-bg-color: #434B5C;\n",
              "      --hover-fill-color: #FFFFFF;\n",
              "      --disabled-bg-color: #3B4455;\n",
              "      --disabled-fill-color: #666;\n",
              "  }\n",
              "\n",
              "  .colab-df-quickchart {\n",
              "    background-color: var(--bg-color);\n",
              "    border: none;\n",
              "    border-radius: 50%;\n",
              "    cursor: pointer;\n",
              "    display: none;\n",
              "    fill: var(--fill-color);\n",
              "    height: 32px;\n",
              "    padding: 0;\n",
              "    width: 32px;\n",
              "  }\n",
              "\n",
              "  .colab-df-quickchart:hover {\n",
              "    background-color: var(--hover-bg-color);\n",
              "    box-shadow: 0 1px 2px rgba(60, 64, 67, 0.3), 0 1px 3px 1px rgba(60, 64, 67, 0.15);\n",
              "    fill: var(--button-hover-fill-color);\n",
              "  }\n",
              "\n",
              "  .colab-df-quickchart-complete:disabled,\n",
              "  .colab-df-quickchart-complete:disabled:hover {\n",
              "    background-color: var(--disabled-bg-color);\n",
              "    fill: var(--disabled-fill-color);\n",
              "    box-shadow: none;\n",
              "  }\n",
              "\n",
              "  .colab-df-spinner {\n",
              "    border: 2px solid var(--fill-color);\n",
              "    border-color: transparent;\n",
              "    border-bottom-color: var(--fill-color);\n",
              "    animation:\n",
              "      spin 1s steps(1) infinite;\n",
              "  }\n",
              "\n",
              "  @keyframes spin {\n",
              "    0% {\n",
              "      border-color: transparent;\n",
              "      border-bottom-color: var(--fill-color);\n",
              "      border-left-color: var(--fill-color);\n",
              "    }\n",
              "    20% {\n",
              "      border-color: transparent;\n",
              "      border-left-color: var(--fill-color);\n",
              "      border-top-color: var(--fill-color);\n",
              "    }\n",
              "    30% {\n",
              "      border-color: transparent;\n",
              "      border-left-color: var(--fill-color);\n",
              "      border-top-color: var(--fill-color);\n",
              "      border-right-color: var(--fill-color);\n",
              "    }\n",
              "    40% {\n",
              "      border-color: transparent;\n",
              "      border-right-color: var(--fill-color);\n",
              "      border-top-color: var(--fill-color);\n",
              "    }\n",
              "    60% {\n",
              "      border-color: transparent;\n",
              "      border-right-color: var(--fill-color);\n",
              "    }\n",
              "    80% {\n",
              "      border-color: transparent;\n",
              "      border-right-color: var(--fill-color);\n",
              "      border-bottom-color: var(--fill-color);\n",
              "    }\n",
              "    90% {\n",
              "      border-color: transparent;\n",
              "      border-bottom-color: var(--fill-color);\n",
              "    }\n",
              "  }\n",
              "</style>\n",
              "\n",
              "  <script>\n",
              "    async function quickchart(key) {\n",
              "      const quickchartButtonEl =\n",
              "        document.querySelector('#' + key + ' button');\n",
              "      quickchartButtonEl.disabled = true;  // To prevent multiple clicks.\n",
              "      quickchartButtonEl.classList.add('colab-df-spinner');\n",
              "      try {\n",
              "        const charts = await google.colab.kernel.invokeFunction(\n",
              "            'suggestCharts', [key], {});\n",
              "      } catch (error) {\n",
              "        console.error('Error during call to suggestCharts:', error);\n",
              "      }\n",
              "      quickchartButtonEl.classList.remove('colab-df-spinner');\n",
              "      quickchartButtonEl.classList.add('colab-df-quickchart-complete');\n",
              "    }\n",
              "    (() => {\n",
              "      let quickchartButtonEl =\n",
              "        document.querySelector('#df-666aa549-b592-48cf-8681-82437944556a button');\n",
              "      quickchartButtonEl.style.display =\n",
              "        google.colab.kernel.accessAllowed ? 'block' : 'none';\n",
              "    })();\n",
              "  </script>\n",
              "</div>\n",
              "\n",
              "    </div>\n",
              "  </div>\n"
            ]
          },
          "metadata": {},
          "execution_count": 82
        }
      ]
    },
    {
      "cell_type": "code",
      "source": [
        "# Block reward values\n",
        "block_reward_1 = 50 # 3 January 2009 (2009-01-03) - this block reward isn't in our dataset (it starts from 01 October 2013)\n",
        "block_reward_2 = 25 # 28 November 2012\n",
        "block_reward_3 = 12.5 # 9 July 2016\n",
        "block_reward_4 = 6.25 # 11 May 2020\n",
        "\n",
        "# Block reward dates (datetime form of the above date stamps)\n",
        "block_reward_2_datetime = np.datetime64(\"2012-11-28\")\n",
        "block_reward_3_datetime = np.datetime64(\"2016-07-09\")\n",
        "block_reward_4_datetime = np.datetime64(\"2020-05-11\")"
      ],
      "metadata": {
        "id": "HUaK_8n9zy_a"
      },
      "execution_count": null,
      "outputs": []
    },
    {
      "cell_type": "code",
      "source": [
        "# Get date indexes for when to add in different block dates\n",
        "block_reward_2_days = (block_reward_3_datetime - bitcoin_prices.index[0]).days\n",
        "block_reward_3_days = (block_reward_4_datetime - bitcoin_prices.index[0]).days\n",
        "block_reward_2_days, block_reward_3_days"
      ],
      "metadata": {
        "colab": {
          "base_uri": "https://localhost:8080/"
        },
        "id": "1z_8qfpL1v7m",
        "outputId": "9a402f94-7716-404a-90b9-780e2f19891d"
      },
      "execution_count": null,
      "outputs": [
        {
          "output_type": "execute_result",
          "data": {
            "text/plain": [
              "(1012, 2414)"
            ]
          },
          "metadata": {},
          "execution_count": 84
        }
      ]
    },
    {
      "cell_type": "code",
      "source": [
        "# Add block_reward column\n",
        "bitcoin_prices_block = bitcoin_prices.copy()\n",
        "bitcoin_prices_block[\"block_reward\"] = None\n",
        "\n",
        "# Set values of block_reward column (it's the last column hence -1 indexing on iloc)\n",
        "bitcoin_prices_block.iloc[:block_reward_2_days, -1] = block_reward_2\n",
        "bitcoin_prices_block.iloc[block_reward_2_days:block_reward_3_days, -1] = block_reward_3\n",
        "bitcoin_prices_block.iloc[block_reward_3_days:, -1] = block_reward_4\n",
        "bitcoin_prices_block.head()"
      ],
      "metadata": {
        "colab": {
          "base_uri": "https://localhost:8080/",
          "height": 237
        },
        "id": "oKUtzHzL1yOh",
        "outputId": "b00f5e2a-d419-465b-e400-0293598dfb46"
      },
      "execution_count": null,
      "outputs": [
        {
          "output_type": "execute_result",
          "data": {
            "text/plain": [
              "                Price block_reward\n",
              "Date                              \n",
              "2013-10-01  123.65499           25\n",
              "2013-10-02  125.45500           25\n",
              "2013-10-03  108.58483           25\n",
              "2013-10-04  118.67466           25\n",
              "2013-10-05  121.33866           25"
            ],
            "text/html": [
              "\n",
              "  <div id=\"df-a0fda43d-b983-48a6-bae9-f31f14d75929\" class=\"colab-df-container\">\n",
              "    <div>\n",
              "<style scoped>\n",
              "    .dataframe tbody tr th:only-of-type {\n",
              "        vertical-align: middle;\n",
              "    }\n",
              "\n",
              "    .dataframe tbody tr th {\n",
              "        vertical-align: top;\n",
              "    }\n",
              "\n",
              "    .dataframe thead th {\n",
              "        text-align: right;\n",
              "    }\n",
              "</style>\n",
              "<table border=\"1\" class=\"dataframe\">\n",
              "  <thead>\n",
              "    <tr style=\"text-align: right;\">\n",
              "      <th></th>\n",
              "      <th>Price</th>\n",
              "      <th>block_reward</th>\n",
              "    </tr>\n",
              "    <tr>\n",
              "      <th>Date</th>\n",
              "      <th></th>\n",
              "      <th></th>\n",
              "    </tr>\n",
              "  </thead>\n",
              "  <tbody>\n",
              "    <tr>\n",
              "      <th>2013-10-01</th>\n",
              "      <td>123.65499</td>\n",
              "      <td>25</td>\n",
              "    </tr>\n",
              "    <tr>\n",
              "      <th>2013-10-02</th>\n",
              "      <td>125.45500</td>\n",
              "      <td>25</td>\n",
              "    </tr>\n",
              "    <tr>\n",
              "      <th>2013-10-03</th>\n",
              "      <td>108.58483</td>\n",
              "      <td>25</td>\n",
              "    </tr>\n",
              "    <tr>\n",
              "      <th>2013-10-04</th>\n",
              "      <td>118.67466</td>\n",
              "      <td>25</td>\n",
              "    </tr>\n",
              "    <tr>\n",
              "      <th>2013-10-05</th>\n",
              "      <td>121.33866</td>\n",
              "      <td>25</td>\n",
              "    </tr>\n",
              "  </tbody>\n",
              "</table>\n",
              "</div>\n",
              "    <div class=\"colab-df-buttons\">\n",
              "\n",
              "  <div class=\"colab-df-container\">\n",
              "    <button class=\"colab-df-convert\" onclick=\"convertToInteractive('df-a0fda43d-b983-48a6-bae9-f31f14d75929')\"\n",
              "            title=\"Convert this dataframe to an interactive table.\"\n",
              "            style=\"display:none;\">\n",
              "\n",
              "  <svg xmlns=\"http://www.w3.org/2000/svg\" height=\"24px\" viewBox=\"0 -960 960 960\">\n",
              "    <path d=\"M120-120v-720h720v720H120Zm60-500h600v-160H180v160Zm220 220h160v-160H400v160Zm0 220h160v-160H400v160ZM180-400h160v-160H180v160Zm440 0h160v-160H620v160ZM180-180h160v-160H180v160Zm440 0h160v-160H620v160Z\"/>\n",
              "  </svg>\n",
              "    </button>\n",
              "\n",
              "  <style>\n",
              "    .colab-df-container {\n",
              "      display:flex;\n",
              "      gap: 12px;\n",
              "    }\n",
              "\n",
              "    .colab-df-convert {\n",
              "      background-color: #E8F0FE;\n",
              "      border: none;\n",
              "      border-radius: 50%;\n",
              "      cursor: pointer;\n",
              "      display: none;\n",
              "      fill: #1967D2;\n",
              "      height: 32px;\n",
              "      padding: 0 0 0 0;\n",
              "      width: 32px;\n",
              "    }\n",
              "\n",
              "    .colab-df-convert:hover {\n",
              "      background-color: #E2EBFA;\n",
              "      box-shadow: 0px 1px 2px rgba(60, 64, 67, 0.3), 0px 1px 3px 1px rgba(60, 64, 67, 0.15);\n",
              "      fill: #174EA6;\n",
              "    }\n",
              "\n",
              "    .colab-df-buttons div {\n",
              "      margin-bottom: 4px;\n",
              "    }\n",
              "\n",
              "    [theme=dark] .colab-df-convert {\n",
              "      background-color: #3B4455;\n",
              "      fill: #D2E3FC;\n",
              "    }\n",
              "\n",
              "    [theme=dark] .colab-df-convert:hover {\n",
              "      background-color: #434B5C;\n",
              "      box-shadow: 0px 1px 3px 1px rgba(0, 0, 0, 0.15);\n",
              "      filter: drop-shadow(0px 1px 2px rgba(0, 0, 0, 0.3));\n",
              "      fill: #FFFFFF;\n",
              "    }\n",
              "  </style>\n",
              "\n",
              "    <script>\n",
              "      const buttonEl =\n",
              "        document.querySelector('#df-a0fda43d-b983-48a6-bae9-f31f14d75929 button.colab-df-convert');\n",
              "      buttonEl.style.display =\n",
              "        google.colab.kernel.accessAllowed ? 'block' : 'none';\n",
              "\n",
              "      async function convertToInteractive(key) {\n",
              "        const element = document.querySelector('#df-a0fda43d-b983-48a6-bae9-f31f14d75929');\n",
              "        const dataTable =\n",
              "          await google.colab.kernel.invokeFunction('convertToInteractive',\n",
              "                                                    [key], {});\n",
              "        if (!dataTable) return;\n",
              "\n",
              "        const docLinkHtml = 'Like what you see? Visit the ' +\n",
              "          '<a target=\"_blank\" href=https://colab.research.google.com/notebooks/data_table.ipynb>data table notebook</a>'\n",
              "          + ' to learn more about interactive tables.';\n",
              "        element.innerHTML = '';\n",
              "        dataTable['output_type'] = 'display_data';\n",
              "        await google.colab.output.renderOutput(dataTable, element);\n",
              "        const docLink = document.createElement('div');\n",
              "        docLink.innerHTML = docLinkHtml;\n",
              "        element.appendChild(docLink);\n",
              "      }\n",
              "    </script>\n",
              "  </div>\n",
              "\n",
              "\n",
              "<div id=\"df-e5b008ab-aa3c-4784-a592-04ce2f63c7ba\">\n",
              "  <button class=\"colab-df-quickchart\" onclick=\"quickchart('df-e5b008ab-aa3c-4784-a592-04ce2f63c7ba')\"\n",
              "            title=\"Suggest charts\"\n",
              "            style=\"display:none;\">\n",
              "\n",
              "<svg xmlns=\"http://www.w3.org/2000/svg\" height=\"24px\"viewBox=\"0 0 24 24\"\n",
              "     width=\"24px\">\n",
              "    <g>\n",
              "        <path d=\"M19 3H5c-1.1 0-2 .9-2 2v14c0 1.1.9 2 2 2h14c1.1 0 2-.9 2-2V5c0-1.1-.9-2-2-2zM9 17H7v-7h2v7zm4 0h-2V7h2v10zm4 0h-2v-4h2v4z\"/>\n",
              "    </g>\n",
              "</svg>\n",
              "  </button>\n",
              "\n",
              "<style>\n",
              "  .colab-df-quickchart {\n",
              "      --bg-color: #E8F0FE;\n",
              "      --fill-color: #1967D2;\n",
              "      --hover-bg-color: #E2EBFA;\n",
              "      --hover-fill-color: #174EA6;\n",
              "      --disabled-fill-color: #AAA;\n",
              "      --disabled-bg-color: #DDD;\n",
              "  }\n",
              "\n",
              "  [theme=dark] .colab-df-quickchart {\n",
              "      --bg-color: #3B4455;\n",
              "      --fill-color: #D2E3FC;\n",
              "      --hover-bg-color: #434B5C;\n",
              "      --hover-fill-color: #FFFFFF;\n",
              "      --disabled-bg-color: #3B4455;\n",
              "      --disabled-fill-color: #666;\n",
              "  }\n",
              "\n",
              "  .colab-df-quickchart {\n",
              "    background-color: var(--bg-color);\n",
              "    border: none;\n",
              "    border-radius: 50%;\n",
              "    cursor: pointer;\n",
              "    display: none;\n",
              "    fill: var(--fill-color);\n",
              "    height: 32px;\n",
              "    padding: 0;\n",
              "    width: 32px;\n",
              "  }\n",
              "\n",
              "  .colab-df-quickchart:hover {\n",
              "    background-color: var(--hover-bg-color);\n",
              "    box-shadow: 0 1px 2px rgba(60, 64, 67, 0.3), 0 1px 3px 1px rgba(60, 64, 67, 0.15);\n",
              "    fill: var(--button-hover-fill-color);\n",
              "  }\n",
              "\n",
              "  .colab-df-quickchart-complete:disabled,\n",
              "  .colab-df-quickchart-complete:disabled:hover {\n",
              "    background-color: var(--disabled-bg-color);\n",
              "    fill: var(--disabled-fill-color);\n",
              "    box-shadow: none;\n",
              "  }\n",
              "\n",
              "  .colab-df-spinner {\n",
              "    border: 2px solid var(--fill-color);\n",
              "    border-color: transparent;\n",
              "    border-bottom-color: var(--fill-color);\n",
              "    animation:\n",
              "      spin 1s steps(1) infinite;\n",
              "  }\n",
              "\n",
              "  @keyframes spin {\n",
              "    0% {\n",
              "      border-color: transparent;\n",
              "      border-bottom-color: var(--fill-color);\n",
              "      border-left-color: var(--fill-color);\n",
              "    }\n",
              "    20% {\n",
              "      border-color: transparent;\n",
              "      border-left-color: var(--fill-color);\n",
              "      border-top-color: var(--fill-color);\n",
              "    }\n",
              "    30% {\n",
              "      border-color: transparent;\n",
              "      border-left-color: var(--fill-color);\n",
              "      border-top-color: var(--fill-color);\n",
              "      border-right-color: var(--fill-color);\n",
              "    }\n",
              "    40% {\n",
              "      border-color: transparent;\n",
              "      border-right-color: var(--fill-color);\n",
              "      border-top-color: var(--fill-color);\n",
              "    }\n",
              "    60% {\n",
              "      border-color: transparent;\n",
              "      border-right-color: var(--fill-color);\n",
              "    }\n",
              "    80% {\n",
              "      border-color: transparent;\n",
              "      border-right-color: var(--fill-color);\n",
              "      border-bottom-color: var(--fill-color);\n",
              "    }\n",
              "    90% {\n",
              "      border-color: transparent;\n",
              "      border-bottom-color: var(--fill-color);\n",
              "    }\n",
              "  }\n",
              "</style>\n",
              "\n",
              "  <script>\n",
              "    async function quickchart(key) {\n",
              "      const quickchartButtonEl =\n",
              "        document.querySelector('#' + key + ' button');\n",
              "      quickchartButtonEl.disabled = true;  // To prevent multiple clicks.\n",
              "      quickchartButtonEl.classList.add('colab-df-spinner');\n",
              "      try {\n",
              "        const charts = await google.colab.kernel.invokeFunction(\n",
              "            'suggestCharts', [key], {});\n",
              "      } catch (error) {\n",
              "        console.error('Error during call to suggestCharts:', error);\n",
              "      }\n",
              "      quickchartButtonEl.classList.remove('colab-df-spinner');\n",
              "      quickchartButtonEl.classList.add('colab-df-quickchart-complete');\n",
              "    }\n",
              "    (() => {\n",
              "      let quickchartButtonEl =\n",
              "        document.querySelector('#df-e5b008ab-aa3c-4784-a592-04ce2f63c7ba button');\n",
              "      quickchartButtonEl.style.display =\n",
              "        google.colab.kernel.accessAllowed ? 'block' : 'none';\n",
              "    })();\n",
              "  </script>\n",
              "</div>\n",
              "\n",
              "    </div>\n",
              "  </div>\n"
            ]
          },
          "metadata": {},
          "execution_count": 85
        }
      ]
    },
    {
      "cell_type": "code",
      "source": [
        "# Plot the block reward/price over time\n",
        "# Note: Because of the different scales of our values we'll scale them to be between 0 and 1.\n",
        "from sklearn.preprocessing import minmax_scale\n",
        "scaled_price_block_df = pd.DataFrame(minmax_scale(bitcoin_prices_block[[\"Price\", \"block_reward\"]]), # we need to scale the data first\n",
        "                                     columns=bitcoin_prices_block.columns,\n",
        "                                     index=bitcoin_prices_block.index)\n",
        "scaled_price_block_df.plot(figsize=(10, 7));"
      ],
      "metadata": {
        "colab": {
          "base_uri": "https://localhost:8080/",
          "height": 619
        },
        "id": "ozf4j0Ob10ZV",
        "outputId": "1861d0cd-6d97-486e-8de2-69c19befdf90"
      },
      "execution_count": null,
      "outputs": [
        {
          "output_type": "display_data",
          "data": {
            "text/plain": [
              "<Figure size 1000x700 with 1 Axes>"
            ],
            "image/png": "[encoded data removed]"
          },
          "metadata": {}
        }
      ]
    },
    {
      "cell_type": "markdown",
      "source": [
        "##Making a windowed dataset with pandas\n"
      ],
      "metadata": {
        "id": "HXYj0vSp1_UJ"
      }
    },
    {
      "cell_type": "code",
      "source": [
        "# Setup dataset hyperparameters\n",
        "HORIZON = 1\n",
        "WINDOW_SIZE = 7"
      ],
      "metadata": {
        "id": "JUz6qZMs143K"
      },
      "execution_count": null,
      "outputs": []
    },
    {
      "cell_type": "code",
      "source": [
        "# Make a copy of the Bitcoin historical data with block reward feature\n",
        "bitcoin_prices_windowed = bitcoin_prices_block.copy()\n",
        "\n",
        "# Add windowed columns\n",
        "for i in range(WINDOW_SIZE): # Shift values for each step in WINDOW_SIZE\n",
        "  bitcoin_prices_windowed[f\"Price+{i+1}\"] = bitcoin_prices_windowed[\"Price\"].shift(periods=i+1)\n",
        "bitcoin_prices_windowed.head(10)\n"
      ],
      "metadata": {
        "colab": {
          "base_uri": "https://localhost:8080/",
          "height": 394
        },
        "id": "tc8kMuOA2DQx",
        "outputId": "0f9d3e7c-8f3e-49f0-b807-ab37c6dc571b"
      },
      "execution_count": null,
      "outputs": [
        {
          "output_type": "execute_result",
          "data": {
            "text/plain": [
              "                Price block_reward    Price+1    Price+2    Price+3  \\\n",
              "Date                                                                  \n",
              "2013-10-01  123.65499           25        NaN        NaN        NaN   \n",
              "2013-10-02  125.45500           25  123.65499        NaN        NaN   \n",
              "2013-10-03  108.58483           25  125.45500  123.65499        NaN   \n",
              "2013-10-04  118.67466           25  108.58483  125.45500  123.65499   \n",
              "2013-10-05  121.33866           25  118.67466  108.58483  125.45500   \n",
              "2013-10-06  120.65533           25  121.33866  118.67466  108.58483   \n",
              "2013-10-07  121.79500           25  120.65533  121.33866  118.67466   \n",
              "2013-10-08  123.03300           25  121.79500  120.65533  121.33866   \n",
              "2013-10-09  124.04900           25  123.03300  121.79500  120.65533   \n",
              "2013-10-10  125.96116           25  124.04900  123.03300  121.79500   \n",
              "\n",
              "              Price+4    Price+5    Price+6    Price+7  \n",
              "Date                                                    \n",
              "2013-10-01        NaN        NaN        NaN        NaN  \n",
              "2013-10-02        NaN        NaN        NaN        NaN  \n",
              "2013-10-03        NaN        NaN        NaN        NaN  \n",
              "2013-10-04        NaN        NaN        NaN        NaN  \n",
              "2013-10-05  123.65499        NaN        NaN        NaN  \n",
              "2013-10-06  125.45500  123.65499        NaN        NaN  \n",
              "2013-10-07  108.58483  125.45500  123.65499        NaN  \n",
              "2013-10-08  118.67466  108.58483  125.45500  123.65499  \n",
              "2013-10-09  121.33866  118.67466  108.58483  125.45500  \n",
              "2013-10-10  120.65533  121.33866  118.67466  108.58483  "
            ],
            "text/html": [
              "\n",
              "  <div id=\"df-2da9a348-0fd3-4e65-b1a9-d405b1181e01\" class=\"colab-df-container\">\n",
              "    <div>\n",
              "<style scoped>\n",
              "    .dataframe tbody tr th:only-of-type {\n",
              "        vertical-align: middle;\n",
              "    }\n",
              "\n",
              "    .dataframe tbody tr th {\n",
              "        vertical-align: top;\n",
              "    }\n",
              "\n",
              "    .dataframe thead th {\n",
              "        text-align: right;\n",
              "    }\n",
              "</style>\n",
              "<table border=\"1\" class=\"dataframe\">\n",
              "  <thead>\n",
              "    <tr style=\"text-align: right;\">\n",
              "      <th></th>\n",
              "      <th>Price</th>\n",
              "      <th>block_reward</th>\n",
              "      <th>Price+1</th>\n",
              "      <th>Price+2</th>\n",
              "      <th>Price+3</th>\n",
              "      <th>Price+4</th>\n",
              "      <th>Price+5</th>\n",
              "      <th>Price+6</th>\n",
              "      <th>Price+7</th>\n",
              "    </tr>\n",
              "    <tr>\n",
              "      <th>Date</th>\n",
              "      <th></th>\n",
              "      <th></th>\n",
              "      <th></th>\n",
              "      <th></th>\n",
              "      <th></th>\n",
              "      <th></th>\n",
              "      <th></th>\n",
              "      <th></th>\n",
              "      <th></th>\n",
              "    </tr>\n",
              "  </thead>\n",
              "  <tbody>\n",
              "    <tr>\n",
              "      <th>2013-10-01</th>\n",
              "      <td>123.65499</td>\n",
              "      <td>25</td>\n",
              "      <td>NaN</td>\n",
              "      <td>NaN</td>\n",
              "      <td>NaN</td>\n",
              "      <td>NaN</td>\n",
              "      <td>NaN</td>\n",
              "      <td>NaN</td>\n",
              "      <td>NaN</td>\n",
              "    </tr>\n",
              "    <tr>\n",
              "      <th>2013-10-02</th>\n",
              "      <td>125.45500</td>\n",
              "      <td>25</td>\n",
              "      <td>123.65499</td>\n",
              "      <td>NaN</td>\n",
              "      <td>NaN</td>\n",
              "      <td>NaN</td>\n",
              "      <td>NaN</td>\n",
              "      <td>NaN</td>\n",
              "      <td>NaN</td>\n",
              "    </tr>\n",
              "    <tr>\n",
              "      <th>2013-10-03</th>\n",
              "      <td>108.58483</td>\n",
              "      <td>25</td>\n",
              "      <td>125.45500</td>\n",
              "      <td>123.65499</td>\n",
              "      <td>NaN</td>\n",
              "      <td>NaN</td>\n",
              "      <td>NaN</td>\n",
              "      <td>NaN</td>\n",
              "      <td>NaN</td>\n",
              "    </tr>\n",
              "    <tr>\n",
              "      <th>2013-10-04</th>\n",
              "      <td>118.67466</td>\n",
              "      <td>25</td>\n",
              "      <td>108.58483</td>\n",
              "      <td>125.45500</td>\n",
              "      <td>123.65499</td>\n",
              "      <td>NaN</td>\n",
              "      <td>NaN</td>\n",
              "      <td>NaN</td>\n",
              "      <td>NaN</td>\n",
              "    </tr>\n",
              "    <tr>\n",
              "      <th>2013-10-05</th>\n",
              "      <td>121.33866</td>\n",
              "      <td>25</td>\n",
              "      <td>118.67466</td>\n",
              "      <td>108.58483</td>\n",
              "      <td>125.45500</td>\n",
              "      <td>123.65499</td>\n",
              "      <td>NaN</td>\n",
              "      <td>NaN</td>\n",
              "      <td>NaN</td>\n",
              "    </tr>\n",
              "    <tr>\n",
              "      <th>2013-10-06</th>\n",
              "      <td>120.65533</td>\n",
              "      <td>25</td>\n",
              "      <td>121.33866</td>\n",
              "      <td>118.67466</td>\n",
              "      <td>108.58483</td>\n",
              "      <td>125.45500</td>\n",
              "      <td>123.65499</td>\n",
              "      <td>NaN</td>\n",
              "      <td>NaN</td>\n",
              "    </tr>\n",
              "    <tr>\n",
              "      <th>2013-10-07</th>\n",
              "      <td>121.79500</td>\n",
              "      <td>25</td>\n",
              "      <td>120.65533</td>\n",
              "      <td>121.33866</td>\n",
              "      <td>118.67466</td>\n",
              "      <td>108.58483</td>\n",
              "      <td>125.45500</td>\n",
              "      <td>123.65499</td>\n",
              "      <td>NaN</td>\n",
              "    </tr>\n",
              "    <tr>\n",
              "      <th>2013-10-08</th>\n",
              "      <td>123.03300</td>\n",
              "      <td>25</td>\n",
              "      <td>121.79500</td>\n",
              "      <td>120.65533</td>\n",
              "      <td>121.33866</td>\n",
              "      <td>118.67466</td>\n",
              "      <td>108.58483</td>\n",
              "      <td>125.45500</td>\n",
              "      <td>123.65499</td>\n",
              "    </tr>\n",
              "    <tr>\n",
              "      <th>2013-10-09</th>\n",
              "      <td>124.04900</td>\n",
              "      <td>25</td>\n",
              "      <td>123.03300</td>\n",
              "      <td>121.79500</td>\n",
              "      <td>120.65533</td>\n",
              "      <td>121.33866</td>\n",
              "      <td>118.67466</td>\n",
              "      <td>108.58483</td>\n",
              "      <td>125.45500</td>\n",
              "    </tr>\n",
              "    <tr>\n",
              "      <th>2013-10-10</th>\n",
              "      <td>125.96116</td>\n",
              "      <td>25</td>\n",
              "      <td>124.04900</td>\n",
              "      <td>123.03300</td>\n",
              "      <td>121.79500</td>\n",
              "      <td>120.65533</td>\n",
              "      <td>121.33866</td>\n",
              "      <td>118.67466</td>\n",
              "      <td>108.58483</td>\n",
              "    </tr>\n",
              "  </tbody>\n",
              "</table>\n",
              "</div>\n",
              "    <div class=\"colab-df-buttons\">\n",
              "\n",
              "  <div class=\"colab-df-container\">\n",
              "    <button class=\"colab-df-convert\" onclick=\"convertToInteractive('df-2da9a348-0fd3-4e65-b1a9-d405b1181e01')\"\n",
              "            title=\"Convert this dataframe to an interactive table.\"\n",
              "            style=\"display:none;\">\n",
              "\n",
              "  <svg xmlns=\"http://www.w3.org/2000/svg\" height=\"24px\" viewBox=\"0 -960 960 960\">\n",
              "    <path d=\"M120-120v-720h720v720H120Zm60-500h600v-160H180v160Zm220 220h160v-160H400v160Zm0 220h160v-160H400v160ZM180-400h160v-160H180v160Zm440 0h160v-160H620v160ZM180-180h160v-160H180v160Zm440 0h160v-160H620v160Z\"/>\n",
              "  </svg>\n",
              "    </button>\n",
              "\n",
              "  <style>\n",
              "    .colab-df-container {\n",
              "      display:flex;\n",
              "      gap: 12px;\n",
              "    }\n",
              "\n",
              "    .colab-df-convert {\n",
              "      background-color: #E8F0FE;\n",
              "      border: none;\n",
              "      border-radius: 50%;\n",
              "      cursor: pointer;\n",
              "      display: none;\n",
              "      fill: #1967D2;\n",
              "      height: 32px;\n",
              "      padding: 0 0 0 0;\n",
              "      width: 32px;\n",
              "    }\n",
              "\n",
              "    .colab-df-convert:hover {\n",
              "      background-color: #E2EBFA;\n",
              "      box-shadow: 0px 1px 2px rgba(60, 64, 67, 0.3), 0px 1px 3px 1px rgba(60, 64, 67, 0.15);\n",
              "      fill: #174EA6;\n",
              "    }\n",
              "\n",
              "    .colab-df-buttons div {\n",
              "      margin-bottom: 4px;\n",
              "    }\n",
              "\n",
              "    [theme=dark] .colab-df-convert {\n",
              "      background-color: #3B4455;\n",
              "      fill: #D2E3FC;\n",
              "    }\n",
              "\n",
              "    [theme=dark] .colab-df-convert:hover {\n",
              "      background-color: #434B5C;\n",
              "      box-shadow: 0px 1px 3px 1px rgba(0, 0, 0, 0.15);\n",
              "      filter: drop-shadow(0px 1px 2px rgba(0, 0, 0, 0.3));\n",
              "      fill: #FFFFFF;\n",
              "    }\n",
              "  </style>\n",
              "\n",
              "    <script>\n",
              "      const buttonEl =\n",
              "        document.querySelector('#df-2da9a348-0fd3-4e65-b1a9-d405b1181e01 button.colab-df-convert');\n",
              "      buttonEl.style.display =\n",
              "        google.colab.kernel.accessAllowed ? 'block' : 'none';\n",
              "\n",
              "      async function convertToInteractive(key) {\n",
              "        const element = document.querySelector('#df-2da9a348-0fd3-4e65-b1a9-d405b1181e01');\n",
              "        const dataTable =\n",
              "          await google.colab.kernel.invokeFunction('convertToInteractive',\n",
              "                                                    [key], {});\n",
              "        if (!dataTable) return;\n",
              "\n",
              "        const docLinkHtml = 'Like what you see? Visit the ' +\n",
              "          '<a target=\"_blank\" href=https://colab.research.google.com/notebooks/data_table.ipynb>data table notebook</a>'\n",
              "          + ' to learn more about interactive tables.';\n",
              "        element.innerHTML = '';\n",
              "        dataTable['output_type'] = 'display_data';\n",
              "        await google.colab.output.renderOutput(dataTable, element);\n",
              "        const docLink = document.createElement('div');\n",
              "        docLink.innerHTML = docLinkHtml;\n",
              "        element.appendChild(docLink);\n",
              "      }\n",
              "    </script>\n",
              "  </div>\n",
              "\n",
              "\n",
              "<div id=\"df-5c1f76ef-aab2-49f5-beb3-71ca21e7e40e\">\n",
              "  <button class=\"colab-df-quickchart\" onclick=\"quickchart('df-5c1f76ef-aab2-49f5-beb3-71ca21e7e40e')\"\n",
              "            title=\"Suggest charts\"\n",
              "            style=\"display:none;\">\n",
              "\n",
              "<svg xmlns=\"http://www.w3.org/2000/svg\" height=\"24px\"viewBox=\"0 0 24 24\"\n",
              "     width=\"24px\">\n",
              "    <g>\n",
              "        <path d=\"M19 3H5c-1.1 0-2 .9-2 2v14c0 1.1.9 2 2 2h14c1.1 0 2-.9 2-2V5c0-1.1-.9-2-2-2zM9 17H7v-7h2v7zm4 0h-2V7h2v10zm4 0h-2v-4h2v4z\"/>\n",
              "    </g>\n",
              "</svg>\n",
              "  </button>\n",
              "\n",
              "<style>\n",
              "  .colab-df-quickchart {\n",
              "      --bg-color: #E8F0FE;\n",
              "      --fill-color: #1967D2;\n",
              "      --hover-bg-color: #E2EBFA;\n",
              "      --hover-fill-color: #174EA6;\n",
              "      --disabled-fill-color: #AAA;\n",
              "      --disabled-bg-color: #DDD;\n",
              "  }\n",
              "\n",
              "  [theme=dark] .colab-df-quickchart {\n",
              "      --bg-color: #3B4455;\n",
              "      --fill-color: #D2E3FC;\n",
              "      --hover-bg-color: #434B5C;\n",
              "      --hover-fill-color: #FFFFFF;\n",
              "      --disabled-bg-color: #3B4455;\n",
              "      --disabled-fill-color: #666;\n",
              "  }\n",
              "\n",
              "  .colab-df-quickchart {\n",
              "    background-color: var(--bg-color);\n",
              "    border: none;\n",
              "    border-radius: 50%;\n",
              "    cursor: pointer;\n",
              "    display: none;\n",
              "    fill: var(--fill-color);\n",
              "    height: 32px;\n",
              "    padding: 0;\n",
              "    width: 32px;\n",
              "  }\n",
              "\n",
              "  .colab-df-quickchart:hover {\n",
              "    background-color: var(--hover-bg-color);\n",
              "    box-shadow: 0 1px 2px rgba(60, 64, 67, 0.3), 0 1px 3px 1px rgba(60, 64, 67, 0.15);\n",
              "    fill: var(--button-hover-fill-color);\n",
              "  }\n",
              "\n",
              "  .colab-df-quickchart-complete:disabled,\n",
              "  .colab-df-quickchart-complete:disabled:hover {\n",
              "    background-color: var(--disabled-bg-color);\n",
              "    fill: var(--disabled-fill-color);\n",
              "    box-shadow: none;\n",
              "  }\n",
              "\n",
              "  .colab-df-spinner {\n",
              "    border: 2px solid var(--fill-color);\n",
              "    border-color: transparent;\n",
              "    border-bottom-color: var(--fill-color);\n",
              "    animation:\n",
              "      spin 1s steps(1) infinite;\n",
              "  }\n",
              "\n",
              "  @keyframes spin {\n",
              "    0% {\n",
              "      border-color: transparent;\n",
              "      border-bottom-color: var(--fill-color);\n",
              "      border-left-color: var(--fill-color);\n",
              "    }\n",
              "    20% {\n",
              "      border-color: transparent;\n",
              "      border-left-color: var(--fill-color);\n",
              "      border-top-color: var(--fill-color);\n",
              "    }\n",
              "    30% {\n",
              "      border-color: transparent;\n",
              "      border-left-color: var(--fill-color);\n",
              "      border-top-color: var(--fill-color);\n",
              "      border-right-color: var(--fill-color);\n",
              "    }\n",
              "    40% {\n",
              "      border-color: transparent;\n",
              "      border-right-color: var(--fill-color);\n",
              "      border-top-color: var(--fill-color);\n",
              "    }\n",
              "    60% {\n",
              "      border-color: transparent;\n",
              "      border-right-color: var(--fill-color);\n",
              "    }\n",
              "    80% {\n",
              "      border-color: transparent;\n",
              "      border-right-color: var(--fill-color);\n",
              "      border-bottom-color: var(--fill-color);\n",
              "    }\n",
              "    90% {\n",
              "      border-color: transparent;\n",
              "      border-bottom-color: var(--fill-color);\n",
              "    }\n",
              "  }\n",
              "</style>\n",
              "\n",
              "  <script>\n",
              "    async function quickchart(key) {\n",
              "      const quickchartButtonEl =\n",
              "        document.querySelector('#' + key + ' button');\n",
              "      quickchartButtonEl.disabled = true;  // To prevent multiple clicks.\n",
              "      quickchartButtonEl.classList.add('colab-df-spinner');\n",
              "      try {\n",
              "        const charts = await google.colab.kernel.invokeFunction(\n",
              "            'suggestCharts', [key], {});\n",
              "      } catch (error) {\n",
              "        console.error('Error during call to suggestCharts:', error);\n",
              "      }\n",
              "      quickchartButtonEl.classList.remove('colab-df-spinner');\n",
              "      quickchartButtonEl.classList.add('colab-df-quickchart-complete');\n",
              "    }\n",
              "    (() => {\n",
              "      let quickchartButtonEl =\n",
              "        document.querySelector('#df-5c1f76ef-aab2-49f5-beb3-71ca21e7e40e button');\n",
              "      quickchartButtonEl.style.display =\n",
              "        google.colab.kernel.accessAllowed ? 'block' : 'none';\n",
              "    })();\n",
              "  </script>\n",
              "</div>\n",
              "\n",
              "    </div>\n",
              "  </div>\n"
            ]
          },
          "metadata": {},
          "execution_count": 88
        }
      ]
    },
    {
      "cell_type": "code",
      "source": [
        "# Let's create X & y, remove the NaN's and convert to float32 to prevent TensorFlow errors\n",
        "X = bitcoin_prices_windowed.dropna().drop(\"Price\", axis=1).astype(np.float32)\n",
        "y = bitcoin_prices_windowed.dropna()[\"Price\"].astype(np.float32)\n",
        "X.head()"
      ],
      "metadata": {
        "colab": {
          "base_uri": "https://localhost:8080/",
          "height": 237
        },
        "id": "ZUmt71Y42HBO",
        "outputId": "bdb329b7-e3e4-40ec-fdbd-25e95f41c728"
      },
      "execution_count": null,
      "outputs": [
        {
          "output_type": "execute_result",
          "data": {
            "text/plain": [
              "            block_reward     Price+1     Price+2     Price+3     Price+4  \\\n",
              "Date                                                                       \n",
              "2013-10-08          25.0  121.794998  120.655327  121.338661  118.674660   \n",
              "2013-10-09          25.0  123.032997  121.794998  120.655327  121.338661   \n",
              "2013-10-10          25.0  124.049004  123.032997  121.794998  120.655327   \n",
              "2013-10-11          25.0  125.961159  124.049004  123.032997  121.794998   \n",
              "2013-10-12          25.0  125.279663  125.961159  124.049004  123.032997   \n",
              "\n",
              "               Price+5     Price+6     Price+7  \n",
              "Date                                            \n",
              "2013-10-08  108.584831  125.455002  123.654991  \n",
              "2013-10-09  118.674660  108.584831  125.455002  \n",
              "2013-10-10  121.338661  118.674660  108.584831  \n",
              "2013-10-11  120.655327  121.338661  118.674660  \n",
              "2013-10-12  121.794998  120.655327  121.338661  "
            ],
            "text/html": [
              "\n",
              "  <div id=\"df-fafb3d6b-7a75-4978-9736-7170862ed55a\" class=\"colab-df-container\">\n",
              "    <div>\n",
              "<style scoped>\n",
              "    .dataframe tbody tr th:only-of-type {\n",
              "        vertical-align: middle;\n",
              "    }\n",
              "\n",
              "    .dataframe tbody tr th {\n",
              "        vertical-align: top;\n",
              "    }\n",
              "\n",
              "    .dataframe thead th {\n",
              "        text-align: right;\n",
              "    }\n",
              "</style>\n",
              "<table border=\"1\" class=\"dataframe\">\n",
              "  <thead>\n",
              "    <tr style=\"text-align: right;\">\n",
              "      <th></th>\n",
              "      <th>block_reward</th>\n",
              "      <th>Price+1</th>\n",
              "      <th>Price+2</th>\n",
              "      <th>Price+3</th>\n",
              "      <th>Price+4</th>\n",
              "      <th>Price+5</th>\n",
              "      <th>Price+6</th>\n",
              "      <th>Price+7</th>\n",
              "    </tr>\n",
              "    <tr>\n",
              "      <th>Date</th>\n",
              "      <th></th>\n",
              "      <th></th>\n",
              "      <th></th>\n",
              "      <th></th>\n",
              "      <th></th>\n",
              "      <th></th>\n",
              "      <th></th>\n",
              "      <th></th>\n",
              "    </tr>\n",
              "  </thead>\n",
              "  <tbody>\n",
              "    <tr>\n",
              "      <th>2013-10-08</th>\n",
              "      <td>25.0</td>\n",
              "      <td>121.794998</td>\n",
              "      <td>120.655327</td>\n",
              "      <td>121.338661</td>\n",
              "      <td>118.674660</td>\n",
              "      <td>108.584831</td>\n",
              "      <td>125.455002</td>\n",
              "      <td>123.654991</td>\n",
              "    </tr>\n",
              "    <tr>\n",
              "      <th>2013-10-09</th>\n",
              "      <td>25.0</td>\n",
              "      <td>123.032997</td>\n",
              "      <td>121.794998</td>\n",
              "      <td>120.655327</td>\n",
              "      <td>121.338661</td>\n",
              "      <td>118.674660</td>\n",
              "      <td>108.584831</td>\n",
              "      <td>125.455002</td>\n",
              "    </tr>\n",
              "    <tr>\n",
              "      <th>2013-10-10</th>\n",
              "      <td>25.0</td>\n",
              "      <td>124.049004</td>\n",
              "      <td>123.032997</td>\n",
              "      <td>121.794998</td>\n",
              "      <td>120.655327</td>\n",
              "      <td>121.338661</td>\n",
              "      <td>118.674660</td>\n",
              "      <td>108.584831</td>\n",
              "    </tr>\n",
              "    <tr>\n",
              "      <th>2013-10-11</th>\n",
              "      <td>25.0</td>\n",
              "      <td>125.961159</td>\n",
              "      <td>124.049004</td>\n",
              "      <td>123.032997</td>\n",
              "      <td>121.794998</td>\n",
              "      <td>120.655327</td>\n",
              "      <td>121.338661</td>\n",
              "      <td>118.674660</td>\n",
              "    </tr>\n",
              "    <tr>\n",
              "      <th>2013-10-12</th>\n",
              "      <td>25.0</td>\n",
              "      <td>125.279663</td>\n",
              "      <td>125.961159</td>\n",
              "      <td>124.049004</td>\n",
              "      <td>123.032997</td>\n",
              "      <td>121.794998</td>\n",
              "      <td>120.655327</td>\n",
              "      <td>121.338661</td>\n",
              "    </tr>\n",
              "  </tbody>\n",
              "</table>\n",
              "</div>\n",
              "    <div class=\"colab-df-buttons\">\n",
              "\n",
              "  <div class=\"colab-df-container\">\n",
              "    <button class=\"colab-df-convert\" onclick=\"convertToInteractive('df-fafb3d6b-7a75-4978-9736-7170862ed55a')\"\n",
              "            title=\"Convert this dataframe to an interactive table.\"\n",
              "            style=\"display:none;\">\n",
              "\n",
              "  <svg xmlns=\"http://www.w3.org/2000/svg\" height=\"24px\" viewBox=\"0 -960 960 960\">\n",
              "    <path d=\"M120-120v-720h720v720H120Zm60-500h600v-160H180v160Zm220 220h160v-160H400v160Zm0 220h160v-160H400v160ZM180-400h160v-160H180v160Zm440 0h160v-160H620v160ZM180-180h160v-160H180v160Zm440 0h160v-160H620v160Z\"/>\n",
              "  </svg>\n",
              "    </button>\n",
              "\n",
              "  <style>\n",
              "    .colab-df-container {\n",
              "      display:flex;\n",
              "      gap: 12px;\n",
              "    }\n",
              "\n",
              "    .colab-df-convert {\n",
              "      background-color: #E8F0FE;\n",
              "      border: none;\n",
              "      border-radius: 50%;\n",
              "      cursor: pointer;\n",
              "      display: none;\n",
              "      fill: #1967D2;\n",
              "      height: 32px;\n",
              "      padding: 0 0 0 0;\n",
              "      width: 32px;\n",
              "    }\n",
              "\n",
              "    .colab-df-convert:hover {\n",
              "      background-color: #E2EBFA;\n",
              "      box-shadow: 0px 1px 2px rgba(60, 64, 67, 0.3), 0px 1px 3px 1px rgba(60, 64, 67, 0.15);\n",
              "      fill: #174EA6;\n",
              "    }\n",
              "\n",
              "    .colab-df-buttons div {\n",
              "      margin-bottom: 4px;\n",
              "    }\n",
              "\n",
              "    [theme=dark] .colab-df-convert {\n",
              "      background-color: #3B4455;\n",
              "      fill: #D2E3FC;\n",
              "    }\n",
              "\n",
              "    [theme=dark] .colab-df-convert:hover {\n",
              "      background-color: #434B5C;\n",
              "      box-shadow: 0px 1px 3px 1px rgba(0, 0, 0, 0.15);\n",
              "      filter: drop-shadow(0px 1px 2px rgba(0, 0, 0, 0.3));\n",
              "      fill: #FFFFFF;\n",
              "    }\n",
              "  </style>\n",
              "\n",
              "    <script>\n",
              "      const buttonEl =\n",
              "        document.querySelector('#df-fafb3d6b-7a75-4978-9736-7170862ed55a button.colab-df-convert');\n",
              "      buttonEl.style.display =\n",
              "        google.colab.kernel.accessAllowed ? 'block' : 'none';\n",
              "\n",
              "      async function convertToInteractive(key) {\n",
              "        const element = document.querySelector('#df-fafb3d6b-7a75-4978-9736-7170862ed55a');\n",
              "        const dataTable =\n",
              "          await google.colab.kernel.invokeFunction('convertToInteractive',\n",
              "                                                    [key], {});\n",
              "        if (!dataTable) return;\n",
              "\n",
              "        const docLinkHtml = 'Like what you see? Visit the ' +\n",
              "          '<a target=\"_blank\" href=https://colab.research.google.com/notebooks/data_table.ipynb>data table notebook</a>'\n",
              "          + ' to learn more about interactive tables.';\n",
              "        element.innerHTML = '';\n",
              "        dataTable['output_type'] = 'display_data';\n",
              "        await google.colab.output.renderOutput(dataTable, element);\n",
              "        const docLink = document.createElement('div');\n",
              "        docLink.innerHTML = docLinkHtml;\n",
              "        element.appendChild(docLink);\n",
              "      }\n",
              "    </script>\n",
              "  </div>\n",
              "\n",
              "\n",
              "<div id=\"df-614c300d-22c1-40a1-a67e-fa791061672c\">\n",
              "  <button class=\"colab-df-quickchart\" onclick=\"quickchart('df-614c300d-22c1-40a1-a67e-fa791061672c')\"\n",
              "            title=\"Suggest charts\"\n",
              "            style=\"display:none;\">\n",
              "\n",
              "<svg xmlns=\"http://www.w3.org/2000/svg\" height=\"24px\"viewBox=\"0 0 24 24\"\n",
              "     width=\"24px\">\n",
              "    <g>\n",
              "        <path d=\"M19 3H5c-1.1 0-2 .9-2 2v14c0 1.1.9 2 2 2h14c1.1 0 2-.9 2-2V5c0-1.1-.9-2-2-2zM9 17H7v-7h2v7zm4 0h-2V7h2v10zm4 0h-2v-4h2v4z\"/>\n",
              "    </g>\n",
              "</svg>\n",
              "  </button>\n",
              "\n",
              "<style>\n",
              "  .colab-df-quickchart {\n",
              "      --bg-color: #E8F0FE;\n",
              "      --fill-color: #1967D2;\n",
              "      --hover-bg-color: #E2EBFA;\n",
              "      --hover-fill-color: #174EA6;\n",
              "      --disabled-fill-color: #AAA;\n",
              "      --disabled-bg-color: #DDD;\n",
              "  }\n",
              "\n",
              "  [theme=dark] .colab-df-quickchart {\n",
              "      --bg-color: #3B4455;\n",
              "      --fill-color: #D2E3FC;\n",
              "      --hover-bg-color: #434B5C;\n",
              "      --hover-fill-color: #FFFFFF;\n",
              "      --disabled-bg-color: #3B4455;\n",
              "      --disabled-fill-color: #666;\n",
              "  }\n",
              "\n",
              "  .colab-df-quickchart {\n",
              "    background-color: var(--bg-color);\n",
              "    border: none;\n",
              "    border-radius: 50%;\n",
              "    cursor: pointer;\n",
              "    display: none;\n",
              "    fill: var(--fill-color);\n",
              "    height: 32px;\n",
              "    padding: 0;\n",
              "    width: 32px;\n",
              "  }\n",
              "\n",
              "  .colab-df-quickchart:hover {\n",
              "    background-color: var(--hover-bg-color);\n",
              "    box-shadow: 0 1px 2px rgba(60, 64, 67, 0.3), 0 1px 3px 1px rgba(60, 64, 67, 0.15);\n",
              "    fill: var(--button-hover-fill-color);\n",
              "  }\n",
              "\n",
              "  .colab-df-quickchart-complete:disabled,\n",
              "  .colab-df-quickchart-complete:disabled:hover {\n",
              "    background-color: var(--disabled-bg-color);\n",
              "    fill: var(--disabled-fill-color);\n",
              "    box-shadow: none;\n",
              "  }\n",
              "\n",
              "  .colab-df-spinner {\n",
              "    border: 2px solid var(--fill-color);\n",
              "    border-color: transparent;\n",
              "    border-bottom-color: var(--fill-color);\n",
              "    animation:\n",
              "      spin 1s steps(1) infinite;\n",
              "  }\n",
              "\n",
              "  @keyframes spin {\n",
              "    0% {\n",
              "      border-color: transparent;\n",
              "      border-bottom-color: var(--fill-color);\n",
              "      border-left-color: var(--fill-color);\n",
              "    }\n",
              "    20% {\n",
              "      border-color: transparent;\n",
              "      border-left-color: var(--fill-color);\n",
              "      border-top-color: var(--fill-color);\n",
              "    }\n",
              "    30% {\n",
              "      border-color: transparent;\n",
              "      border-left-color: var(--fill-color);\n",
              "      border-top-color: var(--fill-color);\n",
              "      border-right-color: var(--fill-color);\n",
              "    }\n",
              "    40% {\n",
              "      border-color: transparent;\n",
              "      border-right-color: var(--fill-color);\n",
              "      border-top-color: var(--fill-color);\n",
              "    }\n",
              "    60% {\n",
              "      border-color: transparent;\n",
              "      border-right-color: var(--fill-color);\n",
              "    }\n",
              "    80% {\n",
              "      border-color: transparent;\n",
              "      border-right-color: var(--fill-color);\n",
              "      border-bottom-color: var(--fill-color);\n",
              "    }\n",
              "    90% {\n",
              "      border-color: transparent;\n",
              "      border-bottom-color: var(--fill-color);\n",
              "    }\n",
              "  }\n",
              "</style>\n",
              "\n",
              "  <script>\n",
              "    async function quickchart(key) {\n",
              "      const quickchartButtonEl =\n",
              "        document.querySelector('#' + key + ' button');\n",
              "      quickchartButtonEl.disabled = true;  // To prevent multiple clicks.\n",
              "      quickchartButtonEl.classList.add('colab-df-spinner');\n",
              "      try {\n",
              "        const charts = await google.colab.kernel.invokeFunction(\n",
              "            'suggestCharts', [key], {});\n",
              "      } catch (error) {\n",
              "        console.error('Error during call to suggestCharts:', error);\n",
              "      }\n",
              "      quickchartButtonEl.classList.remove('colab-df-spinner');\n",
              "      quickchartButtonEl.classList.add('colab-df-quickchart-complete');\n",
              "    }\n",
              "    (() => {\n",
              "      let quickchartButtonEl =\n",
              "        document.querySelector('#df-614c300d-22c1-40a1-a67e-fa791061672c button');\n",
              "      quickchartButtonEl.style.display =\n",
              "        google.colab.kernel.accessAllowed ? 'block' : 'none';\n",
              "    })();\n",
              "  </script>\n",
              "</div>\n",
              "\n",
              "    </div>\n",
              "  </div>\n"
            ]
          },
          "metadata": {},
          "execution_count": 89
        }
      ]
    },
    {
      "cell_type": "code",
      "source": [
        "# View labels\n",
        "y.head()"
      ],
      "metadata": {
        "colab": {
          "base_uri": "https://localhost:8080/"
        },
        "id": "PKzIbOTD2MhL",
        "outputId": "b40dae0d-2c9a-45ac-be4f-9e159edf9d72"
      },
      "execution_count": null,
      "outputs": [
        {
          "output_type": "execute_result",
          "data": {
            "text/plain": [
              "Date\n",
              "2013-10-08    123.032997\n",
              "2013-10-09    124.049004\n",
              "2013-10-10    125.961159\n",
              "2013-10-11    125.279663\n",
              "2013-10-12    125.927498\n",
              "Name: Price, dtype: float32"
            ]
          },
          "metadata": {},
          "execution_count": 90
        }
      ]
    },
    {
      "cell_type": "code",
      "source": [
        "# Make train and test sets\n",
        "split_size = int(len(X) * 0.8)\n",
        "X_train, y_train = X[:split_size], y[:split_size]\n",
        "X_test, y_test = X[split_size:], y[split_size:]\n",
        "len(X_train), len(y_train), len(X_test), len(y_test)"
      ],
      "metadata": {
        "colab": {
          "base_uri": "https://localhost:8080/"
        },
        "id": "GYLO9oG42VJq",
        "outputId": "14d43f8d-ffba-4dec-e08c-5f2b6077136c"
      },
      "execution_count": null,
      "outputs": [
        {
          "output_type": "execute_result",
          "data": {
            "text/plain": [
              "(2224, 2224, 556, 556)"
            ]
          },
          "metadata": {},
          "execution_count": 91
        }
      ]
    },
    {
      "cell_type": "markdown",
      "source": [
        "#Model 6: Dense (multivariate time series)"
      ],
      "metadata": {
        "id": "0B1k6O2Z2Ztu"
      }
    },
    {
      "cell_type": "code",
      "source": [
        "tf.random.set_seed(42)\n",
        "\n",
        "# Make multivariate time series model\n",
        "model_6 = tf.keras.Sequential([\n",
        "  layers.Dense(128, activation=\"relu\"),\n",
        "  # layers.Dense(128, activation=\"relu\"), # adding an extra layer here should lead to beating the naive model\n",
        "  layers.Dense(HORIZON)\n",
        "], name=\"model_6_dense_multivariate\")\n",
        "\n",
        "# Compile\n",
        "model_6.compile(loss=\"mae\",\n",
        "                optimizer=tf.keras.optimizers.Adam())\n",
        "\n",
        "# Fit\n",
        "model_6.fit(X_train, y_train,\n",
        "            epochs=100,\n",
        "            batch_size=128,\n",
        "            verbose=0, # only print 1 line per epoch\n",
        "            validation_data=(X_test, y_test),\n",
        "            callbacks=[create_model_checkpoint(model_name=model_6.name)])"
      ],
      "metadata": {
        "colab": {
          "base_uri": "https://localhost:8080/"
        },
        "id": "LfVEMVcg2Xxr",
        "outputId": "6410e4aa-f83c-4cb0-e1c2-e858e72baec0"
      },
      "execution_count": null,
      "outputs": [
        {
          "output_type": "execute_result",
          "data": {
            "text/plain": [
              "<keras.src.callbacks.History at 0x7ff744496830>"
            ]
          },
          "metadata": {},
          "execution_count": 92
        }
      ]
    },
    {
      "cell_type": "code",
      "source": [
        "# Make sure best model is loaded and evaluate\n",
        "model_6 = tf.keras.models.load_model(\"model_experiments/model_6_dense_multivariate\")\n",
        "model_6.evaluate(X_test, y_test)"
      ],
      "metadata": {
        "colab": {
          "base_uri": "https://localhost:8080/"
        },
        "id": "s0zIUrn22xvh",
        "outputId": "976a09c8-500f-4eb6-ef5a-a75f84b6f599"
      },
      "execution_count": null,
      "outputs": [
        {
          "output_type": "stream",
          "name": "stdout",
          "text": [
            "18/18 [==============================] - 0s 3ms/step - loss: 579.0025\n"
          ]
        },
        {
          "output_type": "execute_result",
          "data": {
            "text/plain": [
              "579.0025024414062"
            ]
          },
          "metadata": {},
          "execution_count": 93
        }
      ]
    },
    {
      "cell_type": "code",
      "source": [
        "# Make predictions on multivariate data\n",
        "model_6_preds = tf.squeeze(model_6.predict(X_test))\n",
        "model_6_preds[:10]"
      ],
      "metadata": {
        "colab": {
          "base_uri": "https://localhost:8080/"
        },
        "id": "G4EZfLjO20oe",
        "outputId": "26061c1a-a72b-4d13-dfff-dd9480148f80"
      },
      "execution_count": null,
      "outputs": [
        {
          "output_type": "stream",
          "name": "stdout",
          "text": [
            "18/18 [==============================] - 0s 2ms/step\n"
          ]
        },
        {
          "output_type": "execute_result",
          "data": {
            "text/plain": [
              "<tf.Tensor: shape=(10,), dtype=float32, numpy=\n",
              "array([8904.53 , 8770.278, 9027.986, 8853.722, 8712.163, 8737.104,\n",
              "       8728.194, 8517.624, 8473.059, 8531.958], dtype=float32)>"
            ]
          },
          "metadata": {},
          "execution_count": 94
        }
      ]
    },
    {
      "cell_type": "code",
      "source": [
        "# Evaluate preds\n",
        "model_6_results = evaluate_preds(y_true=y_test,\n",
        "                                 y_pred=model_6_preds)\n",
        "model_6_results"
      ],
      "metadata": {
        "colab": {
          "base_uri": "https://localhost:8080/"
        },
        "id": "RW-zvlEB226C",
        "outputId": "f4a422ff-2686-4b4a-9718-79d7defb2812"
      },
      "execution_count": null,
      "outputs": [
        {
          "output_type": "execute_result",
          "data": {
            "text/plain": [
              "{'mae': 579.0025, 'mse': 1203806.8, 'rmse': 1097.1813, 'mape': 2.5878053}"
            ]
          },
          "metadata": {},
          "execution_count": 95
        }
      ]
    },
    {
      "cell_type": "code",
      "source": [
        "model_1_results"
      ],
      "metadata": {
        "colab": {
          "base_uri": "https://localhost:8080/"
        },
        "id": "4unTYWZY24-_",
        "outputId": "cfc22d60-7d75-47cc-8985-3e5891e50657"
      },
      "execution_count": null,
      "outputs": [
        {
          "output_type": "execute_result",
          "data": {
            "text/plain": [
              "{'mae': 628.70416,\n",
              " 'mse': 1285725.0,\n",
              " 'rmse': 1133.8981,\n",
              " 'mape': 2.8432212,\n",
              " 'mase': 1.104459}"
            ]
          },
          "metadata": {},
          "execution_count": 96
        }
      ]
    },
    {
      "cell_type": "markdown",
      "source": [
        "##Future importance and outlier detection"
      ],
      "metadata": {
        "id": "_OE135vm3CGY"
      }
    },
    {
      "cell_type": "code",
      "source": [
        "from collections import Counter\n",
        "def detect_outliers(df, features):\n",
        "  outlier_indices = []\n",
        "\n",
        "  for f in features:\n",
        "    Q1 = np.percentile(df[f], 25)\n",
        "    Q3 = np.percentile(df[f], 75)\n",
        "    IQR = Q3 - Q1\n",
        "\n",
        "    outlier_step = IQR * 1.5\n",
        "    outlier_list_column = df[(df[f] < Q1 - outlier_step) | (df[f] > Q3 + outlier_step)].index\n",
        "    outlier_indices.extend(outlier_list_column)\n",
        "\n",
        "  outlier_indices = Counter(outlier_indices)\n",
        "  multiple_outliers = list(i for i, v in outlier_indices.items() if v > 0)\n",
        "\n",
        "  return multiple_outliers"
      ],
      "metadata": {
        "id": "F6mnhi3v582v"
      },
      "execution_count": null,
      "outputs": []
    },
    {
      "cell_type": "code",
      "source": [
        "bitcoin_prices_windowed.loc[detect_outliers(bitcoin_prices_windowed, ['block_reward', 'Price+1', 'Price+2', 'Price+3',\n",
        "                                                                      'Price+4', 'Price+5', 'Price+6', 'Price+7'])]"
      ],
      "metadata": {
        "colab": {
          "base_uri": "https://localhost:8080/",
          "height": 81
        },
        "id": "LgQVplfI59aS",
        "outputId": "1dd30a18-3b76-455f-ef76-d39031584af9"
      },
      "execution_count": null,
      "outputs": [
        {
          "output_type": "execute_result",
          "data": {
            "text/plain": [
              "Empty DataFrame\n",
              "Columns: [Price, block_reward, Price+1, Price+2, Price+3, Price+4, Price+5, Price+6, Price+7]\n",
              "Index: []"
            ],
            "text/html": [
              "\n",
              "  <div id=\"df-0dd2b1b5-2bd9-42ed-8f02-0681464c6f58\" class=\"colab-df-container\">\n",
              "    <div>\n",
              "<style scoped>\n",
              "    .dataframe tbody tr th:only-of-type {\n",
              "        vertical-align: middle;\n",
              "    }\n",
              "\n",
              "    .dataframe tbody tr th {\n",
              "        vertical-align: top;\n",
              "    }\n",
              "\n",
              "    .dataframe thead th {\n",
              "        text-align: right;\n",
              "    }\n",
              "</style>\n",
              "<table border=\"1\" class=\"dataframe\">\n",
              "  <thead>\n",
              "    <tr style=\"text-align: right;\">\n",
              "      <th></th>\n",
              "      <th>Price</th>\n",
              "      <th>block_reward</th>\n",
              "      <th>Price+1</th>\n",
              "      <th>Price+2</th>\n",
              "      <th>Price+3</th>\n",
              "      <th>Price+4</th>\n",
              "      <th>Price+5</th>\n",
              "      <th>Price+6</th>\n",
              "      <th>Price+7</th>\n",
              "    </tr>\n",
              "    <tr>\n",
              "      <th>Date</th>\n",
              "      <th></th>\n",
              "      <th></th>\n",
              "      <th></th>\n",
              "      <th></th>\n",
              "      <th></th>\n",
              "      <th></th>\n",
              "      <th></th>\n",
              "      <th></th>\n",
              "      <th></th>\n",
              "    </tr>\n",
              "  </thead>\n",
              "  <tbody>\n",
              "  </tbody>\n",
              "</table>\n",
              "</div>\n",
              "    <div class=\"colab-df-buttons\">\n",
              "\n",
              "  <div class=\"colab-df-container\">\n",
              "    <button class=\"colab-df-convert\" onclick=\"convertToInteractive('df-0dd2b1b5-2bd9-42ed-8f02-0681464c6f58')\"\n",
              "            title=\"Convert this dataframe to an interactive table.\"\n",
              "            style=\"display:none;\">\n",
              "\n",
              "  <svg xmlns=\"http://www.w3.org/2000/svg\" height=\"24px\" viewBox=\"0 -960 960 960\">\n",
              "    <path d=\"M120-120v-720h720v720H120Zm60-500h600v-160H180v160Zm220 220h160v-160H400v160Zm0 220h160v-160H400v160ZM180-400h160v-160H180v160Zm440 0h160v-160H620v160ZM180-180h160v-160H180v160Zm440 0h160v-160H620v160Z\"/>\n",
              "  </svg>\n",
              "    </button>\n",
              "\n",
              "  <style>\n",
              "    .colab-df-container {\n",
              "      display:flex;\n",
              "      gap: 12px;\n",
              "    }\n",
              "\n",
              "    .colab-df-convert {\n",
              "      background-color: #E8F0FE;\n",
              "      border: none;\n",
              "      border-radius: 50%;\n",
              "      cursor: pointer;\n",
              "      display: none;\n",
              "      fill: #1967D2;\n",
              "      height: 32px;\n",
              "      padding: 0 0 0 0;\n",
              "      width: 32px;\n",
              "    }\n",
              "\n",
              "    .colab-df-convert:hover {\n",
              "      background-color: #E2EBFA;\n",
              "      box-shadow: 0px 1px 2px rgba(60, 64, 67, 0.3), 0px 1px 3px 1px rgba(60, 64, 67, 0.15);\n",
              "      fill: #174EA6;\n",
              "    }\n",
              "\n",
              "    .colab-df-buttons div {\n",
              "      margin-bottom: 4px;\n",
              "    }\n",
              "\n",
              "    [theme=dark] .colab-df-convert {\n",
              "      background-color: #3B4455;\n",
              "      fill: #D2E3FC;\n",
              "    }\n",
              "\n",
              "    [theme=dark] .colab-df-convert:hover {\n",
              "      background-color: #434B5C;\n",
              "      box-shadow: 0px 1px 3px 1px rgba(0, 0, 0, 0.15);\n",
              "      filter: drop-shadow(0px 1px 2px rgba(0, 0, 0, 0.3));\n",
              "      fill: #FFFFFF;\n",
              "    }\n",
              "  </style>\n",
              "\n",
              "    <script>\n",
              "      const buttonEl =\n",
              "        document.querySelector('#df-0dd2b1b5-2bd9-42ed-8f02-0681464c6f58 button.colab-df-convert');\n",
              "      buttonEl.style.display =\n",
              "        google.colab.kernel.accessAllowed ? 'block' : 'none';\n",
              "\n",
              "      async function convertToInteractive(key) {\n",
              "        const element = document.querySelector('#df-0dd2b1b5-2bd9-42ed-8f02-0681464c6f58');\n",
              "        const dataTable =\n",
              "          await google.colab.kernel.invokeFunction('convertToInteractive',\n",
              "                                                    [key], {});\n",
              "        if (!dataTable) return;\n",
              "\n",
              "        const docLinkHtml = 'Like what you see? Visit the ' +\n",
              "          '<a target=\"_blank\" href=https://colab.research.google.com/notebooks/data_table.ipynb>data table notebook</a>'\n",
              "          + ' to learn more about interactive tables.';\n",
              "        element.innerHTML = '';\n",
              "        dataTable['output_type'] = 'display_data';\n",
              "        await google.colab.output.renderOutput(dataTable, element);\n",
              "        const docLink = document.createElement('div');\n",
              "        docLink.innerHTML = docLinkHtml;\n",
              "        element.appendChild(docLink);\n",
              "      }\n",
              "    </script>\n",
              "  </div>\n",
              "\n",
              "\n",
              "    </div>\n",
              "  </div>\n"
            ]
          },
          "metadata": {},
          "execution_count": 98
        }
      ]
    },
    {
      "cell_type": "code",
      "source": [
        "from sklearn.feature_selection import SelectKBest\n",
        "from sklearn.feature_selection import f_regression\n",
        "\n",
        "# configure to select all features\n",
        "fs = SelectKBest(score_func=f_regression, k='all')\n",
        "# learn relationship from training data\n",
        "fs.fit(X_train, y_train)\n",
        "# transform train input data\n",
        "X_train_fs = fs.transform(X_train)\n",
        "# transform test input data\n",
        "X_test_fs = fs.transform(X_test)\n",
        "print(X_train_fs, X_test_fs, fs)"
      ],
      "metadata": {
        "colab": {
          "base_uri": "https://localhost:8080/"
        },
        "id": "HX-VbYC-7MSU",
        "outputId": "d7454705-c200-49bb-b04d-76aad58020db"
      },
      "execution_count": null,
      "outputs": [
        {
          "output_type": "stream",
          "name": "stdout",
          "text": [
            "[[  25.       121.795    120.65533 ...  108.58483  125.455    123.65499]\n",
            " [  25.       123.033    121.795   ...  118.67466  108.58483  125.455  ]\n",
            " [  25.       124.049    123.033   ...  121.33866  118.67466  108.58483]\n",
            " ...\n",
            " [  12.5     9326.6     9369.628   ... 9197.633   9131.41    9225.995  ]\n",
            " [  12.5     9335.752   9326.6     ... 9290.896   9197.633   9131.41   ]\n",
            " [  12.5     9226.485   9335.752   ... 9202.415   9290.896   9197.633  ]] [[1.2500000e+01 8.7943584e+03 9.2264854e+03 ... 9.3696279e+03\n",
            "  9.2024150e+03 9.2908965e+03]\n",
            " [1.2500000e+01 8.7980420e+03 8.7943584e+03 ... 9.3265996e+03\n",
            "  9.3696279e+03 9.2024150e+03]\n",
            " [1.2500000e+01 9.0811865e+03 8.7980420e+03 ... 9.3357520e+03\n",
            "  9.3265996e+03 9.3696279e+03]\n",
            " ...\n",
            " [6.2500000e+00 5.0032691e+04 4.9764133e+04 ... 5.5715547e+04\n",
            "  5.8102191e+04 5.8788211e+04]\n",
            " [6.2500000e+00 4.7885625e+04 5.0032691e+04 ... 5.6573555e+04\n",
            "  5.5715547e+04 5.8102191e+04]\n",
            " [6.2500000e+00 4.5604617e+04 4.7885625e+04 ... 5.2147820e+04\n",
            "  5.6573555e+04 5.5715547e+04]] SelectKBest(k='all', score_func=<function f_regression at 0x7ff737a305e0>)\n"
          ]
        }
      ]
    },
    {
      "cell_type": "code",
      "source": [
        "import matplotlib.pyplot as pyplot\n",
        "\n",
        "# what are scores for the features\n",
        "for i in range(len(fs.scores_)):\n",
        " print('Feature %d: %f' % (i, fs.scores_[i]))\n",
        "# plot the scores\n",
        "pyplot.bar([i for i in range(len(fs.scores_))], fs.scores_)\n",
        "pyplot.show()"
      ],
      "metadata": {
        "colab": {
          "base_uri": "https://localhost:8080/",
          "height": 576
        },
        "id": "I8ngn0K08tTD",
        "outputId": "5ad0a3ee-85dc-4912-df04-434fcc55b30c"
      },
      "execution_count": null,
      "outputs": [
        {
          "output_type": "stream",
          "name": "stdout",
          "text": [
            "Feature 0: 1707.927971\n",
            "Feature 1: 453750.090763\n",
            "Feature 2: 240436.443875\n",
            "Feature 3: 161562.832852\n",
            "Feature 4: 120282.517176\n",
            "Feature 5: 95739.250987\n",
            "Feature 6: 80338.411045\n",
            "Feature 7: 67414.302255\n"
          ]
        },
        {
          "output_type": "display_data",
          "data": {
            "text/plain": [
              "<Figure size 640x480 with 1 Axes>"
            ],
            "image/png": "[encoded data removed]"
          },
          "metadata": {}
        }
      ]
    },
    {
      "cell_type": "code",
      "source": [
        "from sklearn.ensemble import RandomForestRegressor\n",
        "\n",
        "model = RandomForestRegressor()\n",
        "\n",
        "model.fit(X_train, y_train)\n",
        "\n",
        "print(f\"model score on training data: {model.score(X_train, y_train)}\")\n",
        "print(f\"model score on testing data: {model.score(X_test, y_test)}\")"
      ],
      "metadata": {
        "colab": {
          "base_uri": "https://localhost:8080/"
        },
        "id": "xJUR2NYC_Nff",
        "outputId": "2478305a-c302-4d20-d304-ac1d4b79fc9b"
      },
      "execution_count": null,
      "outputs": [
        {
          "output_type": "stream",
          "name": "stdout",
          "text": [
            "model score on training data: 0.9991938131481714\n",
            "model score on testing data: 0.14437737767832726\n"
          ]
        }
      ]
    },
    {
      "cell_type": "code",
      "source": [
        "importances = model.feature_importances_"
      ],
      "metadata": {
        "id": "m3qnOZSv_OKu"
      },
      "execution_count": null,
      "outputs": []
    },
    {
      "cell_type": "code",
      "source": [
        "indices = np.argsort(importances)\n",
        "\n",
        "fig, ax = plt.subplots()\n",
        "ax.barh(range(len(importances)), importances[indices])\n",
        "ax.set_yticks(range(len(importances)))\n",
        "_ = ax.set_yticklabels(np.array(X_train.columns)[indices])"
      ],
      "metadata": {
        "id": "jV-RbGwm_RyN",
        "outputId": "ac94489f-3b27-463f-bb32-f02d606b8a8b",
        "colab": {
          "base_uri": "https://localhost:8080/",
          "height": 430
        }
      },
      "execution_count": null,
      "outputs": [
        {
          "output_type": "display_data",
          "data": {
            "text/plain": [
              "<Figure size 640x480 with 1 Axes>"
            ],
            "image/png": "[encoded data removed]"
          },
          "metadata": {}
        }
      ]
    },
    {
      "cell_type": "code",
      "source": [
        "print(bitcoin_prices.iloc[-1])"
      ],
      "metadata": {
        "colab": {
          "base_uri": "https://localhost:8080/"
        },
        "id": "w3L5C0XaN-cu",
        "outputId": "76995803-f804-4067-c672-d1ba8dceeb87"
      },
      "execution_count": null,
      "outputs": [
        {
          "output_type": "stream",
          "name": "stdout",
          "text": [
            "Price    43144.471291\n",
            "Name: 2021-05-18 00:00:00, dtype: float64\n"
          ]
        }
      ]
    }
  ]
}